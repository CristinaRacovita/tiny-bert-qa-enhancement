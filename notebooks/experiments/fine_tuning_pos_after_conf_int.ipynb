{
 "cells": [
  {
   "cell_type": "markdown",
   "metadata": {
    "id": "nUvke2_NVUxT"
   },
   "source": [
    "### 0. Import libraries and load data"
   ]
  },
  {
   "cell_type": "code",
   "execution_count": 1,
   "metadata": {
    "colab": {
     "base_uri": "https://localhost:8080/"
    },
    "id": "Gk0khrdWVo-D",
    "outputId": "9b0a1334-03b6-417f-9c62-9c2a88376d45"
   },
   "outputs": [
    {
     "name": "stdout",
     "output_type": "stream",
     "text": [
      "Defaulting to user installation because normal site-packages is not writeable\n",
      "Requirement already satisfied: evaluate in ./.local/lib/python3.8/site-packages (0.4.1)\n",
      "Requirement already satisfied: datasets>=2.0.0 in ./.local/lib/python3.8/site-packages (from evaluate) (2.14.5)\n",
      "Requirement already satisfied: numpy>=1.17 in /usr/local/lib/python3.8/dist-packages (from evaluate) (1.23.1)\n",
      "Requirement already satisfied: dill in ./.local/lib/python3.8/site-packages (from evaluate) (0.3.7)\n",
      "Requirement already satisfied: pandas in /usr/local/lib/python3.8/dist-packages (from evaluate) (2.0.3)\n",
      "Requirement already satisfied: requests>=2.19.0 in /usr/local/lib/python3.8/dist-packages (from evaluate) (2.31.0)\n",
      "Requirement already satisfied: tqdm>=4.62.1 in /usr/local/lib/python3.8/dist-packages (from evaluate) (4.65.0)\n",
      "Requirement already satisfied: xxhash in ./.local/lib/python3.8/site-packages (from evaluate) (3.4.1)\n",
      "Requirement already satisfied: multiprocess in ./.local/lib/python3.8/site-packages (from evaluate) (0.70.15)\n",
      "Requirement already satisfied: fsspec[http]>=2021.05.0 in /usr/local/lib/python3.8/dist-packages (from evaluate) (2023.6.0)\n",
      "Requirement already satisfied: huggingface-hub>=0.7.0 in ./.local/lib/python3.8/site-packages (from evaluate) (0.17.3)\n",
      "Requirement already satisfied: packaging in /usr/local/lib/python3.8/dist-packages (from evaluate) (23.1)\n",
      "Requirement already satisfied: responses<0.19 in ./.local/lib/python3.8/site-packages (from evaluate) (0.18.0)\n",
      "Requirement already satisfied: pyarrow>=8.0.0 in ./.local/lib/python3.8/site-packages (from datasets>=2.0.0->evaluate) (13.0.0)\n",
      "Requirement already satisfied: aiohttp in /usr/local/lib/python3.8/dist-packages (from datasets>=2.0.0->evaluate) (3.8.4)\n",
      "Requirement already satisfied: pyyaml>=5.1 in /usr/local/lib/python3.8/dist-packages (from datasets>=2.0.0->evaluate) (6.0)\n",
      "Requirement already satisfied: filelock in /usr/local/lib/python3.8/dist-packages (from huggingface-hub>=0.7.0->evaluate) (3.12.2)\n",
      "Requirement already satisfied: typing-extensions>=3.7.4.3 in /usr/local/lib/python3.8/dist-packages (from huggingface-hub>=0.7.0->evaluate) (4.7.1)\n",
      "Requirement already satisfied: charset-normalizer<4,>=2 in /usr/local/lib/python3.8/dist-packages (from requests>=2.19.0->evaluate) (3.1.0)\n",
      "Requirement already satisfied: idna<4,>=2.5 in /usr/lib/python3/dist-packages (from requests>=2.19.0->evaluate) (2.8)\n",
      "Requirement already satisfied: urllib3<3,>=1.21.1 in ./.local/lib/python3.8/site-packages (from requests>=2.19.0->evaluate) (2.0.7)\n",
      "Requirement already satisfied: certifi>=2017.4.17 in /usr/lib/python3/dist-packages (from requests>=2.19.0->evaluate) (2019.11.28)\n",
      "Requirement already satisfied: python-dateutil>=2.8.2 in /usr/local/lib/python3.8/dist-packages (from pandas->evaluate) (2.8.2)\n",
      "Requirement already satisfied: pytz>=2020.1 in /usr/local/lib/python3.8/dist-packages (from pandas->evaluate) (2023.3)\n",
      "Requirement already satisfied: tzdata>=2022.1 in /usr/local/lib/python3.8/dist-packages (from pandas->evaluate) (2023.3)\n",
      "Requirement already satisfied: attrs>=17.3.0 in /usr/lib/python3/dist-packages (from aiohttp->datasets>=2.0.0->evaluate) (19.3.0)\n",
      "Requirement already satisfied: multidict<7.0,>=4.5 in /usr/local/lib/python3.8/dist-packages (from aiohttp->datasets>=2.0.0->evaluate) (6.0.4)\n",
      "Requirement already satisfied: async-timeout<5.0,>=4.0.0a3 in /usr/local/lib/python3.8/dist-packages (from aiohttp->datasets>=2.0.0->evaluate) (4.0.2)\n",
      "Requirement already satisfied: yarl<2.0,>=1.0 in /usr/local/lib/python3.8/dist-packages (from aiohttp->datasets>=2.0.0->evaluate) (1.9.2)\n",
      "Requirement already satisfied: frozenlist>=1.1.1 in /usr/local/lib/python3.8/dist-packages (from aiohttp->datasets>=2.0.0->evaluate) (1.3.3)\n",
      "Requirement already satisfied: aiosignal>=1.1.2 in /usr/local/lib/python3.8/dist-packages (from aiohttp->datasets>=2.0.0->evaluate) (1.3.1)\n",
      "Requirement already satisfied: six>=1.5 in /usr/lib/python3/dist-packages (from python-dateutil>=2.8.2->pandas->evaluate) (1.14.0)\n",
      "\n",
      "\u001b[1m[\u001b[0m\u001b[34;49mnotice\u001b[0m\u001b[1;39;49m]\u001b[0m\u001b[39;49m A new release of pip is available: \u001b[0m\u001b[31;49m23.1.2\u001b[0m\u001b[39;49m -> \u001b[0m\u001b[32;49m23.3\u001b[0m\n",
      "\u001b[1m[\u001b[0m\u001b[34;49mnotice\u001b[0m\u001b[1;39;49m]\u001b[0m\u001b[39;49m To update, run: \u001b[0m\u001b[32;49mpython -m pip install --upgrade pip\u001b[0m\n"
     ]
    }
   ],
   "source": [
    "!pip install evaluate"
   ]
  },
  {
   "cell_type": "code",
   "execution_count": 2,
   "metadata": {
    "colab": {
     "base_uri": "https://localhost:8080/"
    },
    "id": "lNezSfSrVvjY",
    "outputId": "d43c5cd8-5a17-4c40-e03f-b71fe57da974"
   },
   "outputs": [
    {
     "name": "stdout",
     "output_type": "stream",
     "text": [
      "Defaulting to user installation because normal site-packages is not writeable\n",
      "Requirement already satisfied: transformers in ./.local/lib/python3.8/site-packages (4.34.0)\n",
      "Requirement already satisfied: filelock in /usr/local/lib/python3.8/dist-packages (from transformers) (3.12.2)\n",
      "Requirement already satisfied: huggingface-hub<1.0,>=0.16.4 in ./.local/lib/python3.8/site-packages (from transformers) (0.17.3)\n",
      "Requirement already satisfied: numpy>=1.17 in /usr/local/lib/python3.8/dist-packages (from transformers) (1.23.1)\n",
      "Requirement already satisfied: packaging>=20.0 in /usr/local/lib/python3.8/dist-packages (from transformers) (23.1)\n",
      "Requirement already satisfied: pyyaml>=5.1 in /usr/local/lib/python3.8/dist-packages (from transformers) (6.0)\n",
      "Requirement already satisfied: regex!=2019.12.17 in ./.local/lib/python3.8/site-packages (from transformers) (2023.10.3)\n",
      "Requirement already satisfied: requests in /usr/local/lib/python3.8/dist-packages (from transformers) (2.31.0)\n",
      "Requirement already satisfied: tokenizers<0.15,>=0.14 in ./.local/lib/python3.8/site-packages (from transformers) (0.14.1)\n",
      "Requirement already satisfied: safetensors>=0.3.1 in ./.local/lib/python3.8/site-packages (from transformers) (0.4.0)\n",
      "Requirement already satisfied: tqdm>=4.27 in /usr/local/lib/python3.8/dist-packages (from transformers) (4.65.0)\n",
      "Requirement already satisfied: fsspec in /usr/local/lib/python3.8/dist-packages (from huggingface-hub<1.0,>=0.16.4->transformers) (2023.6.0)\n",
      "Requirement already satisfied: typing-extensions>=3.7.4.3 in /usr/local/lib/python3.8/dist-packages (from huggingface-hub<1.0,>=0.16.4->transformers) (4.7.1)\n",
      "Requirement already satisfied: charset-normalizer<4,>=2 in /usr/local/lib/python3.8/dist-packages (from requests->transformers) (3.1.0)\n",
      "Requirement already satisfied: idna<4,>=2.5 in /usr/lib/python3/dist-packages (from requests->transformers) (2.8)\n",
      "Requirement already satisfied: urllib3<3,>=1.21.1 in ./.local/lib/python3.8/site-packages (from requests->transformers) (2.0.7)\n",
      "Requirement already satisfied: certifi>=2017.4.17 in /usr/lib/python3/dist-packages (from requests->transformers) (2019.11.28)\n",
      "\n",
      "\u001b[1m[\u001b[0m\u001b[34;49mnotice\u001b[0m\u001b[1;39;49m]\u001b[0m\u001b[39;49m A new release of pip is available: \u001b[0m\u001b[31;49m23.1.2\u001b[0m\u001b[39;49m -> \u001b[0m\u001b[32;49m23.3\u001b[0m\n",
      "\u001b[1m[\u001b[0m\u001b[34;49mnotice\u001b[0m\u001b[1;39;49m]\u001b[0m\u001b[39;49m To update, run: \u001b[0m\u001b[32;49mpython -m pip install --upgrade pip\u001b[0m\n"
     ]
    }
   ],
   "source": [
    "!pip install transformers"
   ]
  },
  {
   "cell_type": "code",
   "execution_count": 3,
   "metadata": {
    "colab": {
     "base_uri": "https://localhost:8080/"
    },
    "id": "Wl45IqNAV9us",
    "outputId": "19701ed5-0c5d-44f6-9337-6dd1882f7d9f"
   },
   "outputs": [
    {
     "name": "stdout",
     "output_type": "stream",
     "text": [
      "Defaulting to user installation because normal site-packages is not writeable\n",
      "Requirement already satisfied: accelerate in ./.local/lib/python3.8/site-packages (0.23.0)\n",
      "Requirement already satisfied: numpy>=1.17 in /usr/local/lib/python3.8/dist-packages (from accelerate) (1.23.1)\n",
      "Requirement already satisfied: packaging>=20.0 in /usr/local/lib/python3.8/dist-packages (from accelerate) (23.1)\n",
      "Requirement already satisfied: psutil in /usr/local/lib/python3.8/dist-packages (from accelerate) (5.9.5)\n",
      "Requirement already satisfied: pyyaml in /usr/local/lib/python3.8/dist-packages (from accelerate) (6.0)\n",
      "Requirement already satisfied: torch>=1.10.0 in /usr/local/lib/python3.8/dist-packages (from accelerate) (2.0.1)\n",
      "Requirement already satisfied: huggingface-hub in ./.local/lib/python3.8/site-packages (from accelerate) (0.17.3)\n",
      "Requirement already satisfied: filelock in /usr/local/lib/python3.8/dist-packages (from torch>=1.10.0->accelerate) (3.12.2)\n",
      "Requirement already satisfied: typing-extensions in /usr/local/lib/python3.8/dist-packages (from torch>=1.10.0->accelerate) (4.7.1)\n",
      "Requirement already satisfied: sympy in /usr/local/lib/python3.8/dist-packages (from torch>=1.10.0->accelerate) (1.12)\n",
      "Requirement already satisfied: networkx in /usr/local/lib/python3.8/dist-packages (from torch>=1.10.0->accelerate) (3.1)\n",
      "Requirement already satisfied: jinja2 in /usr/local/lib/python3.8/dist-packages (from torch>=1.10.0->accelerate) (3.1.2)\n",
      "Requirement already satisfied: nvidia-cuda-nvrtc-cu11==11.7.99 in /usr/local/lib/python3.8/dist-packages (from torch>=1.10.0->accelerate) (11.7.99)\n",
      "Requirement already satisfied: nvidia-cuda-runtime-cu11==11.7.99 in /usr/local/lib/python3.8/dist-packages (from torch>=1.10.0->accelerate) (11.7.99)\n",
      "Requirement already satisfied: nvidia-cuda-cupti-cu11==11.7.101 in /usr/local/lib/python3.8/dist-packages (from torch>=1.10.0->accelerate) (11.7.101)\n",
      "Requirement already satisfied: nvidia-cudnn-cu11==8.5.0.96 in /usr/local/lib/python3.8/dist-packages (from torch>=1.10.0->accelerate) (8.5.0.96)\n",
      "Requirement already satisfied: nvidia-cublas-cu11==11.10.3.66 in /usr/local/lib/python3.8/dist-packages (from torch>=1.10.0->accelerate) (11.10.3.66)\n",
      "Requirement already satisfied: nvidia-cufft-cu11==10.9.0.58 in /usr/local/lib/python3.8/dist-packages (from torch>=1.10.0->accelerate) (10.9.0.58)\n",
      "Requirement already satisfied: nvidia-curand-cu11==10.2.10.91 in /usr/local/lib/python3.8/dist-packages (from torch>=1.10.0->accelerate) (10.2.10.91)\n",
      "Requirement already satisfied: nvidia-cusolver-cu11==11.4.0.1 in /usr/local/lib/python3.8/dist-packages (from torch>=1.10.0->accelerate) (11.4.0.1)\n",
      "Requirement already satisfied: nvidia-cusparse-cu11==11.7.4.91 in /usr/local/lib/python3.8/dist-packages (from torch>=1.10.0->accelerate) (11.7.4.91)\n",
      "Requirement already satisfied: nvidia-nccl-cu11==2.14.3 in /usr/local/lib/python3.8/dist-packages (from torch>=1.10.0->accelerate) (2.14.3)\n",
      "Requirement already satisfied: nvidia-nvtx-cu11==11.7.91 in /usr/local/lib/python3.8/dist-packages (from torch>=1.10.0->accelerate) (11.7.91)\n",
      "Requirement already satisfied: triton==2.0.0 in /usr/local/lib/python3.8/dist-packages (from torch>=1.10.0->accelerate) (2.0.0)\n",
      "Requirement already satisfied: setuptools in /usr/local/lib/python3.8/dist-packages (from nvidia-cublas-cu11==11.10.3.66->torch>=1.10.0->accelerate) (68.0.0)\n",
      "Requirement already satisfied: wheel in /usr/local/lib/python3.8/dist-packages (from nvidia-cublas-cu11==11.10.3.66->torch>=1.10.0->accelerate) (0.40.0)\n",
      "Requirement already satisfied: cmake in /usr/local/lib/python3.8/dist-packages (from triton==2.0.0->torch>=1.10.0->accelerate) (3.26.4)\n",
      "Requirement already satisfied: lit in /usr/local/lib/python3.8/dist-packages (from triton==2.0.0->torch>=1.10.0->accelerate) (16.0.6)\n",
      "Requirement already satisfied: fsspec in /usr/local/lib/python3.8/dist-packages (from huggingface-hub->accelerate) (2023.6.0)\n",
      "Requirement already satisfied: requests in /usr/local/lib/python3.8/dist-packages (from huggingface-hub->accelerate) (2.31.0)\n",
      "Requirement already satisfied: tqdm>=4.42.1 in /usr/local/lib/python3.8/dist-packages (from huggingface-hub->accelerate) (4.65.0)\n",
      "Requirement already satisfied: MarkupSafe>=2.0 in /usr/local/lib/python3.8/dist-packages (from jinja2->torch>=1.10.0->accelerate) (2.1.3)\n",
      "Requirement already satisfied: charset-normalizer<4,>=2 in /usr/local/lib/python3.8/dist-packages (from requests->huggingface-hub->accelerate) (3.1.0)\n",
      "Requirement already satisfied: idna<4,>=2.5 in /usr/lib/python3/dist-packages (from requests->huggingface-hub->accelerate) (2.8)\n",
      "Requirement already satisfied: urllib3<3,>=1.21.1 in ./.local/lib/python3.8/site-packages (from requests->huggingface-hub->accelerate) (2.0.7)\n",
      "Requirement already satisfied: certifi>=2017.4.17 in /usr/lib/python3/dist-packages (from requests->huggingface-hub->accelerate) (2019.11.28)\n",
      "Requirement already satisfied: mpmath>=0.19 in /usr/local/lib/python3.8/dist-packages (from sympy->torch>=1.10.0->accelerate) (1.3.0)\n",
      "\n",
      "\u001b[1m[\u001b[0m\u001b[34;49mnotice\u001b[0m\u001b[1;39;49m]\u001b[0m\u001b[39;49m A new release of pip is available: \u001b[0m\u001b[31;49m23.1.2\u001b[0m\u001b[39;49m -> \u001b[0m\u001b[32;49m23.3\u001b[0m\n",
      "\u001b[1m[\u001b[0m\u001b[34;49mnotice\u001b[0m\u001b[1;39;49m]\u001b[0m\u001b[39;49m To update, run: \u001b[0m\u001b[32;49mpython -m pip install --upgrade pip\u001b[0m\n"
     ]
    }
   ],
   "source": [
    "!pip install accelerate"
   ]
  },
  {
   "cell_type": "code",
   "execution_count": 4,
   "metadata": {
    "colab": {
     "base_uri": "https://localhost:8080/"
    },
    "id": "w0ZtJZxMVUxX",
    "outputId": "95d19fc7-64e0-419d-c286-1909c561fcce"
   },
   "outputs": [
    {
     "name": "stderr",
     "output_type": "stream",
     "text": [
      "2023-10-24 07:42:08.386635: I tensorflow/core/platform/cpu_feature_guard.cc:193] This TensorFlow binary is optimized with oneAPI Deep Neural Network Library (oneDNN) to use the following CPU instructions in performance-critical operations:  AVX2 AVX512F AVX512_VNNI FMA\n",
      "To enable them in other operations, rebuild TensorFlow with the appropriate compiler flags.\n",
      "2023-10-24 07:42:08.514051: I tensorflow/core/util/port.cc:104] oneDNN custom operations are on. You may see slightly different numerical results due to floating-point round-off errors from different computation orders. To turn them off, set the environment variable `TF_ENABLE_ONEDNN_OPTS=0`.\n",
      "2023-10-24 07:42:09.142422: W tensorflow/compiler/xla/stream_executor/platform/default/dso_loader.cc:64] Could not load dynamic library 'libnvinfer.so.7'; dlerror: libnvinfer.so.7: cannot open shared object file: No such file or directory; LD_LIBRARY_PATH: /usr/local/lib:/usr/local/nvidia/lib:/usr/local/nvidia/lib64\n",
      "2023-10-24 07:42:09.142507: W tensorflow/compiler/xla/stream_executor/platform/default/dso_loader.cc:64] Could not load dynamic library 'libnvinfer_plugin.so.7'; dlerror: libnvinfer_plugin.so.7: cannot open shared object file: No such file or directory; LD_LIBRARY_PATH: /usr/local/lib:/usr/local/nvidia/lib:/usr/local/nvidia/lib64\n",
      "2023-10-24 07:42:09.142511: W tensorflow/compiler/tf2tensorrt/utils/py_utils.cc:38] TF-TRT Warning: Cannot dlopen some TensorRT libraries. If you would like to use Nvidia GPU with TensorRT, please make sure the missing libraries mentioned above are installed properly.\n"
     ]
    }
   ],
   "source": [
    "import os\n",
    "import copy\n",
    "import random\n",
    "import collections\n",
    "from abc import ABC, abstractmethod\n",
    "\n",
    "# utils\n",
    "import numpy as np\n",
    "from tqdm.auto import tqdm\n",
    "\n",
    "# Hugging Face\n",
    "import evaluate\n",
    "import transformers\n",
    "from datasets import load_dataset\n",
    "from transformers import pipeline\n",
    "from accelerate import Accelerator\n",
    "from transformers import get_scheduler\n",
    "from transformers import AutoTokenizer\n",
    "from transformers import default_data_collator\n",
    "from transformers import AutoModelForQuestionAnswering\n",
    "\n",
    "# PyTorch\n",
    "import torch\n",
    "from torch.optim import AdamW\n",
    "from torch.utils.data import DataLoader\n",
    "\n",
    "# produce repeatable results\n",
    "# transformers.set_seed(42)\n",
    "\n",
    "# enable CUDNN deterministic mode\n",
    "# torch.backends.cudnn.deterministic = True\n",
    "# torch.backends.cudnn.benchmark = False\n",
    "\n",
    "# hyperparameters\n",
    "BATCH_SIZE = 8\n",
    "LEARNING_RATE = 0.0003\n",
    "EPOCHS = 3\n",
    "\n",
    "# if True, process only 200 elements\n",
    "TEST = False\n",
    "ROOT_PATH = \"./data/\"\n",
    "MODEL_NAME = f\"fine_tuned_tiny_bert_pos_after\"\n",
    "PRTRAINED_MODEL_CHECKPOINT = \"prajjwal1/bert-tiny\"\n",
    "\n",
    "# define de the POS tags\n",
    "POS_TOKENS = ['[add]', '[afx]', '[cc]', '[cd]', '[dt]', '[ex]', '[fw]', '[hyph]', '[in]', '[jj]', '[jjr]', '[jjs]', '[ls]', '[md]',\n",
    "              '[nfp]', '[nn]', '[nnp]', '[nnps]', '[nns]', '[pdt]', '[pos]', '[prp]', '[prp$]', '[rb]', '[rbr]', '[rbs]', '[rp]',\n",
    "              '[sym]', '[to]', '[uh]', '[vb]', '[vbd]', '[vbg]', '[vbn]', '[vbp]', '[vbz]', '[wdt]', '[wp]', '[wp$]', '[wrb]', '[xx]']"
   ]
  },
  {
   "cell_type": "code",
   "execution_count": 5,
   "metadata": {
    "id": "zR2B1x2DVUxZ"
   },
   "outputs": [],
   "source": [
    "class DatasetLoader:\n",
    "    def __init__(self, directory=\"../data/\"):\n",
    "        self.directory = directory\n",
    "\n",
    "    def store_data(self):\n",
    "        # download and chache data\n",
    "        squad_data = load_dataset(\"squad\")\n",
    "        squad_data.cache_files\n",
    "\n",
    "        # store a json for train and validation data\n",
    "        for split, dataset in squad_data.items():\n",
    "            dataset.to_json(f\"{self.directory}squad_data_{split}.json\")\n",
    "        print(f\"The dataset is stored at {self.directory}\")\n",
    "\n",
    "    def load_data(self):\n",
    "        # load the train and validation datasets\n",
    "        data_files = {\n",
    "            \"train\": f\"{self.directory}squad_data_train_pos_after.json\",\n",
    "            \"validation\": f\"{self.directory}squad_data_validation_pos_after.json\",\n",
    "        }\n",
    "\n",
    "        data = load_dataset(\"json\", data_files=data_files)\n",
    "\n",
    "        return data"
   ]
  },
  {
   "cell_type": "code",
   "execution_count": 6,
   "metadata": {
    "colab": {
     "base_uri": "https://localhost:8080/"
    },
    "id": "Zo4VwzpzVUxa",
    "outputId": "51b2ecd1-41e7-48f0-d16b-2f653995c030"
   },
   "outputs": [
    {
     "data": {
      "text/plain": [
       "DatasetDict({\n",
       "    train: Dataset({\n",
       "        features: ['id', 'title', 'context', 'question', 'answers'],\n",
       "        num_rows: 87599\n",
       "    })\n",
       "    validation: Dataset({\n",
       "        features: ['id', 'title', 'context', 'question', 'answers'],\n",
       "        num_rows: 10570\n",
       "    })\n",
       "})"
      ]
     },
     "execution_count": 6,
     "metadata": {},
     "output_type": "execute_result"
    }
   ],
   "source": [
    "dataset_loader = DatasetLoader(ROOT_PATH)\n",
    "raw_data = dataset_loader.load_data()\n",
    "raw_data\n"
   ]
  },
  {
   "cell_type": "markdown",
   "metadata": {
    "id": "yVW8747JVUxb"
   },
   "source": [
    "### 1. Preprocess the data"
   ]
  },
  {
   "cell_type": "code",
   "execution_count": 7,
   "metadata": {
    "id": "qIzKusAnVUxb"
   },
   "outputs": [],
   "source": [
    "class DataPreprocessor(ABC):\n",
    "    def __init__(self, max_length=384, stride=128) -> None:\n",
    "        self.max_length = max_length\n",
    "        self.stride = stride\n",
    "\n",
    "    @abstractmethod\n",
    "    def preprocess_train_data(self, questions_contexts):\n",
    "        pass\n",
    "\n",
    "    @abstractmethod\n",
    "    def preprocess_dev_data(self, questions_contexts):\n",
    "        pass\n"
   ]
  },
  {
   "cell_type": "code",
   "execution_count": 8,
   "metadata": {
    "id": "4xsZwmJ7VUxb"
   },
   "outputs": [],
   "source": [
    "class DefaultDataPreprocessor(DataPreprocessor):\n",
    "    def __init__(self, tokenizer, train_data_raw, dev_data_raw):\n",
    "        DataPreprocessor.__init__(self)\n",
    "        self.tokenizer = tokenizer\n",
    "        self.train_data_raw = train_data_raw\n",
    "        self.dev_data_raw = dev_data_raw\n",
    "\n",
    "    def preprocess_train_data(self, questions_contexts):\n",
    "        questions = [q.strip() for q in questions_contexts[\"question\"]]\n",
    "\n",
    "        preproc_questions_contexts = self.tokenizer(\n",
    "            questions,\n",
    "            questions_contexts[\"context\"],\n",
    "            max_length=self.max_length,\n",
    "            truncation=\"only_second\",\n",
    "            stride=self.stride,\n",
    "            return_overflowing_tokens=True,\n",
    "            return_offsets_mapping=True,\n",
    "            padding=\"max_length\",\n",
    "        )\n",
    "\n",
    "        offset_mapping = preproc_questions_contexts.pop(\"offset_mapping\")\n",
    "        sample_map = preproc_questions_contexts.pop(\"overflow_to_sample_mapping\")\n",
    "        answers = questions_contexts[\"answers\"]\n",
    "        start_positions = []\n",
    "        end_positions = []\n",
    "\n",
    "        for i, offset in enumerate(offset_mapping):\n",
    "            sample_idx = sample_map[i]\n",
    "            answer = answers[sample_idx]\n",
    "            start_char = answer[\"answer_start\"][0]\n",
    "            end_char = answer[\"answer_start\"][0] + len(answer[\"text\"][0])\n",
    "            sequence_ids = preproc_questions_contexts.sequence_ids(i)\n",
    "\n",
    "            idx = 0\n",
    "\n",
    "            while sequence_ids[idx] != 1:\n",
    "                idx += 1\n",
    "            context_start = idx\n",
    "\n",
    "            while sequence_ids[idx] == 1:\n",
    "                idx += 1\n",
    "            context_end = idx - 1\n",
    "\n",
    "            if offset[context_start][0] > start_char or offset[context_end][1] < end_char:\n",
    "                start_positions.append(0)\n",
    "                end_positions.append(0)\n",
    "            else:\n",
    "                idx = context_start\n",
    "\n",
    "                while idx <= context_end and offset[idx][0] <= start_char:\n",
    "                    idx += 1\n",
    "                start_positions.append(idx - 1)\n",
    "\n",
    "                idx = context_end\n",
    "\n",
    "                while idx >= context_start and offset[idx][1] >= end_char:\n",
    "                    idx -= 1\n",
    "                end_positions.append(idx + 1)\n",
    "\n",
    "        preproc_questions_contexts[\"start_positions\"] = start_positions\n",
    "        preproc_questions_contexts[\"end_positions\"] = end_positions\n",
    "\n",
    "        return preproc_questions_contexts\n",
    "\n",
    "    def preprocess_dev_data(self, questions_contexts):\n",
    "        questions = [q.strip() for q in questions_contexts[\"question\"]]\n",
    "\n",
    "        preproc_questions_contexts = self.tokenizer(\n",
    "            questions,\n",
    "            questions_contexts[\"context\"],\n",
    "            max_length=self.max_length,\n",
    "            truncation=\"only_second\",\n",
    "            stride=self.stride,\n",
    "            return_overflowing_tokens=True,\n",
    "            return_offsets_mapping=True,\n",
    "            padding=\"max_length\",\n",
    "        )\n",
    "\n",
    "        sample_map = preproc_questions_contexts.pop(\"overflow_to_sample_mapping\")\n",
    "        example_ids = []\n",
    "\n",
    "        for i in range(len(preproc_questions_contexts[\"input_ids\"])):\n",
    "            sample_idx = sample_map[i]\n",
    "            example_ids.append(questions_contexts[\"id\"][sample_idx])\n",
    "\n",
    "            sequence_ids = preproc_questions_contexts.sequence_ids(i)\n",
    "            offset = preproc_questions_contexts[\"offset_mapping\"][i]\n",
    "            preproc_questions_contexts[\"offset_mapping\"][i] = [\n",
    "                o if sequence_ids[k] == 1 else None for k, o in enumerate(offset)\n",
    "            ]\n",
    "\n",
    "        preproc_questions_contexts[\"example_id\"] = example_ids\n",
    "\n",
    "        return preproc_questions_contexts\n",
    "\n",
    "    def preprocess_data(self, dataset_name, verbose=True):\n",
    "        if dataset_name == \"train\":\n",
    "            preprocessed_data = self.train_data_raw.map(\n",
    "                self.preprocess_train_data,\n",
    "                batched=True,\n",
    "                remove_columns=self.train_data_raw.column_names,\n",
    "            )\n",
    "            initial_pairs_no = len(self.train_data_raw)\n",
    "        else:\n",
    "            preprocessed_data = self.dev_data_raw.map(\n",
    "                self.preprocess_dev_data,\n",
    "                batched=True,\n",
    "                remove_columns=self.dev_data_raw.column_names,\n",
    "            )\n",
    "            initial_pairs_no = len(self.dev_data_raw)\n",
    "\n",
    "        if verbose:\n",
    "            print(\n",
    "                f\"Number of {dataset_name} question - context pairs:\\nInitially: {initial_pairs_no}\\nAfter preprocessing:{len(preprocessed_data)}\"\n",
    "            )\n",
    "        return preprocessed_data\n"
   ]
  },
  {
   "cell_type": "code",
   "execution_count": 9,
   "metadata": {
    "colab": {
     "base_uri": "https://localhost:8080/"
    },
    "id": "mMcO10_SVUxc",
    "outputId": "bedb10c1-4d22-4286-cee5-6bc37cccdef2"
   },
   "outputs": [
    {
     "name": "stdout",
     "output_type": "stream",
     "text": [
      "Number of train question - context pairs:\n",
      "Initially: 87599\n",
      "After preprocessing:107957\n",
      "Number of validation question - context pairs:\n",
      "Initially: 10570\n",
      "After preprocessing:13318\n"
     ]
    }
   ],
   "source": [
    "tokenizer = AutoTokenizer.from_pretrained(PRTRAINED_MODEL_CHECKPOINT)\n",
    "tokenizer.add_special_tokens({'additional_special_tokens': POS_TOKENS})\n",
    "\n",
    "if TEST:\n",
    "    default_data_preprocessor = DefaultDataPreprocessor(tokenizer, raw_data[\"train\"].select(range(100)), raw_data[\"validation\"].select(range(100)))\n",
    "else:\n",
    "    default_data_preprocessor = DefaultDataPreprocessor(tokenizer, raw_data[\"train\"], raw_data[\"validation\"])\n",
    "\n",
    "train_dataset = default_data_preprocessor.preprocess_data(\"train\")\n",
    "validation_dataset = default_data_preprocessor.preprocess_data(\"validation\")"
   ]
  },
  {
   "cell_type": "markdown",
   "metadata": {
    "id": "RILlh4i8VUxd"
   },
   "source": [
    "### 2. Postprocess the predictions"
   ]
  },
  {
   "cell_type": "code",
   "execution_count": 10,
   "metadata": {
    "id": "j_S5gqInVUxe"
   },
   "outputs": [],
   "source": [
    "class PredictionsPostprocessor(ABC):\n",
    "    def __init__(self, n_best=32, max_answer_length=128) -> None:\n",
    "        self.n_best = n_best\n",
    "        self.max_answer_length = max_answer_length\n",
    "\n",
    "    @abstractmethod\n",
    "    def postprocess_predictions(self, start_logits, end_logits, preprocessed_data, questions_contexts):\n",
    "        pass\n"
   ]
  },
  {
   "cell_type": "code",
   "execution_count": 11,
   "metadata": {
    "id": "7oahzTKKVUxe"
   },
   "outputs": [],
   "source": [
    "class DefaultPredictionsPostprocessor(PredictionsPostprocessor):\n",
    "    def __init__(self):\n",
    "        PredictionsPostprocessor.__init__(self)\n",
    "\n",
    "    def postprocess_predictions(self, start_logits, end_logits, preprocessed_data, questions_contexts):\n",
    "        mappings = collections.defaultdict(list)\n",
    "\n",
    "        for idx, preprocessed_data_ in enumerate(preprocessed_data):\n",
    "            mappings[preprocessed_data_[\"example_id\"]].append(idx)\n",
    "\n",
    "        predicted_answers = []\n",
    "\n",
    "        for question_context in questions_contexts:\n",
    "            example_id = question_context[\"id\"]\n",
    "            context = question_context[\"context\"]\n",
    "            answers = []\n",
    "\n",
    "            for feature_index in mappings[example_id]:\n",
    "                start_logit = start_logits[feature_index]\n",
    "                end_logit = end_logits[feature_index]\n",
    "                offsets = preprocessed_data[feature_index][\"offset_mapping\"]\n",
    "\n",
    "                start_indexes = np.argsort(start_logit)[-1 : -self.n_best - 1 : -1].tolist()\n",
    "                end_indexes = np.argsort(end_logit)[-1 : -self.n_best - 1 : -1].tolist()\n",
    "\n",
    "                for start_index in start_indexes:\n",
    "                    for end_index in end_indexes:\n",
    "                        if offsets[start_index] is None or offsets[end_index] is None:\n",
    "                            continue\n",
    "\n",
    "                        if end_index < start_index or end_index - start_index + 1 > self.max_answer_length:\n",
    "                            continue\n",
    "\n",
    "                        answer = {\n",
    "                            \"text\": context[offsets[start_index][0] : offsets[end_index][1]],\n",
    "                            \"logit_score\": start_logit[start_index] + end_logit[end_index],\n",
    "                        }\n",
    "                        answers.append(answer)\n",
    "\n",
    "            if len(answers) > 0:\n",
    "                best_answer = max(answers, key=lambda x: x[\"logit_score\"])\n",
    "                predicted_answers.append({\"id\": example_id, \"prediction_text\": best_answer[\"text\"]})\n",
    "            else:\n",
    "                predicted_answers.append({\"id\": example_id, \"prediction_text\": \"\"})\n",
    "\n",
    "        correct_answers = [{\"id\": ex[\"id\"], \"answers\": ex[\"answers\"]} for ex in questions_contexts]\n",
    "\n",
    "        return predicted_answers, correct_answers\n"
   ]
  },
  {
   "cell_type": "markdown",
   "metadata": {
    "id": "YMBhP-kXVUxf"
   },
   "source": [
    "### 3. Evaluate performance"
   ]
  },
  {
   "cell_type": "code",
   "execution_count": 12,
   "metadata": {
    "id": "Aa_8s4wrVUxf"
   },
   "outputs": [],
   "source": [
    "class MetricsEvaluator:\n",
    "    def __init__(self, dataset_name=\"squad\"):\n",
    "        self.metric = evaluate.load(dataset_name)\n",
    "\n",
    "    def compute_metric(self, predicted_answers, correct_answers):\n",
    "        metric_values = self.metric.compute(predictions=predicted_answers, references=correct_answers)\n",
    "\n",
    "        return metric_values\n"
   ]
  },
  {
   "cell_type": "markdown",
   "metadata": {
    "id": "3M758df0VUxg"
   },
   "source": [
    "### 4. Fine-tune TinyBERT"
   ]
  },
  {
   "cell_type": "code",
   "execution_count": 13,
   "metadata": {
    "id": "In5sPQOBVUxg"
   },
   "outputs": [],
   "source": [
    "class ModelTrainer:\n",
    "    def __init__(self, train_data, val_data, tokenizer, batch_size=BATCH_SIZE, learning_rate=LEARNING_RATE, num_train_epochs=EPOCHS, store_artifacts=True):\n",
    "        self.val_data = copy.deepcopy(val_data)\n",
    "        self.tokenizer = tokenizer\n",
    "        self.batch_size = batch_size\n",
    "        self.learning_rate = learning_rate\n",
    "        self.num_train_epochs = num_train_epochs\n",
    "        self.store_artifacts = store_artifacts\n",
    "        self.metrics_evaluator = MetricsEvaluator()\n",
    "        self.default_prediction_postprocessor = DefaultPredictionsPostprocessor()\n",
    "\n",
    "        (\n",
    "            self.model,\n",
    "            self.optimizer,\n",
    "            self.train_data_loader,\n",
    "            self.val_data_loader,\n",
    "            self.accelerator,\n",
    "            self.lr_scheduler,\n",
    "            self.num_training_steps,\n",
    "        ) = self.__initialize_components(train_data, val_data)\n",
    "\n",
    "    def __format_data(self, train_data, val_data):\n",
    "        train_data.set_format(\"torch\")\n",
    "        val_data = val_data.remove_columns([\"example_id\", \"offset_mapping\"])\n",
    "        val_data.set_format(\"torch\")\n",
    "\n",
    "        return train_data, val_data\n",
    "\n",
    "    def __generate_data_loaders(self, train_data, val_data):\n",
    "        train_data_loader = DataLoader(\n",
    "            train_data,\n",
    "            shuffle=True,\n",
    "            collate_fn=default_data_collator,\n",
    "            batch_size=self.batch_size,\n",
    "        )\n",
    "\n",
    "        val_data_loader = DataLoader(val_data, collate_fn=default_data_collator, batch_size=self.batch_size)\n",
    "\n",
    "        return train_data_loader, val_data_loader\n",
    "\n",
    "    def __set_learning_rate_decay(self, train_data_loader, optimizer):\n",
    "        num_update_steps_per_epoch = len(train_data_loader)\n",
    "        num_training_steps = self.num_train_epochs * num_update_steps_per_epoch\n",
    "\n",
    "        lr_scheduler = get_scheduler(\n",
    "            \"linear\",\n",
    "            optimizer=optimizer,\n",
    "            num_warmup_steps=0,\n",
    "            num_training_steps=num_training_steps,\n",
    "        )\n",
    "\n",
    "        return lr_scheduler, num_training_steps\n",
    "\n",
    "    def __initialize_components(self, train_data, val_data):\n",
    "        train_data, val_data = self.__format_data(train_data, val_data)\n",
    "        train_data_loader, val_data_loader = self.__generate_data_loaders(train_data, val_data)\n",
    "        model = AutoModelForQuestionAnswering.from_pretrained(PRTRAINED_MODEL_CHECKPOINT)\n",
    "        model.resize_token_embeddings(len(self.tokenizer))\n",
    "        optimizer = AdamW(model.parameters(), lr=self.learning_rate)\n",
    "\n",
    "        accelerator = Accelerator()\n",
    "        model, optimizer, train_data_loader, val_data_loader = accelerator.prepare(\n",
    "            model, optimizer, train_data_loader, val_data_loader\n",
    "        )\n",
    "\n",
    "        lr_scheduler, num_training_steps = self.__set_learning_rate_decay(train_data_loader, optimizer)\n",
    "\n",
    "        return model, optimizer, train_data_loader, val_data_loader, accelerator, lr_scheduler, num_training_steps\n",
    "\n",
    "    def __store_artifacts(self):\n",
    "        self.accelerator.wait_for_everyone()\n",
    "        unwrapped_model = self.accelerator.unwrap_model(self.model)\n",
    "        unwrapped_model.save_pretrained(f\"{ROOT_PATH}{MODEL_NAME}_model\", save_function=self.accelerator.save)\n",
    "\n",
    "        if self.accelerator.is_main_process:\n",
    "            self.tokenizer.save_pretrained(f\"{ROOT_PATH}{MODEL_NAME}_tokenizer\")\n",
    "\n",
    "    def train(self):\n",
    "        progress_bar = tqdm(range(self.num_training_steps))\n",
    "\n",
    "        for epoch in range(self.num_train_epochs):\n",
    "            self.model.train()\n",
    "\n",
    "            for batch in self.train_data_loader:\n",
    "                outputs = self.model(**batch)\n",
    "                loss = outputs.loss\n",
    "                self.accelerator.backward(loss)\n",
    "\n",
    "                self.optimizer.step()\n",
    "                self.lr_scheduler.step()\n",
    "                self.optimizer.zero_grad()\n",
    "                progress_bar.update(1)\n",
    "\n",
    "            self.model.eval()\n",
    "            start_logits = []\n",
    "            end_logits = []\n",
    "            self.accelerator.print(\"Evaluation!\")\n",
    "\n",
    "            for batch in self.val_data_loader:\n",
    "                with torch.no_grad():\n",
    "                    outputs = self.model(**batch)\n",
    "\n",
    "                start_logits.append(self.accelerator.gather(outputs.start_logits).cpu().numpy())\n",
    "                end_logits.append(self.accelerator.gather(outputs.end_logits).cpu().numpy())\n",
    "\n",
    "            start_logits = np.concatenate(start_logits)\n",
    "            end_logits = np.concatenate(end_logits)\n",
    "            start_logits = start_logits[: len(self.val_data)]\n",
    "            end_logits = end_logits[: len(self.val_data)]\n",
    "\n",
    "            predicted_answers, correct_answers = self.default_prediction_postprocessor.postprocess_predictions(\n",
    "                start_logits, end_logits, self.val_data, raw_data[\"validation\"]\n",
    "            )\n",
    "\n",
    "            metrics = self.metrics_evaluator.compute_metric(predicted_answers, correct_answers)\n",
    "            print(f\"epoch {epoch}:\", metrics)\n",
    "\n",
    "            if self.store_artifacts:\n",
    "                self.__store_artifacts()\n",
    "\n",
    "        return metrics"
   ]
  },
  {
   "cell_type": "code",
   "execution_count": 14,
   "metadata": {
    "colab": {
     "base_uri": "https://localhost:8080/",
     "height": 188,
     "referenced_widgets": [
      "f2ddabe661a34d09b10fa4ca9de3e423",
      "9186b57fcf6d48139dfb71d70c177042",
      "31f7a608050c4aadb4854e19a98886fc",
      "ec20ce86f13f4436ae499c85bae90cca",
      "58dbb2b9bfb446149a952f807a1bda68",
      "58b81e880f68486f87dae4216c9bd5e7",
      "5c2fb9d7002944369691843a9d4085c8",
      "60decf7de70643b195341351f8463b3c",
      "395761048d7e42d1995ae65509fdbdae",
      "051ebd493ec9496c842ab832cb8180bd",
      "14a4609a2f904a10a4b39a53e87681b8"
     ]
    },
    "id": "oO2LZkPlVUxg",
    "outputId": "c8f28433-7a0c-4b23-d43b-21bd5b80e6bd"
   },
   "outputs": [
    {
     "name": "stderr",
     "output_type": "stream",
     "text": [
      "Some weights of BertForQuestionAnswering were not initialized from the model checkpoint at prajjwal1/bert-tiny and are newly initialized: ['qa_outputs.bias', 'qa_outputs.weight']\n",
      "You should probably TRAIN this model on a down-stream task to be able to use it for predictions and inference.\n"
     ]
    },
    {
     "data": {
      "application/vnd.jupyter.widget-view+json": {
       "model_id": "7898e43b259f496f909cf059ffc15287",
       "version_major": 2,
       "version_minor": 0
      },
      "text/plain": [
       "  0%|          | 0/40485 [00:00<?, ?it/s]"
      ]
     },
     "metadata": {},
     "output_type": "display_data"
    },
    {
     "name": "stdout",
     "output_type": "stream",
     "text": [
      "Evaluation!\n",
      "epoch 0: {'exact_match': 33.70860927152318, 'f1': 47.06660116570007}\n",
      "Evaluation!\n",
      "epoch 1: {'exact_match': 37.19016083254494, 'f1': 50.825879721827704}\n",
      "Evaluation!\n",
      "epoch 2: {'exact_match': 38.36329233680227, 'f1': 51.90957153003525}\n"
     ]
    },
    {
     "name": "stderr",
     "output_type": "stream",
     "text": [
      "Some weights of BertForQuestionAnswering were not initialized from the model checkpoint at prajjwal1/bert-tiny and are newly initialized: ['qa_outputs.bias', 'qa_outputs.weight']\n",
      "You should probably TRAIN this model on a down-stream task to be able to use it for predictions and inference.\n"
     ]
    },
    {
     "data": {
      "application/vnd.jupyter.widget-view+json": {
       "model_id": "e3394d6ee4d444619dccd172311d9c88",
       "version_major": 2,
       "version_minor": 0
      },
      "text/plain": [
       "  0%|          | 0/40485 [00:00<?, ?it/s]"
      ]
     },
     "metadata": {},
     "output_type": "display_data"
    },
    {
     "name": "stdout",
     "output_type": "stream",
     "text": [
      "Evaluation!\n",
      "epoch 0: {'exact_match': 28.401135288552506, 'f1': 41.02663195533503}\n",
      "Evaluation!\n",
      "epoch 1: {'exact_match': 35.042573320719015, 'f1': 48.3661312959429}\n",
      "Evaluation!\n",
      "epoch 2: {'exact_match': 37.26584673604541, 'f1': 50.52611924176544}\n"
     ]
    },
    {
     "name": "stderr",
     "output_type": "stream",
     "text": [
      "Some weights of BertForQuestionAnswering were not initialized from the model checkpoint at prajjwal1/bert-tiny and are newly initialized: ['qa_outputs.bias', 'qa_outputs.weight']\n",
      "You should probably TRAIN this model on a down-stream task to be able to use it for predictions and inference.\n"
     ]
    },
    {
     "data": {
      "application/vnd.jupyter.widget-view+json": {
       "model_id": "54d63b3510aa4b7188708b4c9d35f41f",
       "version_major": 2,
       "version_minor": 0
      },
      "text/plain": [
       "  0%|          | 0/40485 [00:00<?, ?it/s]"
      ]
     },
     "metadata": {},
     "output_type": "display_data"
    },
    {
     "name": "stdout",
     "output_type": "stream",
     "text": [
      "Evaluation!\n",
      "epoch 0: {'exact_match': 30.785241248817407, 'f1': 44.10041867993095}\n",
      "Evaluation!\n",
      "epoch 1: {'exact_match': 35.723746452223274, 'f1': 49.23371904522375}\n",
      "Evaluation!\n",
      "epoch 2: {'exact_match': 37.38883632923368, 'f1': 50.548495974497044}\n"
     ]
    },
    {
     "name": "stderr",
     "output_type": "stream",
     "text": [
      "Some weights of BertForQuestionAnswering were not initialized from the model checkpoint at prajjwal1/bert-tiny and are newly initialized: ['qa_outputs.bias', 'qa_outputs.weight']\n",
      "You should probably TRAIN this model on a down-stream task to be able to use it for predictions and inference.\n"
     ]
    },
    {
     "data": {
      "application/vnd.jupyter.widget-view+json": {
       "model_id": "33761e9b6d3748a38035a009c289b8a6",
       "version_major": 2,
       "version_minor": 0
      },
      "text/plain": [
       "  0%|          | 0/40485 [00:00<?, ?it/s]"
      ]
     },
     "metadata": {},
     "output_type": "display_data"
    },
    {
     "name": "stdout",
     "output_type": "stream",
     "text": [
      "Evaluation!\n",
      "epoch 0: {'exact_match': 31.17313150425733, 'f1': 44.88430833805328}\n",
      "Evaluation!\n",
      "epoch 1: {'exact_match': 36.035950804162724, 'f1': 49.267905260860125}\n",
      "Evaluation!\n",
      "epoch 2: {'exact_match': 37.672658467360456, 'f1': 50.76817621634348}\n"
     ]
    },
    {
     "name": "stderr",
     "output_type": "stream",
     "text": [
      "Some weights of BertForQuestionAnswering were not initialized from the model checkpoint at prajjwal1/bert-tiny and are newly initialized: ['qa_outputs.bias', 'qa_outputs.weight']\n",
      "You should probably TRAIN this model on a down-stream task to be able to use it for predictions and inference.\n"
     ]
    },
    {
     "data": {
      "application/vnd.jupyter.widget-view+json": {
       "model_id": "6d3cbe2fe1394985ab66d004f3fa0fd2",
       "version_major": 2,
       "version_minor": 0
      },
      "text/plain": [
       "  0%|          | 0/40485 [00:00<?, ?it/s]"
      ]
     },
     "metadata": {},
     "output_type": "display_data"
    },
    {
     "name": "stdout",
     "output_type": "stream",
     "text": [
      "Evaluation!\n",
      "epoch 0: {'exact_match': 32.11920529801324, 'f1': 45.486680612009714}\n",
      "Evaluation!\n",
      "epoch 1: {'exact_match': 36.471144749290445, 'f1': 49.99530995183465}\n",
      "Evaluation!\n",
      "epoch 2: {'exact_match': 38.24976348155156, 'f1': 51.950874542821275}\n"
     ]
    },
    {
     "name": "stderr",
     "output_type": "stream",
     "text": [
      "Some weights of BertForQuestionAnswering were not initialized from the model checkpoint at prajjwal1/bert-tiny and are newly initialized: ['qa_outputs.bias', 'qa_outputs.weight']\n",
      "You should probably TRAIN this model on a down-stream task to be able to use it for predictions and inference.\n"
     ]
    },
    {
     "data": {
      "application/vnd.jupyter.widget-view+json": {
       "model_id": "eaaec587bba843e58d79c79cf57bc283",
       "version_major": 2,
       "version_minor": 0
      },
      "text/plain": [
       "  0%|          | 0/40485 [00:00<?, ?it/s]"
      ]
     },
     "metadata": {},
     "output_type": "display_data"
    },
    {
     "name": "stdout",
     "output_type": "stream",
     "text": [
      "Evaluation!\n",
      "epoch 0: {'exact_match': 32.51655629139073, 'f1': 46.13779485268738}\n",
      "Evaluation!\n",
      "epoch 1: {'exact_match': 36.81173131504257, 'f1': 50.19560704391851}\n",
      "Evaluation!\n",
      "epoch 2: {'exact_match': 38.221381267738884, 'f1': 51.47832121278975}\n"
     ]
    },
    {
     "name": "stderr",
     "output_type": "stream",
     "text": [
      "Some weights of BertForQuestionAnswering were not initialized from the model checkpoint at prajjwal1/bert-tiny and are newly initialized: ['qa_outputs.bias', 'qa_outputs.weight']\n",
      "You should probably TRAIN this model on a down-stream task to be able to use it for predictions and inference.\n"
     ]
    },
    {
     "data": {
      "application/vnd.jupyter.widget-view+json": {
       "model_id": "2a5565112fb9421a958dcca3d1bb112d",
       "version_major": 2,
       "version_minor": 0
      },
      "text/plain": [
       "  0%|          | 0/40485 [00:00<?, ?it/s]"
      ]
     },
     "metadata": {},
     "output_type": "display_data"
    },
    {
     "name": "stdout",
     "output_type": "stream",
     "text": [
      "Evaluation!\n",
      "epoch 0: {'exact_match': 30.700094607379377, 'f1': 43.73154485062302}\n",
      "Evaluation!\n",
      "epoch 1: {'exact_match': 37.21854304635762, 'f1': 50.66875661981984}\n",
      "Evaluation!\n",
      "epoch 2: {'exact_match': 38.02270577105014, 'f1': 51.65308839025629}\n"
     ]
    }
   ],
   "source": [
    "training_rounds = 7\n",
    "all_metrics = []\n",
    "\n",
    "for _ in range(training_rounds):\n",
    "    model_trainer = ModelTrainer(train_dataset, validation_dataset, tokenizer, store_artifacts=False)\n",
    "    metrics = model_trainer.train()\n",
    "\n",
    "    all_metrics.append(metrics)"
   ]
  },
  {
   "cell_type": "code",
   "execution_count": 15,
   "metadata": {},
   "outputs": [
    {
     "data": {
      "text/plain": [
       "[{'exact_match': 38.36329233680227, 'f1': 51.90957153003525},\n",
       " {'exact_match': 37.26584673604541, 'f1': 50.52611924176544},\n",
       " {'exact_match': 37.38883632923368, 'f1': 50.548495974497044},\n",
       " {'exact_match': 37.672658467360456, 'f1': 50.76817621634348},\n",
       " {'exact_match': 38.24976348155156, 'f1': 51.950874542821275},\n",
       " {'exact_match': 38.221381267738884, 'f1': 51.47832121278975},\n",
       " {'exact_match': 38.02270577105014, 'f1': 51.65308839025629}]"
      ]
     },
     "execution_count": 15,
     "metadata": {},
     "output_type": "execute_result"
    }
   ],
   "source": [
    "all_metrics"
   ]
  }
 ],
 "metadata": {
  "accelerator": "TPU",
  "colab": {
   "provenance": []
  },
  "kernelspec": {
   "display_name": "Python",
   "language": "python",
   "name": "python3"
  },
  "language_info": {
   "codemirror_mode": {
    "name": "ipython",
    "version": 3
   },
   "file_extension": ".py",
   "mimetype": "text/x-python",
   "name": "python",
   "nbconvert_exporter": "python",
   "pygments_lexer": "ipython3",
   "version": "3.8.10"
  },
  "widgets": {
   "application/vnd.jupyter.widget-state+json": {
    "051ebd493ec9496c842ab832cb8180bd": {
     "model_module": "@jupyter-widgets/base",
     "model_module_version": "1.2.0",
     "model_name": "LayoutModel",
     "state": {
      "_model_module": "@jupyter-widgets/base",
      "_model_module_version": "1.2.0",
      "_model_name": "LayoutModel",
      "_view_count": null,
      "_view_module": "@jupyter-widgets/base",
      "_view_module_version": "1.2.0",
      "_view_name": "LayoutView",
      "align_content": null,
      "align_items": null,
      "align_self": null,
      "border": null,
      "bottom": null,
      "display": null,
      "flex": null,
      "flex_flow": null,
      "grid_area": null,
      "grid_auto_columns": null,
      "grid_auto_flow": null,
      "grid_auto_rows": null,
      "grid_column": null,
      "grid_gap": null,
      "grid_row": null,
      "grid_template_areas": null,
      "grid_template_columns": null,
      "grid_template_rows": null,
      "height": null,
      "justify_content": null,
      "justify_items": null,
      "left": null,
      "margin": null,
      "max_height": null,
      "max_width": null,
      "min_height": null,
      "min_width": null,
      "object_fit": null,
      "object_position": null,
      "order": null,
      "overflow": null,
      "overflow_x": null,
      "overflow_y": null,
      "padding": null,
      "right": null,
      "top": null,
      "visibility": null,
      "width": null
     }
    },
    "14a4609a2f904a10a4b39a53e87681b8": {
     "model_module": "@jupyter-widgets/controls",
     "model_module_version": "1.5.0",
     "model_name": "DescriptionStyleModel",
     "state": {
      "_model_module": "@jupyter-widgets/controls",
      "_model_module_version": "1.5.0",
      "_model_name": "DescriptionStyleModel",
      "_view_count": null,
      "_view_module": "@jupyter-widgets/base",
      "_view_module_version": "1.2.0",
      "_view_name": "StyleView",
      "description_width": ""
     }
    },
    "31f7a608050c4aadb4854e19a98886fc": {
     "model_module": "@jupyter-widgets/controls",
     "model_module_version": "1.5.0",
     "model_name": "FloatProgressModel",
     "state": {
      "_dom_classes": [],
      "_model_module": "@jupyter-widgets/controls",
      "_model_module_version": "1.5.0",
      "_model_name": "FloatProgressModel",
      "_view_count": null,
      "_view_module": "@jupyter-widgets/controls",
      "_view_module_version": "1.5.0",
      "_view_name": "ProgressView",
      "bar_style": "",
      "description": "",
      "description_tooltip": null,
      "layout": "IPY_MODEL_60decf7de70643b195341351f8463b3c",
      "max": 39,
      "min": 0,
      "orientation": "horizontal",
      "style": "IPY_MODEL_395761048d7e42d1995ae65509fdbdae",
      "value": 39
     }
    },
    "395761048d7e42d1995ae65509fdbdae": {
     "model_module": "@jupyter-widgets/controls",
     "model_module_version": "1.5.0",
     "model_name": "ProgressStyleModel",
     "state": {
      "_model_module": "@jupyter-widgets/controls",
      "_model_module_version": "1.5.0",
      "_model_name": "ProgressStyleModel",
      "_view_count": null,
      "_view_module": "@jupyter-widgets/base",
      "_view_module_version": "1.2.0",
      "_view_name": "StyleView",
      "bar_color": null,
      "description_width": ""
     }
    },
    "58b81e880f68486f87dae4216c9bd5e7": {
     "model_module": "@jupyter-widgets/base",
     "model_module_version": "1.2.0",
     "model_name": "LayoutModel",
     "state": {
      "_model_module": "@jupyter-widgets/base",
      "_model_module_version": "1.2.0",
      "_model_name": "LayoutModel",
      "_view_count": null,
      "_view_module": "@jupyter-widgets/base",
      "_view_module_version": "1.2.0",
      "_view_name": "LayoutView",
      "align_content": null,
      "align_items": null,
      "align_self": null,
      "border": null,
      "bottom": null,
      "display": null,
      "flex": null,
      "flex_flow": null,
      "grid_area": null,
      "grid_auto_columns": null,
      "grid_auto_flow": null,
      "grid_auto_rows": null,
      "grid_column": null,
      "grid_gap": null,
      "grid_row": null,
      "grid_template_areas": null,
      "grid_template_columns": null,
      "grid_template_rows": null,
      "height": null,
      "justify_content": null,
      "justify_items": null,
      "left": null,
      "margin": null,
      "max_height": null,
      "max_width": null,
      "min_height": null,
      "min_width": null,
      "object_fit": null,
      "object_position": null,
      "order": null,
      "overflow": null,
      "overflow_x": null,
      "overflow_y": null,
      "padding": null,
      "right": null,
      "top": null,
      "visibility": null,
      "width": null
     }
    },
    "58dbb2b9bfb446149a952f807a1bda68": {
     "model_module": "@jupyter-widgets/base",
     "model_module_version": "1.2.0",
     "model_name": "LayoutModel",
     "state": {
      "_model_module": "@jupyter-widgets/base",
      "_model_module_version": "1.2.0",
      "_model_name": "LayoutModel",
      "_view_count": null,
      "_view_module": "@jupyter-widgets/base",
      "_view_module_version": "1.2.0",
      "_view_name": "LayoutView",
      "align_content": null,
      "align_items": null,
      "align_self": null,
      "border": null,
      "bottom": null,
      "display": null,
      "flex": null,
      "flex_flow": null,
      "grid_area": null,
      "grid_auto_columns": null,
      "grid_auto_flow": null,
      "grid_auto_rows": null,
      "grid_column": null,
      "grid_gap": null,
      "grid_row": null,
      "grid_template_areas": null,
      "grid_template_columns": null,
      "grid_template_rows": null,
      "height": null,
      "justify_content": null,
      "justify_items": null,
      "left": null,
      "margin": null,
      "max_height": null,
      "max_width": null,
      "min_height": null,
      "min_width": null,
      "object_fit": null,
      "object_position": null,
      "order": null,
      "overflow": null,
      "overflow_x": null,
      "overflow_y": null,
      "padding": null,
      "right": null,
      "top": null,
      "visibility": null,
      "width": null
     }
    },
    "5c2fb9d7002944369691843a9d4085c8": {
     "model_module": "@jupyter-widgets/controls",
     "model_module_version": "1.5.0",
     "model_name": "DescriptionStyleModel",
     "state": {
      "_model_module": "@jupyter-widgets/controls",
      "_model_module_version": "1.5.0",
      "_model_name": "DescriptionStyleModel",
      "_view_count": null,
      "_view_module": "@jupyter-widgets/base",
      "_view_module_version": "1.2.0",
      "_view_name": "StyleView",
      "description_width": ""
     }
    },
    "60decf7de70643b195341351f8463b3c": {
     "model_module": "@jupyter-widgets/base",
     "model_module_version": "1.2.0",
     "model_name": "LayoutModel",
     "state": {
      "_model_module": "@jupyter-widgets/base",
      "_model_module_version": "1.2.0",
      "_model_name": "LayoutModel",
      "_view_count": null,
      "_view_module": "@jupyter-widgets/base",
      "_view_module_version": "1.2.0",
      "_view_name": "LayoutView",
      "align_content": null,
      "align_items": null,
      "align_self": null,
      "border": null,
      "bottom": null,
      "display": null,
      "flex": null,
      "flex_flow": null,
      "grid_area": null,
      "grid_auto_columns": null,
      "grid_auto_flow": null,
      "grid_auto_rows": null,
      "grid_column": null,
      "grid_gap": null,
      "grid_row": null,
      "grid_template_areas": null,
      "grid_template_columns": null,
      "grid_template_rows": null,
      "height": null,
      "justify_content": null,
      "justify_items": null,
      "left": null,
      "margin": null,
      "max_height": null,
      "max_width": null,
      "min_height": null,
      "min_width": null,
      "object_fit": null,
      "object_position": null,
      "order": null,
      "overflow": null,
      "overflow_x": null,
      "overflow_y": null,
      "padding": null,
      "right": null,
      "top": null,
      "visibility": null,
      "width": null
     }
    },
    "9186b57fcf6d48139dfb71d70c177042": {
     "model_module": "@jupyter-widgets/controls",
     "model_module_version": "1.5.0",
     "model_name": "HTMLModel",
     "state": {
      "_dom_classes": [],
      "_model_module": "@jupyter-widgets/controls",
      "_model_module_version": "1.5.0",
      "_model_name": "HTMLModel",
      "_view_count": null,
      "_view_module": "@jupyter-widgets/controls",
      "_view_module_version": "1.5.0",
      "_view_name": "HTMLView",
      "description": "",
      "description_tooltip": null,
      "layout": "IPY_MODEL_58b81e880f68486f87dae4216c9bd5e7",
      "placeholder": "​",
      "style": "IPY_MODEL_5c2fb9d7002944369691843a9d4085c8",
      "value": "100%"
     }
    },
    "ec20ce86f13f4436ae499c85bae90cca": {
     "model_module": "@jupyter-widgets/controls",
     "model_module_version": "1.5.0",
     "model_name": "HTMLModel",
     "state": {
      "_dom_classes": [],
      "_model_module": "@jupyter-widgets/controls",
      "_model_module_version": "1.5.0",
      "_model_name": "HTMLModel",
      "_view_count": null,
      "_view_module": "@jupyter-widgets/controls",
      "_view_module_version": "1.5.0",
      "_view_name": "HTMLView",
      "description": "",
      "description_tooltip": null,
      "layout": "IPY_MODEL_051ebd493ec9496c842ab832cb8180bd",
      "placeholder": "​",
      "style": "IPY_MODEL_14a4609a2f904a10a4b39a53e87681b8",
      "value": " 39/39 [01:15&lt;00:00,  2.43it/s]"
     }
    },
    "f2ddabe661a34d09b10fa4ca9de3e423": {
     "model_module": "@jupyter-widgets/controls",
     "model_module_version": "1.5.0",
     "model_name": "HBoxModel",
     "state": {
      "_dom_classes": [],
      "_model_module": "@jupyter-widgets/controls",
      "_model_module_version": "1.5.0",
      "_model_name": "HBoxModel",
      "_view_count": null,
      "_view_module": "@jupyter-widgets/controls",
      "_view_module_version": "1.5.0",
      "_view_name": "HBoxView",
      "box_style": "",
      "children": [
       "IPY_MODEL_9186b57fcf6d48139dfb71d70c177042",
       "IPY_MODEL_31f7a608050c4aadb4854e19a98886fc",
       "IPY_MODEL_ec20ce86f13f4436ae499c85bae90cca"
      ],
      "layout": "IPY_MODEL_58dbb2b9bfb446149a952f807a1bda68"
     }
    }
   }
  }
 },
 "nbformat": 4,
 "nbformat_minor": 4
}
