{
 "cells": [
  {
   "cell_type": "markdown",
   "metadata": {},
   "source": [
    "### 0. Import libraries and load data"
   ]
  },
  {
   "cell_type": "code",
   "execution_count": 1,
   "metadata": {},
   "outputs": [],
   "source": [
    "%reload_ext autoreload\n",
    "\n",
    "import os\n",
    "import sys\n",
    "import copy\n",
    "import collections\n",
    "from abc import ABC, abstractmethod\n",
    "\n",
    "# custom scripts\n",
    "sys.path.append(os.path.realpath('../../'))\n",
    "from utils import load_save_data\n",
    "\n",
    "# utils\n",
    "import numpy as np\n",
    "from tqdm.auto import tqdm\n",
    "\n",
    "# Hugging Face\n",
    "import evaluate\n",
    "from transformers import pipeline\n",
    "from accelerate import Accelerator\n",
    "from transformers import get_scheduler\n",
    "from transformers import AutoTokenizer\n",
    "from transformers import default_data_collator\n",
    "from transformers import AutoModelForQuestionAnswering\n",
    "\n",
    "# PyTorch \n",
    "import torch\n",
    "from torch.optim import AdamW\n",
    "from torch.utils.data import DataLoader\n",
    "\n",
    "# if True, process only 200 elements\n",
    "TEST = True\n",
    "ROOT_PATH = \"../../models/\"\n",
    "MODEL_NAME = \"fine_tuned_tiny_bert\"\n",
    "PRTRAINED_MODEL_CHECKPOINT = \"prajjwal1/bert-tiny\""
   ]
  },
  {
   "cell_type": "code",
   "execution_count": 3,
   "metadata": {},
   "outputs": [
    {
     "data": {
      "application/vnd.jupyter.widget-view+json": {
       "model_id": "25ea390acb2c441cad3ee5c5145b0927",
       "version_major": 2,
       "version_minor": 0
      },
      "text/plain": [
       "Downloading data files:   0%|          | 0/2 [00:00<?, ?it/s]"
      ]
     },
     "metadata": {},
     "output_type": "display_data"
    },
    {
     "data": {
      "application/vnd.jupyter.widget-view+json": {
       "model_id": "3d9cb7640acd4d02841126bf14045971",
       "version_major": 2,
       "version_minor": 0
      },
      "text/plain": [
       "Extracting data files:   0%|          | 0/2 [00:00<?, ?it/s]"
      ]
     },
     "metadata": {},
     "output_type": "display_data"
    },
    {
     "data": {
      "application/vnd.jupyter.widget-view+json": {
       "model_id": "387e03bdea2044a188b9c72371d466a3",
       "version_major": 2,
       "version_minor": 0
      },
      "text/plain": [
       "Generating train split: 0 examples [00:00, ? examples/s]"
      ]
     },
     "metadata": {},
     "output_type": "display_data"
    },
    {
     "data": {
      "application/vnd.jupyter.widget-view+json": {
       "model_id": "c1b432acc5a64b58a09dd5934e26a0a4",
       "version_major": 2,
       "version_minor": 0
      },
      "text/plain": [
       "Generating validation split: 0 examples [00:00, ? examples/s]"
      ]
     },
     "metadata": {},
     "output_type": "display_data"
    },
    {
     "data": {
      "text/plain": [
       "DatasetDict({\n",
       "    train: Dataset({\n",
       "        features: ['id', 'title', 'context', 'question', 'answers'],\n",
       "        num_rows: 87599\n",
       "    })\n",
       "    validation: Dataset({\n",
       "        features: ['id', 'title', 'context', 'question', 'answers'],\n",
       "        num_rows: 10570\n",
       "    })\n",
       "})"
      ]
     },
     "execution_count": 3,
     "metadata": {},
     "output_type": "execute_result"
    }
   ],
   "source": [
    "data_loader = load_save_data.DataLoader(\"../../data/\")\n",
    "raw_data = data_loader.load_data()\n",
    "raw_data\n"
   ]
  },
  {
   "cell_type": "markdown",
   "metadata": {},
   "source": [
    "### 1. Preprocess the data"
   ]
  },
  {
   "cell_type": "code",
   "execution_count": 81,
   "metadata": {},
   "outputs": [],
   "source": [
    "class DataPreprocessor(ABC):\n",
    "    def __init__(self, max_length=384, stride=128) -> None:\n",
    "        self.max_length = max_length\n",
    "        self.stride = stride\n",
    "\n",
    "    @abstractmethod\n",
    "    def preprocess_train_data(self, questions_contexts):\n",
    "        pass\n",
    "\n",
    "    @abstractmethod\n",
    "    def preprocess_dev_data(self, questions_contexts):\n",
    "        pass\n"
   ]
  },
  {
   "cell_type": "code",
   "execution_count": 82,
   "metadata": {},
   "outputs": [],
   "source": [
    "class DefaultDataPreprocessor(DataPreprocessor):\n",
    "    def __init__(self, tokenizer, train_data_raw, dev_data_raw):\n",
    "        DataPreprocessor.__init__(self)\n",
    "        self.tokenizer = tokenizer\n",
    "        self.train_data_raw = train_data_raw\n",
    "        self.dev_data_raw = dev_data_raw\n",
    "\n",
    "    def preprocess_train_data(self, questions_contexts):\n",
    "        questions = [q.strip() for q in questions_contexts[\"question\"]]\n",
    "\n",
    "        preproc_questions_contexts = self.tokenizer(\n",
    "            questions,\n",
    "            questions_contexts[\"context\"],\n",
    "            max_length=self.max_length,\n",
    "            truncation=\"only_second\",\n",
    "            stride=self.stride,\n",
    "            return_overflowing_tokens=True,\n",
    "            return_offsets_mapping=True,\n",
    "            padding=\"max_length\",\n",
    "        )\n",
    "\n",
    "        offset_mapping = preproc_questions_contexts.pop(\"offset_mapping\")\n",
    "        sample_map = preproc_questions_contexts.pop(\"overflow_to_sample_mapping\")\n",
    "        answers = questions_contexts[\"answers\"]\n",
    "        start_positions = []\n",
    "        end_positions = []\n",
    "\n",
    "        for i, offset in enumerate(offset_mapping):\n",
    "            sample_idx = sample_map[i]\n",
    "            answer = answers[sample_idx]\n",
    "            start_char = answer[\"answer_start\"][0]\n",
    "            end_char = answer[\"answer_start\"][0] + len(answer[\"text\"][0])\n",
    "            sequence_ids = preproc_questions_contexts.sequence_ids(i)\n",
    "\n",
    "            idx = 0\n",
    "\n",
    "            while sequence_ids[idx] != 1:\n",
    "                idx += 1\n",
    "            context_start = idx\n",
    "\n",
    "            while sequence_ids[idx] == 1:\n",
    "                idx += 1\n",
    "            context_end = idx - 1\n",
    "\n",
    "            if offset[context_start][0] > start_char or offset[context_end][1] < end_char:\n",
    "                start_positions.append(0)\n",
    "                end_positions.append(0)\n",
    "            else:\n",
    "                idx = context_start\n",
    "\n",
    "                while idx <= context_end and offset[idx][0] <= start_char:\n",
    "                    idx += 1\n",
    "                start_positions.append(idx - 1)\n",
    "\n",
    "                idx = context_end\n",
    "\n",
    "                while idx >= context_start and offset[idx][1] >= end_char:\n",
    "                    idx -= 1\n",
    "                end_positions.append(idx + 1)\n",
    "\n",
    "        preproc_questions_contexts[\"start_positions\"] = start_positions\n",
    "        preproc_questions_contexts[\"end_positions\"] = end_positions\n",
    "\n",
    "        return preproc_questions_contexts\n",
    "\n",
    "    def preprocess_dev_data(self, questions_contexts):\n",
    "        questions = [q.strip() for q in questions_contexts[\"question\"]]\n",
    "\n",
    "        preproc_questions_contexts = self.tokenizer(\n",
    "            questions,\n",
    "            questions_contexts[\"context\"],\n",
    "            max_length=self.max_length,\n",
    "            truncation=\"only_second\",\n",
    "            stride=self.stride,\n",
    "            return_overflowing_tokens=True,\n",
    "            return_offsets_mapping=True,\n",
    "            padding=\"max_length\",\n",
    "        )\n",
    "\n",
    "        sample_map = preproc_questions_contexts.pop(\"overflow_to_sample_mapping\")\n",
    "        example_ids = []\n",
    "\n",
    "        for i in range(len(preproc_questions_contexts[\"input_ids\"])):\n",
    "            sample_idx = sample_map[i]\n",
    "            example_ids.append(questions_contexts[\"id\"][sample_idx])\n",
    "\n",
    "            sequence_ids = preproc_questions_contexts.sequence_ids(i)\n",
    "            offset = preproc_questions_contexts[\"offset_mapping\"][i]\n",
    "            preproc_questions_contexts[\"offset_mapping\"][i] = [\n",
    "                o if sequence_ids[k] == 1 else None for k, o in enumerate(offset)\n",
    "            ]\n",
    "\n",
    "        preproc_questions_contexts[\"example_id\"] = example_ids\n",
    "\n",
    "        return preproc_questions_contexts\n",
    "\n",
    "    def preprocess_data(self, dataset_name, verbose=True):\n",
    "        if dataset_name == \"train\":\n",
    "            preprocessed_data = self.train_data_raw.map(\n",
    "                self.preprocess_train_data,\n",
    "                batched=True,\n",
    "                remove_columns=self.train_data_raw.column_names,\n",
    "            )\n",
    "            initial_pairs_no = len(self.train_data_raw)\n",
    "        else:\n",
    "            preprocessed_data = self.dev_data_raw.map(\n",
    "                self.preprocess_dev_data,\n",
    "                batched=True,\n",
    "                remove_columns=self.dev_data_raw.column_names,\n",
    "            )\n",
    "            initial_pairs_no = len(self.dev_data_raw)\n",
    "        \n",
    "        if verbose:\n",
    "            print(\n",
    "                f\"Number of {dataset_name} question - context pairs:\\nInitially: {initial_pairs_no}\\nAfter preprocessing:{len(preprocessed_data)}\"\n",
    "            )\n",
    "        return preprocessed_data\n"
   ]
  },
  {
   "cell_type": "code",
   "execution_count": 83,
   "metadata": {},
   "outputs": [
    {
     "name": "stdout",
     "output_type": "stream",
     "text": [
      "Number of train question - context pairs:\n",
      "Initially: 87599\n",
      "After preprocessing:88524\n",
      "Number of validation question - context pairs:\n",
      "Initially: 10570\n",
      "After preprocessing:10784\n"
     ]
    }
   ],
   "source": [
    "tokenizer = AutoTokenizer.from_pretrained(PRTRAINED_MODEL_CHECKPOINT)\n",
    "default_data_preprocessor = DefaultDataPreprocessor(tokenizer, raw_data[\"train\"], raw_data[\"validation\"])\n",
    "\n",
    "train_dataset = default_data_preprocessor.preprocess_data(\"train\")\n",
    "validation_dataset = default_data_preprocessor.preprocess_data(\"validation\")\n",
    "\n",
    "if TEST:\n",
    "    train_dataset = train_dataset.select(range(1000))\n",
    "    validation_dataset = validation_dataset.select(range(1000))\n"
   ]
  },
  {
   "cell_type": "markdown",
   "metadata": {},
   "source": [
    "### 2. Postprocess the predictions"
   ]
  },
  {
   "cell_type": "code",
   "execution_count": 84,
   "metadata": {},
   "outputs": [],
   "source": [
    "class PredictionsPostprocessor(ABC):\n",
    "    def __init__(self, n_best=20, max_answer_length=30) -> None:\n",
    "        self.n_best = n_best\n",
    "        self.max_answer_length = max_answer_length\n",
    "\n",
    "    @abstractmethod\n",
    "    def postprocess_predictions(self, start_logits, end_logits, preprocessed_data, questions_contexts):\n",
    "        pass\n"
   ]
  },
  {
   "cell_type": "code",
   "execution_count": 85,
   "metadata": {},
   "outputs": [],
   "source": [
    "class DefaultPredictionsPostprocessor(PredictionsPostprocessor):\n",
    "    def __init__(self):\n",
    "        PredictionsPostprocessor.__init__(self)\n",
    "\n",
    "    def postprocess_predictions(self, start_logits, end_logits, preprocessed_data, questions_contexts):\n",
    "        mappings = collections.defaultdict(list)\n",
    "\n",
    "        for idx, preprocessed_data_ in enumerate(preprocessed_data):\n",
    "            mappings[preprocessed_data_[\"example_id\"]].append(idx)\n",
    "        \n",
    "        predicted_answers = []\n",
    "\n",
    "        for question_context in questions_contexts:\n",
    "            example_id = question_context[\"id\"]\n",
    "            context = question_context[\"context\"]\n",
    "            answers = []\n",
    "\n",
    "            for feature_index in mappings[example_id]:\n",
    "                start_logit = start_logits[feature_index]\n",
    "                end_logit = end_logits[feature_index]\n",
    "                offsets = preprocessed_data[feature_index][\"offset_mapping\"]\n",
    "\n",
    "                start_indexes = np.argsort(start_logit)[-1 : -self.n_best - 1 : -1].tolist()\n",
    "                end_indexes = np.argsort(end_logit)[-1 : -self.n_best - 1 : -1].tolist()\n",
    "\n",
    "                for start_index in start_indexes:\n",
    "                    for end_index in end_indexes:\n",
    "                        if offsets[start_index] is None or offsets[end_index] is None:\n",
    "                            continue\n",
    "\n",
    "                        if end_index < start_index or end_index - start_index + 1 > self.max_answer_length:\n",
    "                            continue\n",
    "\n",
    "                        answer = {\n",
    "                            \"text\": context[offsets[start_index][0] : offsets[end_index][1]],\n",
    "                            \"logit_score\": start_logit[start_index] + end_logit[end_index],\n",
    "                        }\n",
    "                        answers.append(answer)\n",
    "           \n",
    "            if len(answers) > 0:\n",
    "                best_answer = max(answers, key=lambda x: x[\"logit_score\"])\n",
    "                predicted_answers.append({\"id\": example_id, \"prediction_text\": best_answer[\"text\"]})\n",
    "            else:\n",
    "                predicted_answers.append({\"id\": example_id, \"prediction_text\": \"\"})\n",
    "        \n",
    "        correct_answers = [{\"id\": ex[\"id\"], \"answers\": ex[\"answers\"]} for ex in questions_contexts]\n",
    "\n",
    "        return predicted_answers, correct_answers\n"
   ]
  },
  {
   "cell_type": "markdown",
   "metadata": {},
   "source": [
    "### 3. Evaluate performance"
   ]
  },
  {
   "cell_type": "code",
   "execution_count": 86,
   "metadata": {},
   "outputs": [],
   "source": [
    "class MetricsEvaluator:\n",
    "    def __init__(self, dataset_name=\"squad\"):\n",
    "        self.metric = evaluate.load(dataset_name)\n",
    "\n",
    "    def compute_metric(self, predicted_answers, correct_answers):\n",
    "        metric_values = self.metric.compute(predictions=predicted_answers, references=correct_answers)\n",
    "\n",
    "        return metric_values\n"
   ]
  },
  {
   "cell_type": "markdown",
   "metadata": {},
   "source": [
    "### 4. Fine-tune TinyBERT"
   ]
  },
  {
   "cell_type": "code",
   "execution_count": 87,
   "metadata": {},
   "outputs": [],
   "source": [
    "class ModelTrainer:\n",
    "    def __init__(self, train_data, val_data, tokenizer, batch_size=8, learning_rate=2e-5, num_train_epochs=3):\n",
    "        self.val_data = copy.deepcopy(val_data)\n",
    "        self.tokenizer = tokenizer\n",
    "        self.batch_size = batch_size\n",
    "        self.learning_rate = learning_rate\n",
    "        self.num_train_epochs = num_train_epochs\n",
    "        self.metrics_evaluator = MetricsEvaluator()\n",
    "        self.default_prediction_postprocessor = DefaultPredictionsPostprocessor()\n",
    "\n",
    "        (\n",
    "            self.model,\n",
    "            self.optimizer,\n",
    "            self.train_data_loader,\n",
    "            self.val_data_loader,\n",
    "            self.accelerator,\n",
    "            self.lr_scheduler,\n",
    "            self.num_training_steps,\n",
    "        ) = self.__initialize_components(train_data, val_data)\n",
    "\n",
    "    def __format_data(self, train_data, val_data):\n",
    "        train_data.set_format(\"torch\")\n",
    "        val_data = val_data.remove_columns([\"example_id\", \"offset_mapping\"])\n",
    "        val_data.set_format(\"torch\")\n",
    "\n",
    "        return train_data, val_data\n",
    "\n",
    "    def __generate_data_loaders(self, train_data, val_data):\n",
    "        train_data_loader = DataLoader(\n",
    "            train_data,\n",
    "            shuffle=True,\n",
    "            collate_fn=default_data_collator,\n",
    "            batch_size=self.batch_size,\n",
    "        )\n",
    "\n",
    "        val_data_loader = DataLoader(val_data, collate_fn=default_data_collator, batch_size=self.batch_size)\n",
    "\n",
    "        return train_data_loader, val_data_loader\n",
    "\n",
    "    def __set_learning_rate_decay(self, train_data_loader, optimizer):\n",
    "        num_update_steps_per_epoch = len(train_data_loader)\n",
    "        num_training_steps = self.num_train_epochs * num_update_steps_per_epoch\n",
    "\n",
    "        lr_scheduler = get_scheduler(\n",
    "            \"linear\",\n",
    "            optimizer=optimizer,\n",
    "            num_warmup_steps=0,\n",
    "            num_training_steps=num_training_steps,\n",
    "        )\n",
    "\n",
    "        return lr_scheduler, num_training_steps\n",
    "\n",
    "    def __initialize_components(self, train_data, val_data):\n",
    "        train_data, val_data = self.__format_data(train_data, val_data)\n",
    "        train_data_loader, val_data_loader = self.__generate_data_loaders(train_data, val_data)\n",
    "        model = AutoModelForQuestionAnswering.from_pretrained(PRTRAINED_MODEL_CHECKPOINT)\n",
    "        optimizer = AdamW(model.parameters(), lr=self.learning_rate)\n",
    "\n",
    "        accelerator = Accelerator()\n",
    "        model, optimizer, train_data_loader, val_data_loader = accelerator.prepare(\n",
    "            model, optimizer, train_data_loader, val_data_loader\n",
    "        )\n",
    "\n",
    "        lr_scheduler, num_training_steps = self.__set_learning_rate_decay(train_data_loader, optimizer)\n",
    "\n",
    "        return model, optimizer, train_data_loader, val_data_loader, accelerator, lr_scheduler, num_training_steps\n",
    "\n",
    "    def __store_artifacts(self):\n",
    "        self.accelerator.wait_for_everyone()\n",
    "        unwrapped_model = self.accelerator.unwrap_model(self.model)\n",
    "        unwrapped_model.save_pretrained(f\"{ROOT_PATH}{MODEL_NAME}_model\", save_function=self.accelerator.save)\n",
    "\n",
    "        if self.accelerator.is_main_process:\n",
    "            self.tokenizer.save_pretrained(f\"{ROOT_PATH}{MODEL_NAME}_tokenizer\")\n",
    "\n",
    "    def train(self):\n",
    "        progress_bar = tqdm(range(self.num_training_steps))\n",
    "\n",
    "        for epoch in range(self.num_train_epochs):\n",
    "            self.model.train()\n",
    "\n",
    "            for batch in self.train_data_loader:\n",
    "                outputs = self.model(**batch)\n",
    "                loss = outputs.loss\n",
    "                self.accelerator.backward(loss)\n",
    "\n",
    "                self.optimizer.step()\n",
    "                self.lr_scheduler.step()\n",
    "                self.optimizer.zero_grad()\n",
    "                progress_bar.update(1)\n",
    "\n",
    "            self.model.eval()\n",
    "            start_logits = []\n",
    "            end_logits = []\n",
    "            self.accelerator.print(\"Evaluation!\")\n",
    "\n",
    "            for batch in self.val_data_loader:\n",
    "                with torch.no_grad():\n",
    "                    outputs = self.model(**batch)\n",
    "                \n",
    "                start_logits.append(self.accelerator.gather(outputs.start_logits).cpu().numpy())\n",
    "                end_logits.append(self.accelerator.gather(outputs.end_logits).cpu().numpy())\n",
    "            \n",
    "            start_logits = np.concatenate(start_logits)\n",
    "            end_logits = np.concatenate(end_logits)\n",
    "            start_logits = start_logits[: len(self.val_data)]\n",
    "            end_logits = end_logits[: len(self.val_data)]\n",
    "\n",
    "            predicted_answers, correct_answers = self.default_prediction_postprocessor.postprocess_predictions(\n",
    "                start_logits, end_logits, self.val_data, raw_data[\"validation\"]\n",
    "            )\n",
    "\n",
    "            metrics = self.metrics_evaluator.compute_metric(predicted_answers, correct_answers)\n",
    "            print(f\"epoch {epoch}:\", metrics)\n",
    "\n",
    "            self.__store_artifacts()\n"
   ]
  },
  {
   "cell_type": "code",
   "execution_count": 88,
   "metadata": {},
   "outputs": [
    {
     "name": "stderr",
     "output_type": "stream",
     "text": [
      "Some weights of BertForQuestionAnswering were not initialized from the model checkpoint at prajjwal1/bert-tiny and are newly initialized: ['qa_outputs.bias', 'qa_outputs.weight']\n",
      "You should probably TRAIN this model on a down-stream task to be able to use it for predictions and inference.\n"
     ]
    },
    {
     "data": {
      "application/vnd.jupyter.widget-view+json": {
       "model_id": "7ac06b9686a74f3cb32cb62810afba43",
       "version_major": 2,
       "version_minor": 0
      },
      "text/plain": [
       "  0%|          | 0/375 [00:00<?, ?it/s]"
      ]
     },
     "metadata": {},
     "output_type": "display_data"
    },
    {
     "name": "stdout",
     "output_type": "stream",
     "text": [
      "epoch 0: {'exact_match': 0.21759697256385999, 'f1': 0.7566959987786328}\n",
      "epoch 1: {'exact_match': 0.28382213812677387, 'f1': 0.9309748357510035}\n",
      "epoch 2: {'exact_match': 0.27436140018921473, 'f1': 0.9461713470970626}\n"
     ]
    }
   ],
   "source": [
    "model_trainer = ModelTrainer(train_dataset, validation_dataset, tokenizer)\n",
    "model_trainer.train()\n"
   ]
  },
  {
   "cell_type": "markdown",
   "metadata": {},
   "source": [
    "### 5. Test fine-tuned model and tokenizer"
   ]
  },
  {
   "cell_type": "code",
   "execution_count": 89,
   "metadata": {},
   "outputs": [],
   "source": [
    "class QuestionAnswerer:\n",
    "    FINETUNED_MODEL_CHECKPOINT = f\"{ROOT_PATH}{MODEL_NAME}_model\"\n",
    "    FINETUNED_TOKENIZER_CHECKPOINT = f\"{ROOT_PATH}{MODEL_NAME}_tokenizer\"\n",
    "\n",
    "    def __init__(self):\n",
    "        self.pipeline = pipeline(\n",
    "            \"question-answering\", model=self.FINETUNED_MODEL_CHECKPOINT, tokenizer=self.FINETUNED_TOKENIZER_CHECKPOINT\n",
    "        )\n",
    "\n",
    "    def answer_question(self, context, question):\n",
    "        prediction = self.pipeline(question=question, context=context)\n",
    "        answer = prediction[\"answer\"]\n",
    "        score = prediction[\"score\"]\n",
    "\n",
    "        return answer, score\n"
   ]
  },
  {
   "cell_type": "code",
   "execution_count": 91,
   "metadata": {},
   "outputs": [
    {
     "name": "stderr",
     "output_type": "stream",
     "text": [
      "Special tokens have been added in the vocabulary, make sure the associated word embeddings are fine-tuned or trained.\n"
     ]
    },
    {
     "name": "stdout",
     "output_type": "stream",
     "text": [
      "'Romania' - score: 0.0587\n"
     ]
    }
   ],
   "source": [
    "question_answerer = QuestionAnswerer()\n",
    "answer, score = question_answerer.answer_question(\"Bucharest is the capital city of Romania.\", \"What's the capital city of Romania?\")\n",
    "print(f\"'{answer}' - score: {round(score, 4)}\")\n"
   ]
  }
 ],
 "metadata": {
  "kernelspec": {
   "display_name": "tiny_bert",
   "language": "python",
   "name": "python3"
  },
  "language_info": {
   "codemirror_mode": {
    "name": "ipython",
    "version": 3
   },
   "file_extension": ".py",
   "mimetype": "text/x-python",
   "name": "python",
   "nbconvert_exporter": "python",
   "pygments_lexer": "ipython3",
   "version": "3.11.5"
  }
 },
 "nbformat": 4,
 "nbformat_minor": 2
}
