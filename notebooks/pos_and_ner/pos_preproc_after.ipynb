{
 "cells": [
  {
   "cell_type": "code",
   "execution_count": 1,
   "id": "68e8ca0b-2e9c-4884-8d26-a1cdf557a9b7",
   "metadata": {},
   "outputs": [],
   "source": [
    "import json\n",
    "import tqdm"
   ]
  },
  {
   "cell_type": "code",
   "execution_count": 2,
   "id": "e6533324-85cf-4079-a104-d20a981f6338",
   "metadata": {},
   "outputs": [],
   "source": [
    "def read_data(input_file_path):\n",
    "    data = []\n",
    "\n",
    "    with open(input_file_path) as f:\n",
    "        for line in f:\n",
    "            data.append(json.loads(line))\n",
    "\n",
    "    return data"
   ]
  },
  {
   "cell_type": "code",
   "execution_count": 8,
   "id": "19acef7f-8468-4974-9499-dc6b5de3cac1",
   "metadata": {},
   "outputs": [],
   "source": [
    "data = read_data(\"./squad_data_train_pos_ner.json\")"
   ]
  },
  {
   "cell_type": "code",
   "execution_count": 9,
   "id": "604c0b3a-138b-49c1-bd9d-13aec5626448",
   "metadata": {},
   "outputs": [
    {
     "data": {
      "text/plain": [
       "'Architecturally, the school has a Catholic character. Atop the Main Building\\'s gold dome is a golden statue of the Virgin Mary. Immediately in front of the Main Building and facing it, is a copper statue of Christ with arms upraised with the legend \"Venite Ad Me Omnes\". Next to the Main Building is the Basilica of the Sacred Heart. Immediately behind the basilica is the Grotto, a Marian place of prayer and reflection. It is a replica of the grotto at Lourdes, France where the Virgin Mary reputedly appeared to Saint Bernadette Soubirous in 1858. At the end of the main drive (and in a direct line that connects through 3 statues and the Gold Dome), is a simple, modern stone statue of Mary. [rb] [sym] [dt] [nn] [vbz] [dt] [jj] [nn] [sym] [in] [dt] [nnp] [nnp] [pos] [jj] [nn] [vbz] [dt] [jj] [nn] [in] [dt] [nnp] [nnp] [sym] [rb] [in] [nn] [in] [dt] [nnp] [nnp] [cc] [vbg] [prp] [sym] [vbz] [dt] [nn] [nn] [in] [nnp] [in] [nns] [vbn] [in] [dt] [nn] [sym] [nnp] [nnp] [nnp] [nnp] [sym] [sym] [rb] [in] [dt] [nnp] [nnp] [vbz] [dt] [nnp] [in] [dt] [nnp] [nnp] [sym] [rb] [in] [dt] [nn] [vbz] [dt] [nnp] [sym] [dt] [jj] [nn] [in] [nn] [cc] [nn] [sym] [prp] [vbz] [dt] [nn] [in] [dt] [nn] [in] [nnp] [sym] [nnp] [wrb] [dt] [nnp] [nnp] [rb] [vbd] [in] [nnp] [nnp] [nnp] [in] [cd] [sym] [in] [dt] [nn] [in] [dt] [jj] [nn] [sym] [cc] [in] [dt] [jj] [nn] [wdt] [vbz] [in] [cd] [nns] [cc] [dt] [nnp] [nnp] [sym] [sym] [vbz] [dt] [jj] [sym] [jj] [nn] [nn] [in] [nnp] [sym] '"
      ]
     },
     "execution_count": 9,
     "metadata": {},
     "output_type": "execute_result"
    }
   ],
   "source": [
    "special_characters = ['$', ',', \"''\", '-LRB-', '-RRB-', '.', ':', '``']\n",
    "\n",
    "def get_proc_pos_after_item(pos_items, item_text):\n",
    "    pos = ''\n",
    "    for index in range(len(pos_items)):\n",
    "        pos_text = pos_items[index][str(index)]\n",
    "        if pos_text[1] in special_characters:\n",
    "            pos_text[1] = 'sym'\n",
    "        pos += f'[{pos_text[1].lower()}] '\n",
    "\n",
    "    return f'{item_text} {pos}'\n",
    "\n",
    "get_proc_pos_after_item(data[0]['POS_context'], data[0]['context'])"
   ]
  },
  {
   "cell_type": "code",
   "execution_count": 10,
   "id": "5fb2b313-05f7-4419-b843-59781587d406",
   "metadata": {},
   "outputs": [],
   "source": [
    "for item in data:\n",
    "    context = item['context']\n",
    "    question = item['question']\n",
    "    item['context'] = get_proc_pos_after_item(item['POS_context'], context)\n",
    "    # data['question'] = get_proc_pos_item(data['POS_question'], question)\n",
    "\n",
    "    item.pop('POS_context', None)\n",
    "    item.pop('POS_question', None)\n",
    "    item.pop('NER_question', None)\n",
    "    item.pop('NER_context', None)"
   ]
  },
  {
   "cell_type": "code",
   "execution_count": 11,
   "id": "58fc9b90-51ea-463b-87d1-128d5ad44cb2",
   "metadata": {},
   "outputs": [
    {
     "name": "stdout",
     "output_type": "stream",
     "text": [
      "Data with 'Test' property added has been saved to ./squad_data_train_pos_after.json\n"
     ]
    }
   ],
   "source": [
    "def write_data(output_file_path):\n",
    "    # Open a new JSON file for writing\n",
    "    with open(output_file_path, \"w\") as output_file:\n",
    "        for data_line in data:\n",
    "            output_file.write(json.dumps(data_line) + \"\\n\")\n",
    "\n",
    "    print(f\"Data with 'Test' property added has been saved to {output_file_path}\")\n",
    "\n",
    "\n",
    "write_data(\"./squad_data_train_pos_after.json\")"
   ]
  },
  {
   "cell_type": "code",
   "execution_count": 12,
   "id": "db2b72fa-556f-438e-a745-b5dca463907a",
   "metadata": {},
   "outputs": [],
   "source": [
    "pro_input_file = './squad_data_validation_pos_after.json'\n",
    "proc_data = []\n",
    "keys = ['id', 'title', 'context', 'question', 'answers']\n",
    "with open(pro_input_file) as f:\n",
    "    for line in f:\n",
    "        proc_data.append(json.loads(line))\n",
    "\n",
    "for item in proc_data:\n",
    "    for key in keys:\n",
    "        if key not in item.keys():\n",
    "            print(item['id'], key)"
   ]
  }
 ],
 "metadata": {
  "kernelspec": {
   "display_name": "Python",
   "language": "python",
   "name": "python3"
  },
  "language_info": {
   "codemirror_mode": {
    "name": "ipython",
    "version": 3
   },
   "file_extension": ".py",
   "mimetype": "text/x-python",
   "name": "python",
   "nbconvert_exporter": "python",
   "pygments_lexer": "ipython3",
   "version": "3.8.10"
  }
 },
 "nbformat": 4,
 "nbformat_minor": 5
}
