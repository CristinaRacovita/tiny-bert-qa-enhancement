{
 "cells": [
  {
   "cell_type": "markdown",
   "metadata": {},
   "source": [
    "### 0. Import libraries and load data"
   ]
  },
  {
   "cell_type": "code",
   "execution_count": 7,
   "metadata": {},
   "outputs": [],
   "source": [
    "%reload_ext autoreload\n",
    "\n",
    "import os\n",
    "import sys\n",
    "import collections\n",
    "from abc import ABC, abstractmethod\n",
    "\n",
    "# custom scripts\n",
    "sys.path.append(os.path.realpath('..'))\n",
    "from utils import load_save_data\n",
    "\n",
    "# utils\n",
    "import numpy as np\n",
    "from tqdm.auto import tqdm\n",
    "\n",
    "# Hugging Face\n",
    "import evaluate\n",
    "from accelerate import Accelerator\n",
    "from transformers import get_scheduler\n",
    "from transformers import AutoTokenizer\n",
    "from transformers import default_data_collator\n",
    "from transformers import AutoModelForQuestionAnswering\n",
    "\n",
    "# PyTorch \n",
    "import torch\n",
    "from torch.optim import AdamW\n",
    "from torch.utils.data import DataLoader"
   ]
  },
  {
   "cell_type": "code",
   "execution_count": 8,
   "metadata": {},
   "outputs": [
    {
     "data": {
      "text/plain": [
       "DatasetDict({\n",
       "    train: Dataset({\n",
       "        features: ['id', 'title', 'context', 'question', 'answers'],\n",
       "        num_rows: 87599\n",
       "    })\n",
       "    validation: Dataset({\n",
       "        features: ['id', 'title', 'context', 'question', 'answers'],\n",
       "        num_rows: 10570\n",
       "    })\n",
       "})"
      ]
     },
     "execution_count": 8,
     "metadata": {},
     "output_type": "execute_result"
    }
   ],
   "source": [
    "data_loader = load_save_data.DataLoader()\n",
    "raw_data = data_loader.load_data()\n",
    "raw_data"
   ]
  },
  {
   "cell_type": "markdown",
   "metadata": {},
   "source": [
    "### 1. Preprocess the data"
   ]
  },
  {
   "cell_type": "code",
   "execution_count": 9,
   "metadata": {},
   "outputs": [],
   "source": [
    "# TODO: make them upper case\n",
    "class DataPreprocessor(ABC):\n",
    "    def __init__(self) -> None:\n",
    "        self.max_length = 384\n",
    "        self.stride = 128\n",
    "\n",
    "    @abstractmethod\n",
    "    def preprocess_train_data(self, questions_contexts):\n",
    "        pass\n",
    "\n",
    "    @abstractmethod\n",
    "    def preprocess_dev_data(self, questions_contexts):\n",
    "        pass"
   ]
  },
  {
   "cell_type": "code",
   "execution_count": 10,
   "metadata": {},
   "outputs": [],
   "source": [
    "class DefaultDataPreprocessor(DataPreprocessor):\n",
    "    def __init__(self, tokenizer, train_data_raw, dev_data_raw):\n",
    "        DataPreprocessor.__init__(self)\n",
    "        self.tokenizer = tokenizer\n",
    "        self.train_data_raw = train_data_raw\n",
    "        self.dev_data_raw = dev_data_raw\n",
    "\n",
    "    def preprocess_train_data(self, questions_contexts):\n",
    "        questions = [q.strip() for q in questions_contexts[\"question\"]]\n",
    "\n",
    "        preproc_questions_contexts = self.tokenizer(\n",
    "            questions,\n",
    "            questions_contexts[\"context\"],\n",
    "            max_length=self.max_length,\n",
    "            truncation=\"only_second\",\n",
    "            stride=self.stride,\n",
    "            return_overflowing_tokens=True,\n",
    "            return_offsets_mapping=True,\n",
    "            padding=\"max_length\",\n",
    "        )\n",
    "\n",
    "        offset_mapping = preproc_questions_contexts.pop(\"offset_mapping\")\n",
    "        sample_map = preproc_questions_contexts.pop(\"overflow_to_sample_mapping\")\n",
    "        answers = questions_contexts[\"answers\"]\n",
    "        start_positions = []\n",
    "        end_positions = []\n",
    "\n",
    "        for i, offset in enumerate(offset_mapping):\n",
    "            sample_idx = sample_map[i]\n",
    "            answer = answers[sample_idx]\n",
    "            start_char = answer[\"answer_start\"][0]\n",
    "            end_char = answer[\"answer_start\"][0] + len(answer[\"text\"][0])\n",
    "            sequence_ids = preproc_questions_contexts.sequence_ids(i)\n",
    "\n",
    "            idx = 0\n",
    "\n",
    "            while sequence_ids[idx] != 1:\n",
    "                idx += 1\n",
    "            context_start = idx\n",
    "\n",
    "            while sequence_ids[idx] == 1:\n",
    "                idx += 1\n",
    "            context_end = idx - 1\n",
    "\n",
    "            if (\n",
    "                offset[context_start][0] > start_char\n",
    "                or offset[context_end][1] < end_char\n",
    "            ):\n",
    "                start_positions.append(0)\n",
    "                end_positions.append(0)\n",
    "            else:\n",
    "                idx = context_start\n",
    "\n",
    "                while idx <= context_end and offset[idx][0] <= start_char:\n",
    "                    idx += 1\n",
    "                start_positions.append(idx - 1)\n",
    "\n",
    "                idx = context_end\n",
    "\n",
    "                while idx >= context_start and offset[idx][1] >= end_char:\n",
    "                    idx -= 1\n",
    "                end_positions.append(idx + 1)\n",
    "\n",
    "        preproc_questions_contexts[\"start_positions\"] = start_positions\n",
    "        preproc_questions_contexts[\"end_positions\"] = end_positions\n",
    "\n",
    "        return preproc_questions_contexts\n",
    "\n",
    "    def preprocess_dev_data(self, questions_contexts):\n",
    "        questions = [q.strip() for q in questions_contexts[\"question\"]]\n",
    "\n",
    "        preproc_questions_contexts = self.tokenizer(\n",
    "            questions,\n",
    "            questions_contexts[\"context\"],\n",
    "            max_length=self.max_length,\n",
    "            truncation=\"only_second\",\n",
    "            stride=self.stride,\n",
    "            return_overflowing_tokens=True,\n",
    "            return_offsets_mapping=True,\n",
    "            padding=\"max_length\",\n",
    "        )\n",
    "\n",
    "        sample_map = preproc_questions_contexts.pop(\"overflow_to_sample_mapping\")\n",
    "        example_ids = []\n",
    "\n",
    "        for i in range(len(preproc_questions_contexts[\"input_ids\"])):\n",
    "            sample_idx = sample_map[i]\n",
    "            example_ids.append(questions_contexts[\"id\"][sample_idx])\n",
    "\n",
    "            sequence_ids = preproc_questions_contexts.sequence_ids(i)\n",
    "            offset = preproc_questions_contexts[\"offset_mapping\"][i]\n",
    "            preproc_questions_contexts[\"offset_mapping\"][i] = [\n",
    "                o if sequence_ids[k] == 1 else None for k, o in enumerate(offset)\n",
    "            ]\n",
    "\n",
    "        preproc_questions_contexts[\"example_id\"] = example_ids\n",
    "\n",
    "        return preproc_questions_contexts\n",
    "\n",
    "    def preprocess_data(self, dataset_name=\"train\", verbose=True):\n",
    "        if dataset_name == \"train\":\n",
    "            preprocessed_data = self.train_data_raw.map(\n",
    "                self.preprocess_train_data,\n",
    "                batched=True,\n",
    "                remove_columns=self.train_data_raw.column_names,\n",
    "            )\n",
    "            initial_pairs_no = len(self.train_data_raw)\n",
    "\n",
    "        else:\n",
    "            preprocessed_data = self.dev_data_raw.map(\n",
    "                self.preprocess_dev_data,\n",
    "                batched=True,\n",
    "                remove_columns=self.dev_data_raw.column_names,\n",
    "            )\n",
    "            initial_pairs_no = len(self.dev_data_raw)\n",
    "\n",
    "        if verbose:\n",
    "            print(\n",
    "                f\"Nnumber of {dataset_name} question - context pairs:\\nInitially: {initial_pairs_no}\\nAfter preprocessing:{len(preprocessed_data)}\"\n",
    "            )\n",
    "\n",
    "        return preprocessed_data"
   ]
  },
  {
   "cell_type": "code",
   "execution_count": 11,
   "metadata": {},
   "outputs": [
    {
     "name": "stdout",
     "output_type": "stream",
     "text": [
      "Nnumber of train question - context pairs:\n",
      "Initially: 87599\n",
      "After preprocessing:88524\n"
     ]
    },
    {
     "data": {
      "application/vnd.jupyter.widget-view+json": {
       "model_id": "403911e60e674604957852a004665fc8",
       "version_major": 2,
       "version_minor": 0
      },
      "text/plain": [
       "Map:   0%|          | 0/10570 [00:00<?, ? examples/s]"
      ]
     },
     "metadata": {},
     "output_type": "display_data"
    },
    {
     "name": "stdout",
     "output_type": "stream",
     "text": [
      "Nnumber of validation question - context pairs:\n",
      "Initially: 10570\n",
      "After preprocessing:10784\n"
     ]
    }
   ],
   "source": [
    "MODEL_CHECKPOINT = \"prajjwal1/bert-tiny\"\n",
    "tokenizer = AutoTokenizer.from_pretrained(MODEL_CHECKPOINT)\n",
    "default_data_preprocessor = DefaultDataPreprocessor(\n",
    "    tokenizer, raw_data[\"train\"], raw_data[\"validation\"]\n",
    ")\n",
    "\n",
    "train_dataset = default_data_preprocessor.preprocess_data(\"train\")\n",
    "validation_dataset = default_data_preprocessor.preprocess_data(\"validation\")"
   ]
  },
  {
   "cell_type": "code",
   "execution_count": 12,
   "metadata": {},
   "outputs": [],
   "source": [
    "# TODO: delete this afterwards\n",
    "train_dataset = train_dataset.select(range(100))\n",
    "validation_dataset = validation_dataset.select(range(100))"
   ]
  },
  {
   "cell_type": "markdown",
   "metadata": {},
   "source": [
    "### 2. Postprocess the predictions"
   ]
  },
  {
   "cell_type": "code",
   "execution_count": 19,
   "metadata": {},
   "outputs": [],
   "source": [
    "class PredictionsPostprocessor(ABC):\n",
    "    def __init__(self) -> None:\n",
    "        self.n_best = 20\n",
    "        self.max_answer_length = 30\n",
    "\n",
    "    @abstractmethod\n",
    "    def postprocess_predictions(self, questions_contexts):\n",
    "        pass"
   ]
  },
  {
   "cell_type": "code",
   "execution_count": 20,
   "metadata": {},
   "outputs": [],
   "source": [
    "class DefaultPredictionsPostprocessor(PredictionsPostprocessor):\n",
    "    def __init__(self):\n",
    "        PredictionsPostprocessor.__init__(self)\n",
    "\n",
    "    def postprocess_predictions(\n",
    "        self, start_logits, end_logits, preprocessed_data, questions_contexts\n",
    "    ):\n",
    "        mappings = collections.defaultdict(list)\n",
    "\n",
    "        for idx, preprocessed_data_ in enumerate(preprocessed_data):\n",
    "            mappings[preprocessed_data_[\"example_id\"]].append(idx)\n",
    "\n",
    "        predicted_answers = []\n",
    "\n",
    "        for question_context in tqdm(questions_contexts):\n",
    "            example_id = question_context[\"id\"]\n",
    "            context = question_context[\"context\"]\n",
    "            answers = []\n",
    "\n",
    "            for feature_index in mappings[example_id]:\n",
    "                start_logit = start_logits[feature_index]\n",
    "                end_logit = end_logits[feature_index]\n",
    "                offsets = preprocessed_data[feature_index][\"offset_mapping\"]\n",
    "\n",
    "                start_indexes = np.argsort(start_logit)[-1 : -self.n_best - 1 : -1].tolist()\n",
    "                end_indexes = np.argsort(end_logit)[-1 : -self.n_best - 1 : -1].tolist()\n",
    "\n",
    "                for start_index in start_indexes:\n",
    "                    for end_index in end_indexes:\n",
    "                        if offsets[start_index] is None or offsets[end_index] is None:\n",
    "                            continue\n",
    "\n",
    "                        if (\n",
    "                            end_index < start_index\n",
    "                            or end_index - start_index + 1 > self.max_answer_length\n",
    "                        ):\n",
    "                            continue\n",
    "\n",
    "                        answer = {\n",
    "                            \"text\": context[offsets[start_index][0] : offsets[end_index][1]],\n",
    "                            \"logit_score\": start_logit[start_index] + end_logit[end_index],\n",
    "                        }\n",
    "                        answers.append(answer)\n",
    "\n",
    "            if len(answers) > 0:\n",
    "                best_answer = max(answers, key=lambda x: x[\"logit_score\"])\n",
    "                predicted_answers.append({\"id\": example_id, \"prediction_text\": best_answer[\"text\"]})\n",
    "            else:\n",
    "                predicted_answers.append({\"id\": example_id, \"prediction_text\": \"\"})\n",
    "\n",
    "        correct_answers = [{\"id\": ex[\"id\"], \"answers\": ex[\"answers\"]} for ex in questions_contexts]\n",
    "\n",
    "        return predicted_answers, correct_answers\n"
   ]
  },
  {
   "cell_type": "markdown",
   "metadata": {},
   "source": [
    "### 3. Evaluate performance"
   ]
  },
  {
   "cell_type": "code",
   "execution_count": 26,
   "metadata": {},
   "outputs": [],
   "source": [
    "class MetricsEvaluator:\n",
    "    def __init__(self):\n",
    "        self.metric = evaluate.load(\"squad\")\n",
    "\n",
    "    def compute_metric(self, predicted_answers, correct_answers):\n",
    "        metric_values = self.metric.compute(predictions=predicted_answers, references=correct_answers)\n",
    "\n",
    "        return metric_values"
   ]
  },
  {
   "cell_type": "markdown",
   "metadata": {},
   "source": [
    "### 3. Fine-tune TinyBERT"
   ]
  },
  {
   "cell_type": "code",
   "execution_count": 27,
   "metadata": {},
   "outputs": [],
   "source": [
    "class ModelTrainer:\n",
    "    def __init__(self, train_data, val_data, artifacts_name=\"fine_tuned_tiny_bert\"):\n",
    "        self.batch_size = 8\n",
    "        self.learning_rate = 2e-5\n",
    "        self.num_train_epochs = 1\n",
    "        self.artifacts_name = artifacts_name\n",
    "        self.metrics_evaluator = MetricsEvaluator()\n",
    "        self.default_prediction_postprocessor = DefaultPredictionsPostprocessor()\n",
    "\n",
    "        (\n",
    "            self.model,\n",
    "            self.optimizer,\n",
    "            self.train_data_loader,\n",
    "            self.val_data_loader,\n",
    "            self.accelerator,\n",
    "            self.lr_scheduler,\n",
    "            self.num_training_steps\n",
    "        ) = self.__initialize_components(train_data, val_data)\n",
    "\n",
    "    def __format_data(self, train_data, val_data):\n",
    "        train_data.set_format(\"torch\")\n",
    "        val_data = val_data.remove_columns([\"example_id\", \"offset_mapping\"])\n",
    "        val_data.set_format(\"torch\")\n",
    "\n",
    "        return train_data, val_data\n",
    "\n",
    "    def __generate_data_loaders(self, train_data, val_data):\n",
    "        train_data_loader = DataLoader(\n",
    "            train_data,\n",
    "            shuffle=True,\n",
    "            collate_fn=default_data_collator,\n",
    "            batch_size=self.batch_size,\n",
    "        )\n",
    "\n",
    "        val_data_loader = DataLoader(\n",
    "            val_data, collate_fn=default_data_collator, batch_size=self.batch_size\n",
    "        )\n",
    "\n",
    "        return train_data_loader, val_data_loader\n",
    "\n",
    "    def __set_learning_rate_decay(self, train_data_loader, optimizer):\n",
    "        num_update_steps_per_epoch = len(train_data_loader)\n",
    "        num_training_steps = self.num_train_epochs * num_update_steps_per_epoch\n",
    "\n",
    "        lr_scheduler = get_scheduler(\n",
    "            \"linear\",\n",
    "            optimizer=optimizer,\n",
    "            num_warmup_steps=0,\n",
    "            num_training_steps=num_training_steps,\n",
    "        )\n",
    "\n",
    "        return lr_scheduler, num_training_steps\n",
    "\n",
    "    def __initialize_components(self, train_data, val_data):\n",
    "        train_data, val_data = self.__format_data(train_data, val_data)\n",
    "        train_data_loader, val_data_loader = self.__generate_data_loaders(\n",
    "            train_data, val_data\n",
    "        )\n",
    "        model = AutoModelForQuestionAnswering.from_pretrained(MODEL_CHECKPOINT)\n",
    "        optimizer = AdamW(model.parameters(), lr=self.learning_rate)\n",
    "\n",
    "        accelerator = Accelerator()  # initially the parameter fp16 was set to True\n",
    "        model, optimizer, train_dataloader, val_dataloader = accelerator.prepare(\n",
    "            model, optimizer, train_data_loader, val_data_loader\n",
    "        )\n",
    "\n",
    "        lr_scheduler, num_training_steps = self.__set_learning_rate_decay(train_data_loader, optimizer)\n",
    "\n",
    "        return model, optimizer, train_dataloader, val_dataloader, accelerator, lr_scheduler, num_training_steps\n",
    "    \n",
    "    def __store_artifacts(self):\n",
    "            # Save and upload\n",
    "            self.accelerator.wait_for_everyone()\n",
    "            unwrapped_model = self.accelerator.unwrap_model(self.model)\n",
    "            unwrapped_model.save_pretrained(\n",
    "                f\"./{self.artifacts_name}_model\", save_function=self.accelerator.save\n",
    "            )\n",
    "\n",
    "            if self.accelerator.is_main_process:\n",
    "                tokenizer.save_pretrained(f\"./{self.artifacts_name}_tokenizer\")    \n",
    "\n",
    "    def train(self):\n",
    "        progress_bar = tqdm(range(self.num_training_steps))\n",
    "\n",
    "        for epoch in range(self.num_train_epochs):\n",
    "            # Training\n",
    "            self.model.train()\n",
    "            for step, batch in enumerate(self.train_data_loader):\n",
    "                outputs = self.model(**batch)\n",
    "                loss = outputs.loss\n",
    "                self.accelerator.backward(loss)\n",
    "\n",
    "                self.optimizer.step()\n",
    "                self.lr_scheduler.step()\n",
    "                self.optimizer.zero_grad()\n",
    "                progress_bar.update(1)\n",
    "\n",
    "            # Evaluation\n",
    "            self.model.eval()\n",
    "            start_logits = []\n",
    "            end_logits = []\n",
    "            self.accelerator.print(\"Evaluation!\")\n",
    "            for batch in tqdm(self.val_data_loader):\n",
    "                with torch.no_grad():\n",
    "                    outputs = self.model(**batch)\n",
    "\n",
    "                start_logits.append(self.accelerator.gather(outputs.start_logits).cpu().numpy())\n",
    "                end_logits.append(self.accelerator.gather(outputs.end_logits).cpu().numpy())\n",
    "\n",
    "            start_logits = np.concatenate(start_logits)\n",
    "            end_logits = np.concatenate(end_logits)\n",
    "            start_logits = start_logits[: len(validation_dataset)]\n",
    "            end_logits = end_logits[: len(validation_dataset)]\n",
    "\n",
    "            predicted_answers, correct_answers = self.default_prediction_postprocessor.postprocess_predictions(start_logits, end_logits, validation_dataset, raw_data[\"validation\"])\n",
    "\n",
    "            metrics = self.metrics_evaluator.compute_metric(predicted_answers, correct_answers)\n",
    "            print(f\"epoch {epoch}:\", metrics)\n",
    "\n",
    "            self.__store_artifacts()"
   ]
  },
  {
   "cell_type": "code",
   "execution_count": 28,
   "metadata": {},
   "outputs": [
    {
     "name": "stderr",
     "output_type": "stream",
     "text": [
      "Some weights of BertForQuestionAnswering were not initialized from the model checkpoint at prajjwal1/bert-tiny and are newly initialized: ['qa_outputs.weight', 'qa_outputs.bias']\n",
      "You should probably TRAIN this model on a down-stream task to be able to use it for predictions and inference.\n"
     ]
    },
    {
     "data": {
      "application/vnd.jupyter.widget-view+json": {
       "model_id": "9618199e4a894da08c1e953ca312928d",
       "version_major": 2,
       "version_minor": 0
      },
      "text/plain": [
       "  0%|          | 0/13 [00:00<?, ?it/s]"
      ]
     },
     "metadata": {},
     "output_type": "display_data"
    },
    {
     "name": "stdout",
     "output_type": "stream",
     "text": [
      "Evaluation!\n"
     ]
    },
    {
     "data": {
      "application/vnd.jupyter.widget-view+json": {
       "model_id": "3be07a58b71a43bba72992eeee397f04",
       "version_major": 2,
       "version_minor": 0
      },
      "text/plain": [
       "  0%|          | 0/13 [00:00<?, ?it/s]"
      ]
     },
     "metadata": {},
     "output_type": "display_data"
    },
    {
     "data": {
      "application/vnd.jupyter.widget-view+json": {
       "model_id": "cc4e6ac35083437ab8fd6879199a6d02",
       "version_major": 2,
       "version_minor": 0
      },
      "text/plain": [
       "  0%|          | 0/10570 [00:00<?, ?it/s]"
      ]
     },
     "metadata": {},
     "output_type": "display_data"
    },
    {
     "name": "stdout",
     "output_type": "stream",
     "text": [
      "epoch 0: {'exact_match': 0.02838221381267739, 'f1': 0.05367530882729764}\n"
     ]
    }
   ],
   "source": [
    "model_trainer = ModelTrainer(train_dataset, validation_dataset)\n",
    "model_trainer.train()"
   ]
  },
  {
   "cell_type": "code",
   "execution_count": 22,
   "metadata": {},
   "outputs": [
    {
     "name": "stderr",
     "output_type": "stream",
     "text": [
      "Special tokens have been added in the vocabulary, make sure the associated word embeddings are fine-tuned or trained.\n"
     ]
    }
   ],
   "source": [
    "# TODO: test the loading\n",
    "# tokenizer = AutoTokenizer.from_pretrained(\"./fine_tuned_tiny_bert_tokenizer\")\n",
    "# model = AutoModelForQuestionAnswering.from_pretrained(\"./fine_tuned_tiny_bert_model\")"
   ]
  },
  {
   "cell_type": "code",
   "execution_count": null,
   "metadata": {},
   "outputs": [],
   "source": [
    "# check the code"
   ]
  }
 ],
 "metadata": {
  "kernelspec": {
   "display_name": "tiny_bert",
   "language": "python",
   "name": "python3"
  },
  "language_info": {
   "codemirror_mode": {
    "name": "ipython",
    "version": 3
   },
   "file_extension": ".py",
   "mimetype": "text/x-python",
   "name": "python",
   "nbconvert_exporter": "python",
   "pygments_lexer": "ipython3",
   "version": "3.11.5"
  }
 },
 "nbformat": 4,
 "nbformat_minor": 2
}
