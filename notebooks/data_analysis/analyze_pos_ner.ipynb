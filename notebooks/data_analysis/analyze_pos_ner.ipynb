{
 "cells": [
  {
   "cell_type": "markdown",
   "metadata": {},
   "source": [
    "### 0. Import libraries and import data"
   ]
  },
  {
   "cell_type": "markdown",
   "metadata": {},
   "source": [
    "#### Questions:\n",
    "\n",
    "**Q1:** Difference between flair tokenizer and Hugging Face tokenizer?\\\n",
    "**Q2:** Where do we have the POS and NER for questions?\n",
    "\n",
    "#### Observations:\n",
    "\n",
    "- There may be named entities composed by several words, but the predicted tags can be unmatched. (e.g.: B-LOC then I-MISC)\n",
    "- Only ~3.6% (validation) / ~4.4% (train) of words have 3 or more predicted named entities for validation and .\n",
    "- The tokenizer used by Flair extracts symbols like . or ) as separate words.\n",
    "- TinyBERT tokenizer extracts symbols like . or ) as separate words and lowercases words.\n",
    "- For unknown words, TinyBERT tokenizer splits the words in subwords and the subwords start with ##.\n",
    "- TinyBERT tokenizer extarcts ' and s as 2 separated tokens and words with hyphens as 3 tokens, while Flair as one.\n",
    "- Unrecognized tokens by the POS tagger are **$ '' , -LRB- -RRB- . : ``**"
   ]
  },
  {
   "cell_type": "code",
   "execution_count": 18,
   "metadata": {},
   "outputs": [],
   "source": [
    "import json\n",
    "from collections import Counter\n",
    "\n",
    "from flair.data import Sentence\n",
    "from flair.models import SequenceTagger\n",
    "from transformers import AutoTokenizer"
   ]
  },
  {
   "cell_type": "code",
   "execution_count": 19,
   "metadata": {},
   "outputs": [],
   "source": [
    "input_file_path = \"../../data/squad_data_train_pos_ner.json\"\n",
    "data = []\n",
    "\n",
    "with open(input_file_path) as f:\n",
    "    for line in f:\n",
    "        data.append(json.loads(line))"
   ]
  },
  {
   "cell_type": "code",
   "execution_count": 28,
   "metadata": {},
   "outputs": [
    {
     "data": {
      "text/plain": [
       "68708"
      ]
     },
     "execution_count": 28,
     "metadata": {},
     "output_type": "execute_result"
    }
   ],
   "source": [
    "count = 0\n",
    "\n",
    "for line in data:\n",
    "    if \"POS_question\" in list(line.keys()):\n",
    "        count += 1\n",
    "\n",
    "count"
   ]
  },
  {
   "cell_type": "code",
   "execution_count": 30,
   "metadata": {},
   "outputs": [
    {
     "data": {
      "text/plain": [
       "18891"
      ]
     },
     "execution_count": 30,
     "metadata": {},
     "output_type": "execute_result"
    }
   ],
   "source": [
    "len(data) - count"
   ]
  },
  {
   "cell_type": "markdown",
   "metadata": {},
   "source": [
    "### 1. Analyze POS tags"
   ]
  },
  {
   "cell_type": "code",
   "execution_count": 20,
   "metadata": {},
   "outputs": [],
   "source": [
    "def analyze_sampled_context(data, example_index):\n",
    "    context = \"\"\n",
    "    pos_set = set()\n",
    "    original_context = data[example_index][\"context\"]\n",
    "\n",
    "\n",
    "    for word_pos in data[example_index][\"POS_context\"]:\n",
    "        word, pos = list(word_pos.values())[0]\n",
    "        context += word\n",
    "        context += \" \"\n",
    "        pos_set.add(pos)\n",
    "\n",
    "    print(f\"Reconstructed context:\\n{context}\")\n",
    "    print(f\"\\nOriginal context:\\n{original_context}\")\n",
    "    print(f\"\\nPOS set: {pos_set}\")\n",
    "\n",
    "    return context"
   ]
  },
  {
   "cell_type": "code",
   "execution_count": 21,
   "metadata": {},
   "outputs": [
    {
     "name": "stdout",
     "output_type": "stream",
     "text": [
      "Reconstructed context:\n",
      "Architecturally , the school has a Catholic character . Atop the Main Building 's gold dome is a golden statue of the Virgin Mary . Immediately in front of the Main Building and facing it , is a copper statue of Christ with arms upraised with the legend \" Venite Ad Me Omnes \" . Next to the Main Building is the Basilica of the Sacred Heart . Immediately behind the basilica is the Grotto , a Marian place of prayer and reflection . It is a replica of the grotto at Lourdes , France where the Virgin Mary reputedly appeared to Saint Bernadette Soubirous in 1858 . At the end of the main drive ( and in a direct line that connects through 3 statues and the Gold Dome ) , is a simple , modern stone statue of Mary . \n",
      "\n",
      "Original context:\n",
      "Architecturally, the school has a Catholic character. Atop the Main Building's gold dome is a golden statue of the Virgin Mary. Immediately in front of the Main Building and facing it, is a copper statue of Christ with arms upraised with the legend \"Venite Ad Me Omnes\". Next to the Main Building is the Basilica of the Sacred Heart. Immediately behind the basilica is the Grotto, a Marian place of prayer and reflection. It is a replica of the grotto at Lourdes, France where the Virgin Mary reputedly appeared to Saint Bernadette Soubirous in 1858. At the end of the main drive (and in a direct line that connects through 3 statues and the Gold Dome), is a simple, modern stone statue of Mary.\n",
      "\n",
      "POS set: {'NNP', '-RRB-', 'WRB', 'CC', \"''\", 'RB', 'IN', 'NN', 'VBN', 'WDT', 'DT', '.', ',', 'CD', 'POS', '``', 'JJ', 'NNS', 'VBG', 'VBD', 'VBZ', 'PRP'}\n"
     ]
    }
   ],
   "source": [
    "reconstructed_context = analyze_sampled_context(data, 0)"
   ]
  },
  {
   "cell_type": "code",
   "execution_count": 24,
   "metadata": {},
   "outputs": [],
   "source": [
    "def get_all_pos_tags(data):\n",
    "    pos_set = set()\n",
    "\n",
    "    for example_index in range(len(data)):\n",
    "        for word_pos in data[example_index][\"POS_context\"]:\n",
    "            _, pos = list(word_pos.values())[0]\n",
    "            pos_set.add(pos)\n",
    "\n",
    "    all_pos = sorted(list(pos_set))\n",
    "\n",
    "    print(f\"\\nPOS set: {all_pos}\")"
   ]
  },
  {
   "cell_type": "code",
   "execution_count": 25,
   "metadata": {},
   "outputs": [
    {
     "name": "stdout",
     "output_type": "stream",
     "text": [
      "\n",
      "POS set: ['$', \"''\", ',', '-LRB-', '-RRB-', '.', ':', 'ADD', 'AFX', 'CC', 'CD', 'DT', 'EX', 'FW', 'HYPH', 'IN', 'JJ', 'JJR', 'JJS', 'LS', 'MD', 'NFP', 'NN', 'NNP', 'NNPS', 'NNS', 'PDT', 'POS', 'PRP', 'PRP$', 'RB', 'RBR', 'RBS', 'RP', 'SYM', 'TO', 'UH', 'VB', 'VBD', 'VBG', 'VBN', 'VBP', 'VBZ', 'WDT', 'WP', 'WP$', 'WRB', 'XX', '``']\n"
     ]
    }
   ],
   "source": [
    "get_all_pos_tags(data)"
   ]
  },
  {
   "cell_type": "code",
   "execution_count": 36,
   "metadata": {},
   "outputs": [
    {
     "data": {
      "text/plain": [
       "[{'0': ['Architecturally', 'RB']},\n",
       " {'1': [',', ',']},\n",
       " {'2': ['the', 'DT']},\n",
       " {'3': ['school', 'NN']},\n",
       " {'4': ['has', 'VBZ']},\n",
       " {'5': ['a', 'DT']},\n",
       " {'6': ['Catholic', 'JJ']},\n",
       " {'7': ['character', 'NN']},\n",
       " {'8': ['.', ',']},\n",
       " {'9': ['Atop', 'IN']},\n",
       " {'10': ['the', 'DT']},\n",
       " {'11': ['Main', 'NNP']},\n",
       " {'12': ['Building', 'NNP']},\n",
       " {'13': [\"'s\", 'POS']},\n",
       " {'14': ['gold', 'JJ']},\n",
       " {'15': ['dome', 'NN']},\n",
       " {'16': ['is', 'VBZ']},\n",
       " {'17': ['a', 'DT']},\n",
       " {'18': ['golden', 'JJ']},\n",
       " {'19': ['statue', 'NN']},\n",
       " {'20': ['of', 'IN']},\n",
       " {'21': ['the', 'DT']},\n",
       " {'22': ['Virgin', 'NNP']},\n",
       " {'23': ['Mary', 'NNP']},\n",
       " {'24': ['.', ',']},\n",
       " {'25': ['Immediately', 'RB']},\n",
       " {'26': ['in', 'IN']},\n",
       " {'27': ['front', 'NN']},\n",
       " {'28': ['of', 'IN']},\n",
       " {'29': ['the', 'DT']},\n",
       " {'30': ['Main', 'NNP']},\n",
       " {'31': ['Building', 'NNP']},\n",
       " {'32': ['and', 'CC']},\n",
       " {'33': ['facing', 'VBG']},\n",
       " {'34': ['it', 'PRP']},\n",
       " {'35': [',', ',']},\n",
       " {'36': ['is', 'VBZ']},\n",
       " {'37': ['a', 'DT']},\n",
       " {'38': ['copper', 'NN']},\n",
       " {'39': ['statue', 'NN']},\n",
       " {'40': ['of', 'IN']},\n",
       " {'41': ['Christ', 'NNP']},\n",
       " {'42': ['with', 'IN']},\n",
       " {'43': ['arms', 'NNS']},\n",
       " {'44': ['upraised', 'VBN']},\n",
       " {'45': ['with', 'IN']},\n",
       " {'46': ['the', 'DT']},\n",
       " {'47': ['legend', 'NN']},\n",
       " {'48': ['\"', '``']},\n",
       " {'49': ['Venite', 'NNP']},\n",
       " {'50': ['Ad', 'NNP']},\n",
       " {'51': ['Me', 'NNP']},\n",
       " {'52': ['Omnes', 'NNP']},\n",
       " {'53': ['\"', \"''\"]},\n",
       " {'54': ['.', ',']},\n",
       " {'55': ['Next', 'RB']},\n",
       " {'56': ['to', 'IN']},\n",
       " {'57': ['the', 'DT']},\n",
       " {'58': ['Main', 'NNP']},\n",
       " {'59': ['Building', 'NNP']},\n",
       " {'60': ['is', 'VBZ']},\n",
       " {'61': ['the', 'DT']},\n",
       " {'62': ['Basilica', 'NNP']},\n",
       " {'63': ['of', 'IN']},\n",
       " {'64': ['the', 'DT']},\n",
       " {'65': ['Sacred', 'NNP']},\n",
       " {'66': ['Heart', 'NNP']},\n",
       " {'67': ['.', '.']},\n",
       " {'68': ['Immediately', 'RB']},\n",
       " {'69': ['behind', 'IN']},\n",
       " {'70': ['the', 'DT']},\n",
       " {'71': ['basilica', 'NN']},\n",
       " {'72': ['is', 'VBZ']},\n",
       " {'73': ['the', 'DT']},\n",
       " {'74': ['Grotto', 'NNP']},\n",
       " {'75': [',', ',']},\n",
       " {'76': ['a', 'DT']},\n",
       " {'77': ['Marian', 'JJ']},\n",
       " {'78': ['place', 'NN']},\n",
       " {'79': ['of', 'IN']},\n",
       " {'80': ['prayer', 'NN']},\n",
       " {'81': ['and', 'CC']},\n",
       " {'82': ['reflection', 'NN']},\n",
       " {'83': ['.', ',']},\n",
       " {'84': ['It', 'PRP']},\n",
       " {'85': ['is', 'VBZ']},\n",
       " {'86': ['a', 'DT']},\n",
       " {'87': ['replica', 'NN']},\n",
       " {'88': ['of', 'IN']},\n",
       " {'89': ['the', 'DT']},\n",
       " {'90': ['grotto', 'NN']},\n",
       " {'91': ['at', 'IN']},\n",
       " {'92': ['Lourdes', 'NNP']},\n",
       " {'93': [',', ',']},\n",
       " {'94': ['France', 'NNP']},\n",
       " {'95': ['where', 'WRB']},\n",
       " {'96': ['the', 'DT']},\n",
       " {'97': ['Virgin', 'NNP']},\n",
       " {'98': ['Mary', 'NNP']},\n",
       " {'99': ['reputedly', 'RB']},\n",
       " {'100': ['appeared', 'VBD']},\n",
       " {'101': ['to', 'IN']},\n",
       " {'102': ['Saint', 'NNP']},\n",
       " {'103': ['Bernadette', 'NNP']},\n",
       " {'104': ['Soubirous', 'NNP']},\n",
       " {'105': ['in', 'IN']},\n",
       " {'106': ['1858', 'CD']},\n",
       " {'107': ['.', ',']},\n",
       " {'108': ['At', 'IN']},\n",
       " {'109': ['the', 'DT']},\n",
       " {'110': ['end', 'NN']},\n",
       " {'111': ['of', 'IN']},\n",
       " {'112': ['the', 'DT']},\n",
       " {'113': ['main', 'JJ']},\n",
       " {'114': ['drive', 'NN']},\n",
       " {'115': ['(', ',']},\n",
       " {'116': ['and', 'CC']},\n",
       " {'117': ['in', 'IN']},\n",
       " {'118': ['a', 'DT']},\n",
       " {'119': ['direct', 'JJ']},\n",
       " {'120': ['line', 'NN']},\n",
       " {'121': ['that', 'WDT']},\n",
       " {'122': ['connects', 'VBZ']},\n",
       " {'123': ['through', 'IN']},\n",
       " {'124': ['3', 'CD']},\n",
       " {'125': ['statues', 'NNS']},\n",
       " {'126': ['and', 'CC']},\n",
       " {'127': ['the', 'DT']},\n",
       " {'128': ['Gold', 'NNP']},\n",
       " {'129': ['Dome', 'NNP']},\n",
       " {'130': [')', '-RRB-']},\n",
       " {'131': [',', ',']},\n",
       " {'132': ['is', 'VBZ']},\n",
       " {'133': ['a', 'DT']},\n",
       " {'134': ['simple', 'JJ']},\n",
       " {'135': [',', ',']},\n",
       " {'136': ['modern', 'JJ']},\n",
       " {'137': ['stone', 'NN']},\n",
       " {'138': ['statue', 'NN']},\n",
       " {'139': ['of', 'IN']},\n",
       " {'140': ['Mary', 'NNP']},\n",
       " {'141': ['.', '.']}]"
      ]
     },
     "execution_count": 36,
     "metadata": {},
     "output_type": "execute_result"
    }
   ],
   "source": [
    "data[0][\"POS_context\"]"
   ]
  },
  {
   "cell_type": "markdown",
   "metadata": {},
   "source": [
    "### 2. Analyze named entities"
   ]
  },
  {
   "cell_type": "code",
   "execution_count": 6,
   "metadata": {},
   "outputs": [],
   "source": [
    "def count_ner_number(data):\n",
    "    ner_number = []\n",
    "\n",
    "    for example in data:\n",
    "        for word_ners in example[\"NER_context\"]:\n",
    "            ner_number.append(len(list(word_ners.values())[0]))\n",
    "\n",
    "    words_no = len(ner_number)\n",
    "    print(\"Percentage of words that have a specific number of named entities:\")\n",
    "\n",
    "    for number in range(1, len(set(ner_number))+ 1):\n",
    "        print(f\"{number} - {round(Counter(ner_number)[number] / words_no * 100, 2)}%\")"
   ]
  },
  {
   "cell_type": "code",
   "execution_count": 7,
   "metadata": {},
   "outputs": [
    {
     "name": "stdout",
     "output_type": "stream",
     "text": [
      "Percentage of words that have a specific number of named entities:\n",
      "1 - 76.5%\n",
      "2 - 19.07%\n",
      "3 - 3.87%\n",
      "4 - 0.52%\n",
      "5 - 0.03%\n",
      "6 - 0.0%\n"
     ]
    }
   ],
   "source": [
    "count_ner_number(data)"
   ]
  },
  {
   "cell_type": "code",
   "execution_count": 68,
   "metadata": {},
   "outputs": [
    {
     "data": {
      "text/plain": [
       "[{'0': [['Super', 'B-MISC', '0.9410769']]},\n",
       " {'1': [['Bowl', 'E-MISC', '0.98900163']]},\n",
       " {'5': [['American', 'S-MISC', '0.9956988']]},\n",
       " {'14': [['National', 'B-MISC', '0.5022688'],\n",
       "   ['National', 'B-LOC', '0.24889919'],\n",
       "   ['National', 'B-ORG', '0.19581686']]},\n",
       " {'15': [['Football', 'I-MISC', '0.6923045'],\n",
       "   ['Football', 'I-ORG', '0.18027079'],\n",
       "   ['Football', 'I-LOC', '0.12511595']]},\n",
       " {'16': [['League', 'E-ORG', '0.60113037'],\n",
       "   ['League', 'E-MISC', '0.38968554']]},\n",
       " {'18': [['NFL', 'S-ORG', '0.99872464']]},\n",
       " {'26': [['American', 'B-MISC', '0.7453571'],\n",
       "   ['American', 'B-ORG', '0.13586394']]},\n",
       " {'27': [['Football', 'I-MISC', '0.9433532']]},\n",
       " {'28': [['Conference', 'E-MISC', '0.74766535'],\n",
       "   ['Conference', 'I-MISC', '0.13813968'],\n",
       "   ['Conference', 'E-ORG', '0.11040713']]},\n",
       " {'30': [['AFC', 'S-ORG', '0.9421894']]},\n",
       " {'33': [['Denver', 'B-ORG', '0.9724425']]},\n",
       " {'34': [['Broncos', 'E-ORG', '0.99889153']]},\n",
       " {'37': [['National', 'B-MISC', '0.53137046'],\n",
       "   ['National', 'B-ORG', '0.20756759']]},\n",
       " {'38': [['Football', 'I-MISC', '0.8036686'],\n",
       "   ['Football', 'I-ORG', '0.14736286']]},\n",
       " {'39': [['Conference', 'E-ORG', '0.6919609'],\n",
       "   ['Conference', 'E-MISC', '0.22782266']]},\n",
       " {'41': [['NFC', 'S-ORG', '0.97985816']]},\n",
       " {'44': [['Carolina', 'B-ORG', '0.9926184']]},\n",
       " {'45': [['Panthers', 'E-ORG', '0.99999416']]},\n",
       " {'53': [['Super', 'B-MISC', '0.9412749']]},\n",
       " {'54': [['Bowl', 'E-MISC', '0.99953234']]},\n",
       " {'68': [['Levi', 'B-LOC', '0.5198318'], ['Levi', 'B-ORG', '0.4700877']]},\n",
       " {'69': [[\"'s\", 'I-LOC', '0.7728479'], [\"'s\", 'I-ORG', '0.2078569']]},\n",
       " {'70': [['Stadium', 'E-LOC', '0.9958553']]},\n",
       " {'73': [['San', 'B-LOC', '0.99813193']]},\n",
       " {'74': [['Francisco', 'I-LOC', '0.998701']]},\n",
       " {'75': [['Bay', 'I-LOC', '0.98623264']]},\n",
       " {'76': [['Area', 'E-LOC', '0.9872902']]},\n",
       " {'78': [['Santa', 'B-LOC', '0.99802846']]},\n",
       " {'79': [['Clara', 'E-LOC', '0.9998759']]},\n",
       " {'81': [['California', 'S-LOC', '0.99995124']]},\n",
       " {'88': [['Super', 'B-MISC', '0.7794893'], ['Super', 'I-MISC', '0.1396524']]},\n",
       " {'89': [['Bowl', 'E-MISC', '0.9993761']]},\n",
       " {'114': [['Super', 'B-MISC', '0.9070479']]},\n",
       " {'115': [['Bowl', 'E-MISC', '0.99895644']]},\n",
       " {'118': [['Roman', 'S-MISC', '0.83972603'],\n",
       "   ['Roman', 'B-MISC', '0.14373034']]},\n",
       " {'119': [['numerals', 'E-MISC', '0.2584062']]},\n",
       " {'131': [['Super', 'B-MISC', '0.76884437']]},\n",
       " {'132': [['Bowl', 'E-MISC', '0.78716815'], ['Bowl', 'I-MISC', '0.19517775']]},\n",
       " {'133': [['L', 'I-MISC', '0.2165827']]},\n",
       " {'144': [['Arabic', 'S-MISC', '0.9983393']]}]"
      ]
     },
     "execution_count": 68,
     "metadata": {},
     "output_type": "execute_result"
    }
   ],
   "source": [
    "data[0][\"NER_context\"]"
   ]
  },
  {
   "cell_type": "code",
   "execution_count": 20,
   "metadata": {},
   "outputs": [
    {
     "name": "stdout",
     "output_type": "stream",
     "text": [
      "2023-10-20 19:14:53,106 SequenceTagger predicts: Dictionary with 20 tags: <unk>, O, S-ORG, S-MISC, B-PER, E-PER, S-LOC, B-ORG, E-ORG, I-PER, S-PER, B-MISC, I-MISC, E-MISC, I-ORG, B-LOC, E-LOC, I-LOC, <START>, <STOP>\n"
     ]
    }
   ],
   "source": [
    "tagger = SequenceTagger.load(\"ner-fast\")"
   ]
  },
  {
   "cell_type": "code",
   "execution_count": 28,
   "metadata": {},
   "outputs": [
    {
     "name": "stdout",
     "output_type": "stream",
     "text": [
      "Sentence[147]: \"Super Bowl 50 was an American football game to determine the champion of the National Football League (NFL) for the 2015 season. The American Football Conference (AFC) champion Denver Broncos defeated the National Football Conference (NFC) champion Carolina Panthers 24–10 to earn their third Super Bowl title. The game was played on February 7, 2016, at Levis Stadium in the San Francisco Bay Area at Santa Clara, California. As this was the 50th Super Bowl, the league emphasized the \"golden anniversary\" with various gold-themed initiatives, as well as temporarily suspending the tradition of naming each Super Bowl game with Roman numerals (under which the game would have been known as \"Super Bowl L\"), so that the logo could prominently feature the Arabic numerals 50.\" → [\"Super Bowl\"/MISC, \"American\"/MISC, \"National Football League\"/ORG, \"NFL\"/ORG, \"American Football Conference\"/MISC, \"AFC\"/ORG, \"Denver Broncos\"/ORG, \"National Football Conference\"/ORG, \"NFC\"/ORG, \"Carolina Panthers\"/ORG, \"Super Bowl\"/MISC, \"Levis Stadium\"/LOC, \"San Francisco Bay Area\"/LOC, \"Santa Clara\"/LOC, \"California\"/LOC, \"Super Bowl\"/MISC, \"Super Bowl\"/MISC, \"Roman\"/MISC, \"Super Bowl\"/MISC, \"Arabic\"/MISC]\n"
     ]
    }
   ],
   "source": [
    "sentence = Sentence('Super Bowl 50 was an American football game to determine the champion of the National Football League (NFL) for the 2015 season. The American Football Conference (AFC) champion Denver Broncos defeated the National Football Conference (NFC) champion Carolina Panthers 24–10 to earn their third Super Bowl title. The game was played on February 7, 2016, at Levis Stadium in the San Francisco Bay Area at Santa Clara, California. As this was the 50th Super Bowl, the league emphasized the \"golden anniversary\" with various gold-themed initiatives, as well as temporarily suspending the tradition of naming each Super Bowl game with Roman numerals (under which the game would have been known as \"Super Bowl L\"), so that the logo could prominently feature the Arabic numerals 50.')\n",
    "tagger.predict(sentence)\n",
    "print(sentence)"
   ]
  },
  {
   "cell_type": "markdown",
   "metadata": {},
   "source": [
    "### 3. Analyze TinyBERT tokenizer"
   ]
  },
  {
   "cell_type": "code",
   "execution_count": 107,
   "metadata": {},
   "outputs": [
    {
     "name": "stderr",
     "output_type": "stream",
     "text": [
      "Special tokens have been added in the vocabulary, make sure the associated word embeddings are fine-tuned or trained.\n"
     ]
    },
    {
     "data": {
      "text/plain": [
       "['[CLS]',\n",
       " '[SEP]',\n",
       " 'super',\n",
       " 'bowl',\n",
       " '50',\n",
       " 'was',\n",
       " 'an',\n",
       " 'american',\n",
       " 'football',\n",
       " 'game',\n",
       " 'to',\n",
       " 'determine',\n",
       " 'the',\n",
       " 'champion',\n",
       " 'of',\n",
       " 'the',\n",
       " 'national',\n",
       " 'football',\n",
       " 'league',\n",
       " '(',\n",
       " 'nfl',\n",
       " ')',\n",
       " 'for',\n",
       " 'the',\n",
       " '2015',\n",
       " 'season',\n",
       " '.',\n",
       " 'the',\n",
       " 'american',\n",
       " 'football',\n",
       " 'conference',\n",
       " '(',\n",
       " 'afc',\n",
       " ')',\n",
       " 'champion',\n",
       " 'denver',\n",
       " 'broncos',\n",
       " 'defeated',\n",
       " 'the',\n",
       " 'national',\n",
       " 'football',\n",
       " 'conference',\n",
       " '(',\n",
       " 'nfc',\n",
       " ')',\n",
       " 'champion',\n",
       " 'carolina',\n",
       " 'panthers',\n",
       " '24',\n",
       " '–',\n",
       " '10',\n",
       " 'to',\n",
       " 'earn',\n",
       " 'their',\n",
       " 'third',\n",
       " 'super',\n",
       " 'bowl',\n",
       " 'title',\n",
       " '.',\n",
       " 'the',\n",
       " 'game',\n",
       " 'was',\n",
       " 'played',\n",
       " 'on',\n",
       " 'february',\n",
       " '7',\n",
       " ',',\n",
       " '2016',\n",
       " ',',\n",
       " 'at',\n",
       " 'levi',\n",
       " \"'\",\n",
       " 's',\n",
       " 'stadium',\n",
       " 'in',\n",
       " 'the',\n",
       " 'san',\n",
       " 'francisco',\n",
       " 'bay',\n",
       " 'area',\n",
       " 'at',\n",
       " 'santa',\n",
       " 'clara',\n",
       " ',',\n",
       " 'california',\n",
       " '.',\n",
       " 'as',\n",
       " 'this',\n",
       " 'was',\n",
       " 'the',\n",
       " '50th',\n",
       " 'super',\n",
       " 'bowl',\n",
       " ',',\n",
       " 'the',\n",
       " 'league',\n",
       " 'emphasized',\n",
       " 'the',\n",
       " '\"',\n",
       " 'golden',\n",
       " 'anniversary',\n",
       " '\"',\n",
       " 'with',\n",
       " 'various',\n",
       " 'gold',\n",
       " '-',\n",
       " 'themed',\n",
       " 'initiatives',\n",
       " ',',\n",
       " 'as',\n",
       " 'well',\n",
       " 'as',\n",
       " 'temporarily',\n",
       " 'suspend',\n",
       " '##ing',\n",
       " 'the',\n",
       " 'tradition',\n",
       " 'of',\n",
       " 'naming',\n",
       " 'each',\n",
       " 'super',\n",
       " 'bowl',\n",
       " 'game',\n",
       " 'with',\n",
       " 'roman',\n",
       " 'nu',\n",
       " '##meral',\n",
       " '##s',\n",
       " '(',\n",
       " 'under',\n",
       " 'which',\n",
       " 'the',\n",
       " 'game',\n",
       " 'would',\n",
       " 'have',\n",
       " 'been',\n",
       " 'known',\n",
       " 'as',\n",
       " '\"',\n",
       " 'super',\n",
       " 'bowl',\n",
       " 'l',\n",
       " '\"',\n",
       " ')',\n",
       " ',',\n",
       " 'so',\n",
       " 'that',\n",
       " 'the',\n",
       " 'logo',\n",
       " 'could',\n",
       " 'prominently',\n",
       " 'feature',\n",
       " 'the',\n",
       " 'arabic',\n",
       " 'nu',\n",
       " '##meral',\n",
       " '##s',\n",
       " '50',\n",
       " '.',\n",
       " '[SEP]']"
      ]
     },
     "execution_count": 107,
     "metadata": {},
     "output_type": "execute_result"
    }
   ],
   "source": [
    "tokenizer = AutoTokenizer.from_pretrained(\"../../models/fine_tuned_tiny_bert_8_0.0003_tokenizer/\")\n",
    "\n",
    "input_ids = tokenizer.encode(\"\", 'Super Bowl 50 was an American football game to determine the champion of the National Football League (NFL) for the 2015 season. The American Football Conference (AFC) champion Denver Broncos defeated the National Football Conference (NFC) champion Carolina Panthers 24–10 to earn their third Super Bowl title. The game was played on February 7, 2016, at Levi\\'s Stadium in the San Francisco Bay Area at Santa Clara, California. As this was the 50th Super Bowl, the league emphasized the \"golden anniversary\" with various gold-themed initiatives, as well as temporarily suspending the tradition of naming each Super Bowl game with Roman numerals (under which the game would have been known as \"Super Bowl L\"), so that the logo could prominently feature the Arabic numerals 50.')\n",
    "\n",
    "tokens = tokenizer.convert_ids_to_tokens(input_ids)\n",
    "tokens"
   ]
  },
  {
   "cell_type": "markdown",
   "metadata": {},
   "source": [
    "### 4. Compare Flair and TinyBERT tokenizers"
   ]
  },
  {
   "cell_type": "code",
   "execution_count": 104,
   "metadata": {},
   "outputs": [
    {
     "name": "stdout",
     "output_type": "stream",
     "text": [
      "Reconstructed context processed by TinyBERT tokenizer:\n",
      "super bowl 50 was an american football game to determine the champion of the national football league ( nfl ) for the 2015 season . the american football conference ( afc ) champion denver broncos defeated the national football conference ( nfc ) champion carolina panthers 24 – 10 to earn their third super bowl title . the game was played on february 7 , 2016 , at levi ' s stadium in the san francisco bay area at santa clara , california . as this was the 50th super bowl , the league emphasized the \" golden anniversary \" with various gold - themed initiatives , as well as temporarily suspending the tradition of naming each super bowl game with roman numerals ( under which the game would have been known as \" super bowl l \" ) , so that the logo could prominently feature the arabic numerals 50 .\n",
      "\n",
      "Reconstructed context processed by Flair:\n",
      "Super Bowl 50 was an American football game to determine the champion of the National Football League ( NFL ) for the 2015 season . The American Football Conference ( AFC ) champion Denver Broncos defeated the National Football Conference ( NFC ) champion Carolina Panthers 24 – 10 to earn their third Super Bowl title . The game was played on February 7 , 2016 , at Levi 's Stadium in the San Francisco Bay Area at Santa Clara , California . As this was the 50th Super Bowl , the league emphasized the \" golden anniversary \" with various gold-themed initiatives , as well as temporarily suspending the tradition of naming each Super Bowl game with Roman numerals ( under which the game would have been known as \" Super Bowl L \") , so that the logo could prominently feature the Arabic numerals 50 . \n"
     ]
    }
   ],
   "source": [
    "reconstructed_context_tokenizer = \" \".join(tokens).replace(\" ##\", \"\").replace(\"[SEP]\", \"\").replace(\"[CLS]\", \"\").replace(\"  \", \" \").strip(\" \")\n",
    "print(f\"Reconstructed context processed by TinyBERT tokenizer:\\n{reconstructed_context_tokenizer}\")\n",
    "print(f\"\\nReconstructed context processed by Flair:\\n{reconstructed_context}\")"
   ]
  },
  {
   "cell_type": "code",
   "execution_count": 106,
   "metadata": {},
   "outputs": [
    {
     "data": {
      "text/plain": [
       "[('super', 'Super'),\n",
       " ('bowl', 'Bowl'),\n",
       " ('50', '50'),\n",
       " ('was', 'was'),\n",
       " ('an', 'an'),\n",
       " ('american', 'American'),\n",
       " ('football', 'football'),\n",
       " ('game', 'game'),\n",
       " ('to', 'to'),\n",
       " ('determine', 'determine'),\n",
       " ('the', 'the'),\n",
       " ('champion', 'champion'),\n",
       " ('of', 'of'),\n",
       " ('the', 'the'),\n",
       " ('national', 'National'),\n",
       " ('football', 'Football'),\n",
       " ('league', 'League'),\n",
       " ('(', '('),\n",
       " ('nfl', 'NFL'),\n",
       " (')', ')'),\n",
       " ('for', 'for'),\n",
       " ('the', 'the'),\n",
       " ('2015', '2015'),\n",
       " ('season', 'season'),\n",
       " ('.', '.'),\n",
       " ('the', 'The'),\n",
       " ('american', 'American'),\n",
       " ('football', 'Football'),\n",
       " ('conference', 'Conference'),\n",
       " ('(', '('),\n",
       " ('afc', 'AFC'),\n",
       " (')', ')'),\n",
       " ('champion', 'champion'),\n",
       " ('denver', 'Denver'),\n",
       " ('broncos', 'Broncos'),\n",
       " ('defeated', 'defeated'),\n",
       " ('the', 'the'),\n",
       " ('national', 'National'),\n",
       " ('football', 'Football'),\n",
       " ('conference', 'Conference'),\n",
       " ('(', '('),\n",
       " ('nfc', 'NFC'),\n",
       " (')', ')'),\n",
       " ('champion', 'champion'),\n",
       " ('carolina', 'Carolina'),\n",
       " ('panthers', 'Panthers'),\n",
       " ('24', '24'),\n",
       " ('–', '–'),\n",
       " ('10', '10'),\n",
       " ('to', 'to'),\n",
       " ('earn', 'earn'),\n",
       " ('their', 'their'),\n",
       " ('third', 'third'),\n",
       " ('super', 'Super'),\n",
       " ('bowl', 'Bowl'),\n",
       " ('title', 'title'),\n",
       " ('.', '.'),\n",
       " ('the', 'The'),\n",
       " ('game', 'game'),\n",
       " ('was', 'was'),\n",
       " ('played', 'played'),\n",
       " ('on', 'on'),\n",
       " ('february', 'February'),\n",
       " ('7', '7'),\n",
       " (',', ','),\n",
       " ('2016', '2016'),\n",
       " (',', ','),\n",
       " ('at', 'at'),\n",
       " ('levi', 'Levi'),\n",
       " (\"'\", \"'s\"),\n",
       " ('s', 'Stadium'),\n",
       " ('stadium', 'in'),\n",
       " ('in', 'the'),\n",
       " ('the', 'San'),\n",
       " ('san', 'Francisco'),\n",
       " ('francisco', 'Bay'),\n",
       " ('bay', 'Area'),\n",
       " ('area', 'at'),\n",
       " ('at', 'Santa'),\n",
       " ('santa', 'Clara'),\n",
       " ('clara', ','),\n",
       " (',', 'California'),\n",
       " ('california', '.'),\n",
       " ('.', 'As'),\n",
       " ('as', 'this'),\n",
       " ('this', 'was'),\n",
       " ('was', 'the'),\n",
       " ('the', '50th'),\n",
       " ('50th', 'Super'),\n",
       " ('super', 'Bowl'),\n",
       " ('bowl', ','),\n",
       " (',', 'the'),\n",
       " ('the', 'league'),\n",
       " ('league', 'emphasized'),\n",
       " ('emphasized', 'the'),\n",
       " ('the', '\"'),\n",
       " ('\"', 'golden'),\n",
       " ('golden', 'anniversary'),\n",
       " ('anniversary', '\"'),\n",
       " ('\"', 'with'),\n",
       " ('with', 'various'),\n",
       " ('various', 'gold-themed'),\n",
       " ('gold', 'initiatives'),\n",
       " ('-', ','),\n",
       " ('themed', 'as'),\n",
       " ('initiatives', 'well'),\n",
       " (',', 'as'),\n",
       " ('as', 'temporarily'),\n",
       " ('well', 'suspending'),\n",
       " ('as', 'the'),\n",
       " ('temporarily', 'tradition'),\n",
       " ('suspending', 'of'),\n",
       " ('the', 'naming'),\n",
       " ('tradition', 'each'),\n",
       " ('of', 'Super'),\n",
       " ('naming', 'Bowl'),\n",
       " ('each', 'game'),\n",
       " ('super', 'with'),\n",
       " ('bowl', 'Roman'),\n",
       " ('game', 'numerals'),\n",
       " ('with', '('),\n",
       " ('roman', 'under'),\n",
       " ('numerals', 'which'),\n",
       " ('(', 'the'),\n",
       " ('under', 'game'),\n",
       " ('which', 'would'),\n",
       " ('the', 'have'),\n",
       " ('game', 'been'),\n",
       " ('would', 'known'),\n",
       " ('have', 'as'),\n",
       " ('been', '\"'),\n",
       " ('known', 'Super'),\n",
       " ('as', 'Bowl'),\n",
       " ('\"', 'L'),\n",
       " ('super', '\")'),\n",
       " ('bowl', ','),\n",
       " ('l', 'so'),\n",
       " ('\"', 'that'),\n",
       " (')', 'the'),\n",
       " (',', 'logo'),\n",
       " ('so', 'could'),\n",
       " ('that', 'prominently'),\n",
       " ('the', 'feature'),\n",
       " ('logo', 'the'),\n",
       " ('could', 'Arabic'),\n",
       " ('prominently', 'numerals'),\n",
       " ('feature', '50'),\n",
       " ('the', '.'),\n",
       " ('arabic', '')]"
      ]
     },
     "execution_count": 106,
     "metadata": {},
     "output_type": "execute_result"
    }
   ],
   "source": [
    "list(zip(reconstructed_context_tokenizer.split(\" \"), reconstructed_context.split(\" \")))"
   ]
  }
 ],
 "metadata": {
  "kernelspec": {
   "display_name": "tiny_bert",
   "language": "python",
   "name": "python3"
  },
  "language_info": {
   "codemirror_mode": {
    "name": "ipython",
    "version": 3
   },
   "file_extension": ".py",
   "mimetype": "text/x-python",
   "name": "python",
   "nbconvert_exporter": "python",
   "pygments_lexer": "ipython3",
   "version": "3.11.5"
  }
 },
 "nbformat": 4,
 "nbformat_minor": 2
}
