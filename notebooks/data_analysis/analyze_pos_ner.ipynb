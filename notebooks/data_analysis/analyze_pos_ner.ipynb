{
 "cells": [
  {
   "cell_type": "markdown",
   "metadata": {},
   "source": [
    "### 0. Import libraries and import data"
   ]
  },
  {
   "cell_type": "markdown",
   "metadata": {},
   "source": [
    "#### Questions:\n",
    "\n",
    "**Q1:** Difference between flair tokenizer and Hugging Face tokenizer?\\\n",
    "**Q2:** Where do we have the POS and NER for questions?\n",
    "\n",
    "#### Observations:\n",
    "\n",
    "- There may be named entities composed by several words, but the predicted tags can be unmatched. (e.g.: B-LOC then I-MISC)\n",
    "- Only ~3.6% (validation) / ~4.4% (train) of words have 3 or more predicted named entities for validation and .\n",
    "- The tokenizer used by Flair extracts symbols like . or ) as separate words.\n",
    "- TinyBERT tokenizer extracts symbols like . or ) as separate words and lowercases words.\n",
    "- For unknown words, TinyBERT tokenizer splits the words in subwords and the subwords start with ##.\n",
    "- TinyBERT tokenizer extarcts ' and s as 2 separated tokens and words with hyphens as 3 tokens, while Flair as one.\n",
    "- Unrecognized tokens by the POS tagger are **$ '' , -LRB- -RRB- . : ``**\n",
    "\n",
    "\n",
    "### Data preparation:\n",
    "\n",
    "**pos between:**\n",
    "\n",
    "- for validation data, 358 lines have fewer answers and only 1 line has an incorrect answer\n",
    "- for train data, 21 lines have incorrect answers"
   ]
  },
  {
   "cell_type": "code",
   "execution_count": 98,
   "metadata": {},
   "outputs": [],
   "source": [
    "import re\n",
    "import json\n",
    "import numpy as np\n",
    "from tqdm import tqdm\n",
    "from collections import Counter\n",
    "from matplotlib import pyplot as plt\n",
    "\n",
    "from flair.data import Sentence\n",
    "from flair.models import SequenceTagger\n",
    "from transformers import AutoTokenizer"
   ]
  },
  {
   "cell_type": "code",
   "execution_count": 29,
   "metadata": {},
   "outputs": [],
   "source": [
    "input_file_path = \"../../data/squad_data_validation_pos_ner.json\"\n",
    "data = []\n",
    "\n",
    "with open(input_file_path) as f:\n",
    "    for line in f:\n",
    "        data.append(json.loads(line))"
   ]
  },
  {
   "cell_type": "markdown",
   "metadata": {},
   "source": [
    "### 1. Analyze POS tags"
   ]
  },
  {
   "cell_type": "code",
   "execution_count": 12,
   "metadata": {},
   "outputs": [],
   "source": [
    "def analyze_sampled_context(data, example_index):\n",
    "    context = \"\"\n",
    "    pos_set = set()\n",
    "    original_context = data[example_index][\"context\"]\n",
    "\n",
    "\n",
    "    for word_pos in data[example_index][\"POS_context\"]:\n",
    "        word, pos = list(word_pos.values())[0]\n",
    "        context += word\n",
    "        context += \" \"\n",
    "        pos_set.add(pos)\n",
    "\n",
    "    print(f\"Reconstructed context:\\n{context}\")\n",
    "    print(f\"\\nOriginal context:\\n{original_context}\")\n",
    "    print(f\"\\nPOS set: {pos_set}\")\n",
    "\n",
    "    return context"
   ]
  },
  {
   "cell_type": "code",
   "execution_count": 21,
   "metadata": {},
   "outputs": [
    {
     "name": "stdout",
     "output_type": "stream",
     "text": [
      "Reconstructed context:\n",
      "Architecturally , the school has a Catholic character . Atop the Main Building 's gold dome is a golden statue of the Virgin Mary . Immediately in front of the Main Building and facing it , is a copper statue of Christ with arms upraised with the legend \" Venite Ad Me Omnes \" . Next to the Main Building is the Basilica of the Sacred Heart . Immediately behind the basilica is the Grotto , a Marian place of prayer and reflection . It is a replica of the grotto at Lourdes , France where the Virgin Mary reputedly appeared to Saint Bernadette Soubirous in 1858 . At the end of the main drive ( and in a direct line that connects through 3 statues and the Gold Dome ) , is a simple , modern stone statue of Mary . \n",
      "\n",
      "Original context:\n",
      "Architecturally, the school has a Catholic character. Atop the Main Building's gold dome is a golden statue of the Virgin Mary. Immediately in front of the Main Building and facing it, is a copper statue of Christ with arms upraised with the legend \"Venite Ad Me Omnes\". Next to the Main Building is the Basilica of the Sacred Heart. Immediately behind the basilica is the Grotto, a Marian place of prayer and reflection. It is a replica of the grotto at Lourdes, France where the Virgin Mary reputedly appeared to Saint Bernadette Soubirous in 1858. At the end of the main drive (and in a direct line that connects through 3 statues and the Gold Dome), is a simple, modern stone statue of Mary.\n",
      "\n",
      "POS set: {'NNP', '-RRB-', 'WRB', 'CC', \"''\", 'RB', 'IN', 'NN', 'VBN', 'WDT', 'DT', '.', ',', 'CD', 'POS', '``', 'JJ', 'NNS', 'VBG', 'VBD', 'VBZ', 'PRP'}\n"
     ]
    }
   ],
   "source": [
    "reconstructed_context = analyze_sampled_context(data, 0)"
   ]
  },
  {
   "cell_type": "code",
   "execution_count": 24,
   "metadata": {},
   "outputs": [],
   "source": [
    "def get_all_pos_tags(data):\n",
    "    pos_set = set()\n",
    "\n",
    "    for example_index in range(len(data)):\n",
    "        for word_pos in data[example_index][\"POS_context\"]:\n",
    "            _, pos = list(word_pos.values())[0]\n",
    "            pos_set.add(pos)\n",
    "\n",
    "    all_pos = sorted(list(pos_set))\n",
    "\n",
    "    print(f\"\\nPOS set: {all_pos}\")"
   ]
  },
  {
   "cell_type": "code",
   "execution_count": 25,
   "metadata": {},
   "outputs": [
    {
     "name": "stdout",
     "output_type": "stream",
     "text": [
      "\n",
      "POS set: ['$', \"''\", ',', '-LRB-', '-RRB-', '.', ':', 'ADD', 'AFX', 'CC', 'CD', 'DT', 'EX', 'FW', 'HYPH', 'IN', 'JJ', 'JJR', 'JJS', 'LS', 'MD', 'NFP', 'NN', 'NNP', 'NNPS', 'NNS', 'PDT', 'POS', 'PRP', 'PRP$', 'RB', 'RBR', 'RBS', 'RP', 'SYM', 'TO', 'UH', 'VB', 'VBD', 'VBG', 'VBN', 'VBP', 'VBZ', 'WDT', 'WP', 'WP$', 'WRB', 'XX', '``']\n"
     ]
    }
   ],
   "source": [
    "get_all_pos_tags(data)"
   ]
  },
  {
   "cell_type": "code",
   "execution_count": 36,
   "metadata": {},
   "outputs": [
    {
     "data": {
      "text/plain": [
       "[{'0': ['Architecturally', 'RB']},\n",
       " {'1': [',', ',']},\n",
       " {'2': ['the', 'DT']},\n",
       " {'3': ['school', 'NN']},\n",
       " {'4': ['has', 'VBZ']},\n",
       " {'5': ['a', 'DT']},\n",
       " {'6': ['Catholic', 'JJ']},\n",
       " {'7': ['character', 'NN']},\n",
       " {'8': ['.', ',']},\n",
       " {'9': ['Atop', 'IN']},\n",
       " {'10': ['the', 'DT']},\n",
       " {'11': ['Main', 'NNP']},\n",
       " {'12': ['Building', 'NNP']},\n",
       " {'13': [\"'s\", 'POS']},\n",
       " {'14': ['gold', 'JJ']},\n",
       " {'15': ['dome', 'NN']},\n",
       " {'16': ['is', 'VBZ']},\n",
       " {'17': ['a', 'DT']},\n",
       " {'18': ['golden', 'JJ']},\n",
       " {'19': ['statue', 'NN']},\n",
       " {'20': ['of', 'IN']},\n",
       " {'21': ['the', 'DT']},\n",
       " {'22': ['Virgin', 'NNP']},\n",
       " {'23': ['Mary', 'NNP']},\n",
       " {'24': ['.', ',']},\n",
       " {'25': ['Immediately', 'RB']},\n",
       " {'26': ['in', 'IN']},\n",
       " {'27': ['front', 'NN']},\n",
       " {'28': ['of', 'IN']},\n",
       " {'29': ['the', 'DT']},\n",
       " {'30': ['Main', 'NNP']},\n",
       " {'31': ['Building', 'NNP']},\n",
       " {'32': ['and', 'CC']},\n",
       " {'33': ['facing', 'VBG']},\n",
       " {'34': ['it', 'PRP']},\n",
       " {'35': [',', ',']},\n",
       " {'36': ['is', 'VBZ']},\n",
       " {'37': ['a', 'DT']},\n",
       " {'38': ['copper', 'NN']},\n",
       " {'39': ['statue', 'NN']},\n",
       " {'40': ['of', 'IN']},\n",
       " {'41': ['Christ', 'NNP']},\n",
       " {'42': ['with', 'IN']},\n",
       " {'43': ['arms', 'NNS']},\n",
       " {'44': ['upraised', 'VBN']},\n",
       " {'45': ['with', 'IN']},\n",
       " {'46': ['the', 'DT']},\n",
       " {'47': ['legend', 'NN']},\n",
       " {'48': ['\"', '``']},\n",
       " {'49': ['Venite', 'NNP']},\n",
       " {'50': ['Ad', 'NNP']},\n",
       " {'51': ['Me', 'NNP']},\n",
       " {'52': ['Omnes', 'NNP']},\n",
       " {'53': ['\"', \"''\"]},\n",
       " {'54': ['.', ',']},\n",
       " {'55': ['Next', 'RB']},\n",
       " {'56': ['to', 'IN']},\n",
       " {'57': ['the', 'DT']},\n",
       " {'58': ['Main', 'NNP']},\n",
       " {'59': ['Building', 'NNP']},\n",
       " {'60': ['is', 'VBZ']},\n",
       " {'61': ['the', 'DT']},\n",
       " {'62': ['Basilica', 'NNP']},\n",
       " {'63': ['of', 'IN']},\n",
       " {'64': ['the', 'DT']},\n",
       " {'65': ['Sacred', 'NNP']},\n",
       " {'66': ['Heart', 'NNP']},\n",
       " {'67': ['.', '.']},\n",
       " {'68': ['Immediately', 'RB']},\n",
       " {'69': ['behind', 'IN']},\n",
       " {'70': ['the', 'DT']},\n",
       " {'71': ['basilica', 'NN']},\n",
       " {'72': ['is', 'VBZ']},\n",
       " {'73': ['the', 'DT']},\n",
       " {'74': ['Grotto', 'NNP']},\n",
       " {'75': [',', ',']},\n",
       " {'76': ['a', 'DT']},\n",
       " {'77': ['Marian', 'JJ']},\n",
       " {'78': ['place', 'NN']},\n",
       " {'79': ['of', 'IN']},\n",
       " {'80': ['prayer', 'NN']},\n",
       " {'81': ['and', 'CC']},\n",
       " {'82': ['reflection', 'NN']},\n",
       " {'83': ['.', ',']},\n",
       " {'84': ['It', 'PRP']},\n",
       " {'85': ['is', 'VBZ']},\n",
       " {'86': ['a', 'DT']},\n",
       " {'87': ['replica', 'NN']},\n",
       " {'88': ['of', 'IN']},\n",
       " {'89': ['the', 'DT']},\n",
       " {'90': ['grotto', 'NN']},\n",
       " {'91': ['at', 'IN']},\n",
       " {'92': ['Lourdes', 'NNP']},\n",
       " {'93': [',', ',']},\n",
       " {'94': ['France', 'NNP']},\n",
       " {'95': ['where', 'WRB']},\n",
       " {'96': ['the', 'DT']},\n",
       " {'97': ['Virgin', 'NNP']},\n",
       " {'98': ['Mary', 'NNP']},\n",
       " {'99': ['reputedly', 'RB']},\n",
       " {'100': ['appeared', 'VBD']},\n",
       " {'101': ['to', 'IN']},\n",
       " {'102': ['Saint', 'NNP']},\n",
       " {'103': ['Bernadette', 'NNP']},\n",
       " {'104': ['Soubirous', 'NNP']},\n",
       " {'105': ['in', 'IN']},\n",
       " {'106': ['1858', 'CD']},\n",
       " {'107': ['.', ',']},\n",
       " {'108': ['At', 'IN']},\n",
       " {'109': ['the', 'DT']},\n",
       " {'110': ['end', 'NN']},\n",
       " {'111': ['of', 'IN']},\n",
       " {'112': ['the', 'DT']},\n",
       " {'113': ['main', 'JJ']},\n",
       " {'114': ['drive', 'NN']},\n",
       " {'115': ['(', ',']},\n",
       " {'116': ['and', 'CC']},\n",
       " {'117': ['in', 'IN']},\n",
       " {'118': ['a', 'DT']},\n",
       " {'119': ['direct', 'JJ']},\n",
       " {'120': ['line', 'NN']},\n",
       " {'121': ['that', 'WDT']},\n",
       " {'122': ['connects', 'VBZ']},\n",
       " {'123': ['through', 'IN']},\n",
       " {'124': ['3', 'CD']},\n",
       " {'125': ['statues', 'NNS']},\n",
       " {'126': ['and', 'CC']},\n",
       " {'127': ['the', 'DT']},\n",
       " {'128': ['Gold', 'NNP']},\n",
       " {'129': ['Dome', 'NNP']},\n",
       " {'130': [')', '-RRB-']},\n",
       " {'131': [',', ',']},\n",
       " {'132': ['is', 'VBZ']},\n",
       " {'133': ['a', 'DT']},\n",
       " {'134': ['simple', 'JJ']},\n",
       " {'135': [',', ',']},\n",
       " {'136': ['modern', 'JJ']},\n",
       " {'137': ['stone', 'NN']},\n",
       " {'138': ['statue', 'NN']},\n",
       " {'139': ['of', 'IN']},\n",
       " {'140': ['Mary', 'NNP']},\n",
       " {'141': ['.', '.']}]"
      ]
     },
     "execution_count": 36,
     "metadata": {},
     "output_type": "execute_result"
    }
   ],
   "source": [
    "data[0][\"POS_context\"]"
   ]
  },
  {
   "cell_type": "code",
   "execution_count": 8,
   "metadata": {},
   "outputs": [],
   "source": [
    "def check_square_brackets(data):\n",
    "    count = 0 \n",
    "\n",
    "    for example_index in range(len(data)):\n",
    "        if \"[\" in data[example_index][\"context\"] or \"]\" in data[example_index][\"context\"]:\n",
    "            count += 1\n",
    "\n",
    "    print(f\"Number of examples that contain a square bracket: {count}\")"
   ]
  },
  {
   "cell_type": "code",
   "execution_count": 9,
   "metadata": {},
   "outputs": [
    {
     "name": "stdout",
     "output_type": "stream",
     "text": [
      "Number of examples that contain a square bracket: 7042\n"
     ]
    }
   ],
   "source": [
    "check_square_brackets(data)"
   ]
  },
  {
   "cell_type": "markdown",
   "metadata": {},
   "source": [
    "### 2. Analyze named entities"
   ]
  },
  {
   "cell_type": "code",
   "execution_count": 6,
   "metadata": {},
   "outputs": [],
   "source": [
    "def count_ner_number(data):\n",
    "    ner_number = []\n",
    "\n",
    "    for example in data:\n",
    "        for word_ners in example[\"NER_context\"]:\n",
    "            ner_number.append(len(list(word_ners.values())[0]))\n",
    "\n",
    "    words_no = len(ner_number)\n",
    "    print(\"Percentage of words that have a specific number of named entities:\")\n",
    "\n",
    "    for number in range(1, len(set(ner_number))+ 1):\n",
    "        print(f\"{number} - {round(Counter(ner_number)[number] / words_no * 100, 2)}%\")"
   ]
  },
  {
   "cell_type": "code",
   "execution_count": 7,
   "metadata": {},
   "outputs": [
    {
     "name": "stdout",
     "output_type": "stream",
     "text": [
      "Percentage of words that have a specific number of named entities:\n",
      "1 - 76.5%\n",
      "2 - 19.07%\n",
      "3 - 3.87%\n",
      "4 - 0.52%\n",
      "5 - 0.03%\n",
      "6 - 0.0%\n"
     ]
    }
   ],
   "source": [
    "count_ner_number(data)"
   ]
  },
  {
   "cell_type": "code",
   "execution_count": 68,
   "metadata": {},
   "outputs": [
    {
     "data": {
      "text/plain": [
       "[{'0': [['Super', 'B-MISC', '0.9410769']]},\n",
       " {'1': [['Bowl', 'E-MISC', '0.98900163']]},\n",
       " {'5': [['American', 'S-MISC', '0.9956988']]},\n",
       " {'14': [['National', 'B-MISC', '0.5022688'],\n",
       "   ['National', 'B-LOC', '0.24889919'],\n",
       "   ['National', 'B-ORG', '0.19581686']]},\n",
       " {'15': [['Football', 'I-MISC', '0.6923045'],\n",
       "   ['Football', 'I-ORG', '0.18027079'],\n",
       "   ['Football', 'I-LOC', '0.12511595']]},\n",
       " {'16': [['League', 'E-ORG', '0.60113037'],\n",
       "   ['League', 'E-MISC', '0.38968554']]},\n",
       " {'18': [['NFL', 'S-ORG', '0.99872464']]},\n",
       " {'26': [['American', 'B-MISC', '0.7453571'],\n",
       "   ['American', 'B-ORG', '0.13586394']]},\n",
       " {'27': [['Football', 'I-MISC', '0.9433532']]},\n",
       " {'28': [['Conference', 'E-MISC', '0.74766535'],\n",
       "   ['Conference', 'I-MISC', '0.13813968'],\n",
       "   ['Conference', 'E-ORG', '0.11040713']]},\n",
       " {'30': [['AFC', 'S-ORG', '0.9421894']]},\n",
       " {'33': [['Denver', 'B-ORG', '0.9724425']]},\n",
       " {'34': [['Broncos', 'E-ORG', '0.99889153']]},\n",
       " {'37': [['National', 'B-MISC', '0.53137046'],\n",
       "   ['National', 'B-ORG', '0.20756759']]},\n",
       " {'38': [['Football', 'I-MISC', '0.8036686'],\n",
       "   ['Football', 'I-ORG', '0.14736286']]},\n",
       " {'39': [['Conference', 'E-ORG', '0.6919609'],\n",
       "   ['Conference', 'E-MISC', '0.22782266']]},\n",
       " {'41': [['NFC', 'S-ORG', '0.97985816']]},\n",
       " {'44': [['Carolina', 'B-ORG', '0.9926184']]},\n",
       " {'45': [['Panthers', 'E-ORG', '0.99999416']]},\n",
       " {'53': [['Super', 'B-MISC', '0.9412749']]},\n",
       " {'54': [['Bowl', 'E-MISC', '0.99953234']]},\n",
       " {'68': [['Levi', 'B-LOC', '0.5198318'], ['Levi', 'B-ORG', '0.4700877']]},\n",
       " {'69': [[\"'s\", 'I-LOC', '0.7728479'], [\"'s\", 'I-ORG', '0.2078569']]},\n",
       " {'70': [['Stadium', 'E-LOC', '0.9958553']]},\n",
       " {'73': [['San', 'B-LOC', '0.99813193']]},\n",
       " {'74': [['Francisco', 'I-LOC', '0.998701']]},\n",
       " {'75': [['Bay', 'I-LOC', '0.98623264']]},\n",
       " {'76': [['Area', 'E-LOC', '0.9872902']]},\n",
       " {'78': [['Santa', 'B-LOC', '0.99802846']]},\n",
       " {'79': [['Clara', 'E-LOC', '0.9998759']]},\n",
       " {'81': [['California', 'S-LOC', '0.99995124']]},\n",
       " {'88': [['Super', 'B-MISC', '0.7794893'], ['Super', 'I-MISC', '0.1396524']]},\n",
       " {'89': [['Bowl', 'E-MISC', '0.9993761']]},\n",
       " {'114': [['Super', 'B-MISC', '0.9070479']]},\n",
       " {'115': [['Bowl', 'E-MISC', '0.99895644']]},\n",
       " {'118': [['Roman', 'S-MISC', '0.83972603'],\n",
       "   ['Roman', 'B-MISC', '0.14373034']]},\n",
       " {'119': [['numerals', 'E-MISC', '0.2584062']]},\n",
       " {'131': [['Super', 'B-MISC', '0.76884437']]},\n",
       " {'132': [['Bowl', 'E-MISC', '0.78716815'], ['Bowl', 'I-MISC', '0.19517775']]},\n",
       " {'133': [['L', 'I-MISC', '0.2165827']]},\n",
       " {'144': [['Arabic', 'S-MISC', '0.9983393']]}]"
      ]
     },
     "execution_count": 68,
     "metadata": {},
     "output_type": "execute_result"
    }
   ],
   "source": [
    "data[0][\"NER_context\"]"
   ]
  },
  {
   "cell_type": "code",
   "execution_count": 20,
   "metadata": {},
   "outputs": [
    {
     "name": "stdout",
     "output_type": "stream",
     "text": [
      "2023-10-20 19:14:53,106 SequenceTagger predicts: Dictionary with 20 tags: <unk>, O, S-ORG, S-MISC, B-PER, E-PER, S-LOC, B-ORG, E-ORG, I-PER, S-PER, B-MISC, I-MISC, E-MISC, I-ORG, B-LOC, E-LOC, I-LOC, <START>, <STOP>\n"
     ]
    }
   ],
   "source": [
    "tagger = SequenceTagger.load(\"ner-fast\")"
   ]
  },
  {
   "cell_type": "code",
   "execution_count": 28,
   "metadata": {},
   "outputs": [
    {
     "name": "stdout",
     "output_type": "stream",
     "text": [
      "Sentence[147]: \"Super Bowl 50 was an American football game to determine the champion of the National Football League (NFL) for the 2015 season. The American Football Conference (AFC) champion Denver Broncos defeated the National Football Conference (NFC) champion Carolina Panthers 24–10 to earn their third Super Bowl title. The game was played on February 7, 2016, at Levis Stadium in the San Francisco Bay Area at Santa Clara, California. As this was the 50th Super Bowl, the league emphasized the \"golden anniversary\" with various gold-themed initiatives, as well as temporarily suspending the tradition of naming each Super Bowl game with Roman numerals (under which the game would have been known as \"Super Bowl L\"), so that the logo could prominently feature the Arabic numerals 50.\" → [\"Super Bowl\"/MISC, \"American\"/MISC, \"National Football League\"/ORG, \"NFL\"/ORG, \"American Football Conference\"/MISC, \"AFC\"/ORG, \"Denver Broncos\"/ORG, \"National Football Conference\"/ORG, \"NFC\"/ORG, \"Carolina Panthers\"/ORG, \"Super Bowl\"/MISC, \"Levis Stadium\"/LOC, \"San Francisco Bay Area\"/LOC, \"Santa Clara\"/LOC, \"California\"/LOC, \"Super Bowl\"/MISC, \"Super Bowl\"/MISC, \"Roman\"/MISC, \"Super Bowl\"/MISC, \"Arabic\"/MISC]\n"
     ]
    }
   ],
   "source": [
    "sentence = Sentence('Super Bowl 50 was an American football game to determine the champion of the National Football League (NFL) for the 2015 season. The American Football Conference (AFC) champion Denver Broncos defeated the National Football Conference (NFC) champion Carolina Panthers 24–10 to earn their third Super Bowl title. The game was played on February 7, 2016, at Levis Stadium in the San Francisco Bay Area at Santa Clara, California. As this was the 50th Super Bowl, the league emphasized the \"golden anniversary\" with various gold-themed initiatives, as well as temporarily suspending the tradition of naming each Super Bowl game with Roman numerals (under which the game would have been known as \"Super Bowl L\"), so that the logo could prominently feature the Arabic numerals 50.')\n",
    "tagger.predict(sentence)\n",
    "print(sentence)"
   ]
  },
  {
   "cell_type": "markdown",
   "metadata": {},
   "source": [
    "### 3. Analyze TinyBERT tokenizer"
   ]
  },
  {
   "cell_type": "code",
   "execution_count": 107,
   "metadata": {},
   "outputs": [
    {
     "name": "stderr",
     "output_type": "stream",
     "text": [
      "Special tokens have been added in the vocabulary, make sure the associated word embeddings are fine-tuned or trained.\n"
     ]
    },
    {
     "data": {
      "text/plain": [
       "['[CLS]',\n",
       " '[SEP]',\n",
       " 'super',\n",
       " 'bowl',\n",
       " '50',\n",
       " 'was',\n",
       " 'an',\n",
       " 'american',\n",
       " 'football',\n",
       " 'game',\n",
       " 'to',\n",
       " 'determine',\n",
       " 'the',\n",
       " 'champion',\n",
       " 'of',\n",
       " 'the',\n",
       " 'national',\n",
       " 'football',\n",
       " 'league',\n",
       " '(',\n",
       " 'nfl',\n",
       " ')',\n",
       " 'for',\n",
       " 'the',\n",
       " '2015',\n",
       " 'season',\n",
       " '.',\n",
       " 'the',\n",
       " 'american',\n",
       " 'football',\n",
       " 'conference',\n",
       " '(',\n",
       " 'afc',\n",
       " ')',\n",
       " 'champion',\n",
       " 'denver',\n",
       " 'broncos',\n",
       " 'defeated',\n",
       " 'the',\n",
       " 'national',\n",
       " 'football',\n",
       " 'conference',\n",
       " '(',\n",
       " 'nfc',\n",
       " ')',\n",
       " 'champion',\n",
       " 'carolina',\n",
       " 'panthers',\n",
       " '24',\n",
       " '–',\n",
       " '10',\n",
       " 'to',\n",
       " 'earn',\n",
       " 'their',\n",
       " 'third',\n",
       " 'super',\n",
       " 'bowl',\n",
       " 'title',\n",
       " '.',\n",
       " 'the',\n",
       " 'game',\n",
       " 'was',\n",
       " 'played',\n",
       " 'on',\n",
       " 'february',\n",
       " '7',\n",
       " ',',\n",
       " '2016',\n",
       " ',',\n",
       " 'at',\n",
       " 'levi',\n",
       " \"'\",\n",
       " 's',\n",
       " 'stadium',\n",
       " 'in',\n",
       " 'the',\n",
       " 'san',\n",
       " 'francisco',\n",
       " 'bay',\n",
       " 'area',\n",
       " 'at',\n",
       " 'santa',\n",
       " 'clara',\n",
       " ',',\n",
       " 'california',\n",
       " '.',\n",
       " 'as',\n",
       " 'this',\n",
       " 'was',\n",
       " 'the',\n",
       " '50th',\n",
       " 'super',\n",
       " 'bowl',\n",
       " ',',\n",
       " 'the',\n",
       " 'league',\n",
       " 'emphasized',\n",
       " 'the',\n",
       " '\"',\n",
       " 'golden',\n",
       " 'anniversary',\n",
       " '\"',\n",
       " 'with',\n",
       " 'various',\n",
       " 'gold',\n",
       " '-',\n",
       " 'themed',\n",
       " 'initiatives',\n",
       " ',',\n",
       " 'as',\n",
       " 'well',\n",
       " 'as',\n",
       " 'temporarily',\n",
       " 'suspend',\n",
       " '##ing',\n",
       " 'the',\n",
       " 'tradition',\n",
       " 'of',\n",
       " 'naming',\n",
       " 'each',\n",
       " 'super',\n",
       " 'bowl',\n",
       " 'game',\n",
       " 'with',\n",
       " 'roman',\n",
       " 'nu',\n",
       " '##meral',\n",
       " '##s',\n",
       " '(',\n",
       " 'under',\n",
       " 'which',\n",
       " 'the',\n",
       " 'game',\n",
       " 'would',\n",
       " 'have',\n",
       " 'been',\n",
       " 'known',\n",
       " 'as',\n",
       " '\"',\n",
       " 'super',\n",
       " 'bowl',\n",
       " 'l',\n",
       " '\"',\n",
       " ')',\n",
       " ',',\n",
       " 'so',\n",
       " 'that',\n",
       " 'the',\n",
       " 'logo',\n",
       " 'could',\n",
       " 'prominently',\n",
       " 'feature',\n",
       " 'the',\n",
       " 'arabic',\n",
       " 'nu',\n",
       " '##meral',\n",
       " '##s',\n",
       " '50',\n",
       " '.',\n",
       " '[SEP]']"
      ]
     },
     "execution_count": 107,
     "metadata": {},
     "output_type": "execute_result"
    }
   ],
   "source": [
    "tokenizer = AutoTokenizer.from_pretrained(\"../../models/fine_tuned_tiny_bert_8_0.0003_tokenizer/\")\n",
    "\n",
    "input_ids = tokenizer.encode(\"\", 'Super Bowl 50 was an American football game to determine the champion of the National Football League (NFL) for the 2015 season. The American Football Conference (AFC) champion Denver Broncos defeated the National Football Conference (NFC) champion Carolina Panthers 24–10 to earn their third Super Bowl title. The game was played on February 7, 2016, at Levi\\'s Stadium in the San Francisco Bay Area at Santa Clara, California. As this was the 50th Super Bowl, the league emphasized the \"golden anniversary\" with various gold-themed initiatives, as well as temporarily suspending the tradition of naming each Super Bowl game with Roman numerals (under which the game would have been known as \"Super Bowl L\"), so that the logo could prominently feature the Arabic numerals 50.')\n",
    "\n",
    "tokens = tokenizer.convert_ids_to_tokens(input_ids)\n",
    "tokens"
   ]
  },
  {
   "cell_type": "code",
   "execution_count": 29,
   "metadata": {},
   "outputs": [
    {
     "name": "stderr",
     "output_type": "stream",
     "text": [
      "Special tokens have been added in the vocabulary, make sure the associated word embeddings are fine-tuned or trained.\n"
     ]
    },
    {
     "data": {
      "text/plain": [
       "['[CLS]',\n",
       " '[SEP]',\n",
       " 'super',\n",
       " 'bowl',\n",
       " '[SYM]',\n",
       " ',',\n",
       " '50',\n",
       " ',',\n",
       " 'was',\n",
       " 'an',\n",
       " 'american',\n",
       " 'football',\n",
       " '[SEP]']"
      ]
     },
     "execution_count": 29,
     "metadata": {},
     "output_type": "execute_result"
    }
   ],
   "source": [
    "tokenizer = AutoTokenizer.from_pretrained(\"../../models/fine_tuned_tiny_bert_8_0.0003_tokenizer/\")\n",
    "tokenizer.add_tokens([\"[SYM]\"])\n",
    "\n",
    "input_ids = tokenizer.encode(\"\", 'Super Bowl [SYM], 50, was an American football')\n",
    "\n",
    "tokens = tokenizer.convert_ids_to_tokens(input_ids)\n",
    "tokens"
   ]
  },
  {
   "cell_type": "markdown",
   "metadata": {},
   "source": [
    "### 4. Compare Flair and TinyBERT tokenizers"
   ]
  },
  {
   "cell_type": "code",
   "execution_count": 104,
   "metadata": {},
   "outputs": [
    {
     "name": "stdout",
     "output_type": "stream",
     "text": [
      "Reconstructed context processed by TinyBERT tokenizer:\n",
      "super bowl 50 was an american football game to determine the champion of the national football league ( nfl ) for the 2015 season . the american football conference ( afc ) champion denver broncos defeated the national football conference ( nfc ) champion carolina panthers 24 – 10 to earn their third super bowl title . the game was played on february 7 , 2016 , at levi ' s stadium in the san francisco bay area at santa clara , california . as this was the 50th super bowl , the league emphasized the \" golden anniversary \" with various gold - themed initiatives , as well as temporarily suspending the tradition of naming each super bowl game with roman numerals ( under which the game would have been known as \" super bowl l \" ) , so that the logo could prominently feature the arabic numerals 50 .\n",
      "\n",
      "Reconstructed context processed by Flair:\n",
      "Super Bowl 50 was an American football game to determine the champion of the National Football League ( NFL ) for the 2015 season . The American Football Conference ( AFC ) champion Denver Broncos defeated the National Football Conference ( NFC ) champion Carolina Panthers 24 – 10 to earn their third Super Bowl title . The game was played on February 7 , 2016 , at Levi 's Stadium in the San Francisco Bay Area at Santa Clara , California . As this was the 50th Super Bowl , the league emphasized the \" golden anniversary \" with various gold-themed initiatives , as well as temporarily suspending the tradition of naming each Super Bowl game with Roman numerals ( under which the game would have been known as \" Super Bowl L \") , so that the logo could prominently feature the Arabic numerals 50 . \n"
     ]
    }
   ],
   "source": [
    "reconstructed_context_tokenizer = \" \".join(tokens).replace(\" ##\", \"\").replace(\"[SEP]\", \"\").replace(\"[CLS]\", \"\").replace(\"  \", \" \").strip(\" \")\n",
    "print(f\"Reconstructed context processed by TinyBERT tokenizer:\\n{reconstructed_context_tokenizer}\")\n",
    "print(f\"\\nReconstructed context processed by Flair:\\n{reconstructed_context}\")"
   ]
  },
  {
   "cell_type": "code",
   "execution_count": 106,
   "metadata": {},
   "outputs": [
    {
     "data": {
      "text/plain": [
       "[('super', 'Super'),\n",
       " ('bowl', 'Bowl'),\n",
       " ('50', '50'),\n",
       " ('was', 'was'),\n",
       " ('an', 'an'),\n",
       " ('american', 'American'),\n",
       " ('football', 'football'),\n",
       " ('game', 'game'),\n",
       " ('to', 'to'),\n",
       " ('determine', 'determine'),\n",
       " ('the', 'the'),\n",
       " ('champion', 'champion'),\n",
       " ('of', 'of'),\n",
       " ('the', 'the'),\n",
       " ('national', 'National'),\n",
       " ('football', 'Football'),\n",
       " ('league', 'League'),\n",
       " ('(', '('),\n",
       " ('nfl', 'NFL'),\n",
       " (')', ')'),\n",
       " ('for', 'for'),\n",
       " ('the', 'the'),\n",
       " ('2015', '2015'),\n",
       " ('season', 'season'),\n",
       " ('.', '.'),\n",
       " ('the', 'The'),\n",
       " ('american', 'American'),\n",
       " ('football', 'Football'),\n",
       " ('conference', 'Conference'),\n",
       " ('(', '('),\n",
       " ('afc', 'AFC'),\n",
       " (')', ')'),\n",
       " ('champion', 'champion'),\n",
       " ('denver', 'Denver'),\n",
       " ('broncos', 'Broncos'),\n",
       " ('defeated', 'defeated'),\n",
       " ('the', 'the'),\n",
       " ('national', 'National'),\n",
       " ('football', 'Football'),\n",
       " ('conference', 'Conference'),\n",
       " ('(', '('),\n",
       " ('nfc', 'NFC'),\n",
       " (')', ')'),\n",
       " ('champion', 'champion'),\n",
       " ('carolina', 'Carolina'),\n",
       " ('panthers', 'Panthers'),\n",
       " ('24', '24'),\n",
       " ('–', '–'),\n",
       " ('10', '10'),\n",
       " ('to', 'to'),\n",
       " ('earn', 'earn'),\n",
       " ('their', 'their'),\n",
       " ('third', 'third'),\n",
       " ('super', 'Super'),\n",
       " ('bowl', 'Bowl'),\n",
       " ('title', 'title'),\n",
       " ('.', '.'),\n",
       " ('the', 'The'),\n",
       " ('game', 'game'),\n",
       " ('was', 'was'),\n",
       " ('played', 'played'),\n",
       " ('on', 'on'),\n",
       " ('february', 'February'),\n",
       " ('7', '7'),\n",
       " (',', ','),\n",
       " ('2016', '2016'),\n",
       " (',', ','),\n",
       " ('at', 'at'),\n",
       " ('levi', 'Levi'),\n",
       " (\"'\", \"'s\"),\n",
       " ('s', 'Stadium'),\n",
       " ('stadium', 'in'),\n",
       " ('in', 'the'),\n",
       " ('the', 'San'),\n",
       " ('san', 'Francisco'),\n",
       " ('francisco', 'Bay'),\n",
       " ('bay', 'Area'),\n",
       " ('area', 'at'),\n",
       " ('at', 'Santa'),\n",
       " ('santa', 'Clara'),\n",
       " ('clara', ','),\n",
       " (',', 'California'),\n",
       " ('california', '.'),\n",
       " ('.', 'As'),\n",
       " ('as', 'this'),\n",
       " ('this', 'was'),\n",
       " ('was', 'the'),\n",
       " ('the', '50th'),\n",
       " ('50th', 'Super'),\n",
       " ('super', 'Bowl'),\n",
       " ('bowl', ','),\n",
       " (',', 'the'),\n",
       " ('the', 'league'),\n",
       " ('league', 'emphasized'),\n",
       " ('emphasized', 'the'),\n",
       " ('the', '\"'),\n",
       " ('\"', 'golden'),\n",
       " ('golden', 'anniversary'),\n",
       " ('anniversary', '\"'),\n",
       " ('\"', 'with'),\n",
       " ('with', 'various'),\n",
       " ('various', 'gold-themed'),\n",
       " ('gold', 'initiatives'),\n",
       " ('-', ','),\n",
       " ('themed', 'as'),\n",
       " ('initiatives', 'well'),\n",
       " (',', 'as'),\n",
       " ('as', 'temporarily'),\n",
       " ('well', 'suspending'),\n",
       " ('as', 'the'),\n",
       " ('temporarily', 'tradition'),\n",
       " ('suspending', 'of'),\n",
       " ('the', 'naming'),\n",
       " ('tradition', 'each'),\n",
       " ('of', 'Super'),\n",
       " ('naming', 'Bowl'),\n",
       " ('each', 'game'),\n",
       " ('super', 'with'),\n",
       " ('bowl', 'Roman'),\n",
       " ('game', 'numerals'),\n",
       " ('with', '('),\n",
       " ('roman', 'under'),\n",
       " ('numerals', 'which'),\n",
       " ('(', 'the'),\n",
       " ('under', 'game'),\n",
       " ('which', 'would'),\n",
       " ('the', 'have'),\n",
       " ('game', 'been'),\n",
       " ('would', 'known'),\n",
       " ('have', 'as'),\n",
       " ('been', '\"'),\n",
       " ('known', 'Super'),\n",
       " ('as', 'Bowl'),\n",
       " ('\"', 'L'),\n",
       " ('super', '\")'),\n",
       " ('bowl', ','),\n",
       " ('l', 'so'),\n",
       " ('\"', 'that'),\n",
       " (')', 'the'),\n",
       " (',', 'logo'),\n",
       " ('so', 'could'),\n",
       " ('that', 'prominently'),\n",
       " ('the', 'feature'),\n",
       " ('logo', 'the'),\n",
       " ('could', 'Arabic'),\n",
       " ('prominently', 'numerals'),\n",
       " ('feature', '50'),\n",
       " ('the', '.'),\n",
       " ('arabic', '')]"
      ]
     },
     "execution_count": 106,
     "metadata": {},
     "output_type": "execute_result"
    }
   ],
   "source": [
    "list(zip(reconstructed_context_tokenizer.split(\" \"), reconstructed_context.split(\" \")))"
   ]
  },
  {
   "cell_type": "markdown",
   "metadata": {},
   "source": [
    "### 5. Check answers"
   ]
  },
  {
   "cell_type": "code",
   "execution_count": 22,
   "metadata": {},
   "outputs": [
    {
     "name": "stdout",
     "output_type": "stream",
     "text": [
      "2 [279] [59, 152, 279]\n",
      "6 [441] [298, 441]\n",
      "7 [598] [598, 778, 947, 1226]\n",
      "8 [126] [126, 1253]\n",
      "11 [145] [145, 521, 649]\n",
      "18 [271] [271, 548]\n",
      "39 [109] [109, 481]\n",
      "45 [362] [33, 362, 1223]\n",
      "69 [118] [118, 789]\n",
      "79 [136] [136, 905]\n",
      "89 [90] [90, 508]\n",
      "98 [117] [117, 426]\n",
      "107 [842] [842, 1020]\n",
      "112 [587] [587, 716]\n",
      "120 [262] []\n",
      "130 [403] []\n",
      "131 [576] []\n",
      "133 [6] [6, 156]\n",
      "137 [596] []\n",
      "147 [535] []\n",
      "171 [4] [4, 388]\n",
      "196 [294] [62, 294]\n",
      "200 [3] [3, 303]\n",
      "212 [128] [128, 407]\n",
      "213 [440] [379, 440]\n",
      "214 [42] []\n",
      "224 [239] [239, 812]\n",
      "229 [50] [50, 93]\n",
      "230 [223] []\n",
      "233 [657] [657, 875]\n",
      "238 [441] [441, 536, 779]\n",
      "242 [506] [7, 318, 397, 506]\n",
      "263 [40] [12, 40]\n",
      "293 [586] [586, 695]\n",
      "294 [180] [180, 659, 895]\n",
      "300 [466] [466, 524]\n",
      "304 [736] [736, 850]\n",
      "311 [552] [552, 736, 753, 850, 894, 970, 979, 1057]\n",
      "341 [537] [537, 1120]\n",
      "346 [192] [192, 446]\n",
      "348 [537] [537, 1120]\n",
      "351 [848] [848, 963]\n",
      "356 [849] [849, 964]\n",
      "360 [330] [330, 593]\n",
      "361 [688] [688, 1327]\n",
      "363 [169] [169, 357, 564]\n",
      "370 [149] [149, 511, 685, 801]\n",
      "378 [593] [593, 892]\n",
      "381 [593] [593, 892]\n",
      "400 [193] [193, 861]\n",
      "402 [474] [474, 936]\n",
      "404 [48] [48, 500]\n",
      "405 [193] [193, 861]\n",
      "408 [48] [48, 500]\n",
      "410 [474] [474, 936]\n",
      "412 [696] [696, 747]\n",
      "413 [513] [513, 664, 848]\n",
      "416 [664] [513, 664, 848]\n",
      "422 [848] [513, 664, 848]\n",
      "430 [28] [28, 554]\n",
      "458 [156] [156, 224, 343]\n",
      "459 [605] [605, 1041]\n",
      "480 [372] [372, 609]\n",
      "499 [3] [3, 490]\n",
      "505 [3] [3, 490]\n",
      "512 [51] [51, 691]\n",
      "519 [51] [51, 691]\n",
      "520 [24] [24, 67, 420, 793, 860]\n",
      "566 [810] [810, 941]\n",
      "571 [784] [784, 1315]\n",
      "576 [770] [770, 939]\n",
      "579 [770] [770, 939]\n",
      "582 [770] [770, 939]\n",
      "583 [770] [770, 939]\n",
      "588 [770] [770, 939]\n",
      "598 [825] [825, 912]\n",
      "600 [62] [62, 217, 359, 807]\n",
      "604 [825] [825, 912]\n",
      "609 [912] [825, 912]\n",
      "610 [40] [40, 451]\n",
      "623 [160] [160, 562]\n",
      "626 [160] [160, 562]\n",
      "631 [160] [160, 562]\n",
      "647 [38] [38, 420]\n",
      "657 [3] [3, 384]\n",
      "671 [1460] [1460, 1563, 1577, 1700]\n",
      "674 [0] [0, 416, 584, 1410, 1611]\n",
      "678 [0] [0, 416, 584, 1410, 1611]\n",
      "681 [1204] [1204, 1688]\n",
      "685 [546] [546, 714]\n",
      "688 [714] [546, 714]\n",
      "694 [29] [29, 145]\n",
      "696 [307] [307, 381]\n",
      "699 [29] [29, 145]\n",
      "701 [307] [307, 381]\n",
      "702 [369] [369, 431]\n",
      "703 [29] [29, 145]\n",
      "704 [307] [307, 381]\n",
      "706 [431] [369, 431]\n",
      "716 [205] [205, 613]\n",
      "721 [221] [221, 452]\n",
      "726 [260] [260, 793]\n",
      "728 [14] [14, 293]\n",
      "730 [14] [14, 293]\n",
      "732 [14] [14, 293]\n",
      "734 [14] [14, 293]\n",
      "735 [14] [14, 293]\n",
      "757 [431] [431, 501]\n",
      "758 [621] [621, 707]\n",
      "762 [3] [3, 347]\n",
      "773 [36] [36, 617]\n",
      "779 [139] [139, 475, 621]\n",
      "785 [475] [139, 475, 621]\n",
      "823 [4] [4, 153]\n",
      "825 [4] [4, 153]\n",
      "875 [959] [959, 1028]\n",
      "888 [0] [0, 321, 890]\n",
      "899 [16] [16, 306, 568, 728, 1009]\n",
      "900 [159] [159, 666]\n",
      "906 [306] [306, 568]\n",
      "908 [16] [16, 306, 568, 728, 1009]\n",
      "910 [247] []\n",
      "911 [756] [756, 1071]\n",
      "912 [24] [24, 199]\n",
      "914 [206] []\n",
      "920 [24] [24, 199]\n",
      "921 [171] []\n",
      "922 [206] []\n",
      "925 [0] [0, 200, 398, 458, 508]\n",
      "926 [247] [247, 497, 631, 670]\n",
      "929 [247] [247, 497, 631, 670]\n",
      "930 [452] [452, 568]\n",
      "935 [247] [247, 497, 631, 670]\n",
      "944 [109] [109, 318]\n",
      "951 [153] [153, 218, 273]\n",
      "954 [153] [153, 218, 273]\n",
      "962 [129] [129, 267, 451, 902]\n",
      "966 [12] [12, 366]\n",
      "971 [12] [12, 366]\n",
      "975 [12] [12, 366]\n",
      "976 [526] [43, 224, 491, 526, 543]\n",
      "988 [110] [110, 156]\n",
      "991 [126] [123, 126]\n",
      "993 [110] [110, 156]\n",
      "1000 [190] []\n",
      "1003 [190] []\n",
      "1008 [253] []\n",
      "1027 [112] []\n",
      "1028 [370] [370, 388]\n",
      "1042 [737] [563, 737]\n",
      "1054 [485] [4, 485]\n",
      "1059 [119] [119, 296, 383]\n",
      "1063 [58] [58, 536]\n",
      "1080 [696] []\n",
      "1090 [111] [111, 250]\n",
      "1098 [251] [251, 474]\n",
      "1106 [113] [113, 351]\n",
      "1108 [171] [171, 569, 625]\n",
      "1110 [414] [414, 1246]\n",
      "1126 [442] [442, 595]\n",
      "1127 [656] [626, 656]\n",
      "1128 [0] [0, 88, 223, 304, 525, 1389]\n",
      "1130 [240] [240, 337, 536, 1474]\n",
      "1150 [572] [531, 572]\n",
      "1154 [261] [182, 261]\n",
      "1155 [393] [339, 393, 588, 747]\n",
      "1158 [88] [88, 238]\n",
      "1162 [143] []\n",
      "1167 [60] [8, 60]\n",
      "1168 [113] [113, 134, 152]\n",
      "1170 [430] [430, 547]\n",
      "1180 [187] [187, 323]\n",
      "1193 [194] [194, 241]\n",
      "1218 [391] []\n",
      "1225 [435] []\n",
      "1245 [0] [0, 553]\n",
      "1252 [349] [28, 349]\n",
      "1256 [190] [190, 483]\n",
      "1257 [373] [373, 612]\n",
      "1258 [596] [303, 596]\n",
      "1267 [522] [278, 522]\n",
      "1273 [276] [276, 692]\n",
      "1278 [298] [298, 415]\n",
      "1295 [4] []\n",
      "1322 [605] [605, 734, 773]\n",
      "1326 [605] [605, 734, 773]\n",
      "1387 [57] [57, 590, 1005]\n",
      "1390 [858] [858, 1391]\n",
      "1392 [57] [57, 590, 1005]\n",
      "1394 [858] [858, 1391]\n",
      "1400 [63] [63, 142]\n",
      "1412 [156] [156, 282]\n",
      "1414 [21] [21, 156, 282, 511]\n",
      "1421 [265] [265, 606]\n",
      "1425 [214] [214, 401]\n",
      "1430 [440] [39, 440]\n",
      "1437 [364] []\n",
      "1441 [246] []\n",
      "1443 [1045] []\n",
      "1454 [378] [119, 378]\n",
      "1456 [70] [70, 279]\n",
      "1466 [159] [159, 356, 985]\n",
      "1468 [356] [159, 356, 985]\n",
      "1476 [192] [9, 181, 192, 430]\n",
      "1479 [77] [77, 360, 574, 917]\n",
      "1490 [568] [568, 591, 734]\n",
      "1498 [568] [568, 591, 734]\n",
      "1507 [31] [31, 912]\n",
      "1519 [41] [41, 66, 98, 372]\n",
      "1524 [41] [41, 66, 98, 372]\n",
      "1528 [155] [155, 574]\n",
      "1529 [41] [41, 66, 98, 372]\n",
      "1530 [155] [155, 574]\n",
      "1533 [41] [41, 66, 98, 372]\n",
      "1534 [155] [155, 574]\n",
      "1565 [156] [156, 750]\n",
      "1566 [19] [19, 124, 497, 674]\n",
      "1571 [19] [19, 124, 497, 674]\n",
      "1604 [137] [137, 281]\n",
      "1608 [137] [137, 281]\n",
      "1618 [497] [497, 823]\n",
      "1623 [497] [497, 823]\n",
      "1628 [497] [497, 823]\n",
      "1632 [110] [110, 275, 318]\n",
      "1639 [110] [110, 275, 318]\n",
      "1658 [633] []\n",
      "1663 [633] []\n",
      "1694 [343] [108, 343]\n",
      "1697 [234] [234, 372]\n",
      "1701 [234] [234, 372]\n",
      "1702 [108] [108, 343]\n",
      "1706 [173] [173, 229, 275, 423, 511, 540]\n",
      "1716 [173] [173, 229, 275, 423, 511, 540]\n",
      "1719 [3] [3, 166]\n",
      "1756 [137] [137, 1135]\n",
      "1765 [137] [137, 1135]\n",
      "1768 [749] [749, 1385, 1555, 1723]\n",
      "1771 [55] [55, 280, 301]\n",
      "1792 [243] [243, 338, 386, 615, 993, 1123, 1268]\n",
      "1793 [243] [243, 338, 386, 615, 993, 1123, 1268]\n",
      "1799 [747] [747, 916]\n",
      "1806 [747] [747, 916]\n",
      "1818 [680] [680, 1047]\n",
      "1823 [272] [272, 447]\n",
      "1825 [3] [3, 370, 625, 673, 680]\n",
      "1826 [5] [5, 324]\n",
      "1829 [5] [5, 324]\n",
      "1830 [265] [265, 350]\n",
      "1861 [221] [221, 330]\n",
      "1862 [5] [5, 104]\n",
      "1867 [5] [5, 104]\n",
      "1879 [701] [701, 989]\n",
      "1886 [701] [701, 989]\n",
      "1890 [139] [139, 168]\n",
      "1892 [139] [139, 168]\n",
      "1921 [56] [56, 125, 232]\n",
      "1941 [0] [0, 217]\n",
      "1970 [66] [66, 324]\n"
     ]
    }
   ],
   "source": [
    "for index, line in enumerate(data):\n",
    "    if index > 2000:\n",
    "        break\n",
    "    \n",
    "    answer_text = line[\"answers\"][\"text\"][0]\n",
    "    answer_start = line[\"answers\"][\"answer_start\"]\n",
    "\n",
    "    try:\n",
    "        found_answer_start = [match.start() for match in re.finditer(answer_text, line[\"context\"])]\n",
    "\n",
    "        if len(found_answer_start) != 1:\n",
    "            print(index, answer_start, found_answer_start)\n",
    "    except:\n",
    "        pass\n"
   ]
  },
  {
   "cell_type": "code",
   "execution_count": 25,
   "metadata": {},
   "outputs": [
    {
     "data": {
      "text/plain": [
       "'Forbes magazine began reporting on Beyoncé\\'s earnings in 2008, calculating that the $80 million earned between June 2007 to June 2008, for her music, tour, films and clothing line made her the world\\'s best-paid music personality at the time, above Madonna and Celine Dion. They placed her fourth on the Celebrity 100 list in 2009 and ninth on the \"Most Powerful Women in the World\" list in 2010. The following year, Forbes placed her eighth on the \"Best-Paid Celebrities Under 30\" list, having earned $35 million in the past year for her clothing line and endorsement deals. In 2012, Forbes placed Beyoncé at number 16 on the Celebrity 100 list, twelve places lower than three years ago yet still having earned $40 million in the past year for her album 4, clothing line and endorsement deals. In the same year, Beyoncé and Jay Z placed at number one on the \"World\\'s Highest-Paid Celebrity Couples\", for collectively earning $78 million. The couple made it into the previous year\\'s Guinness World Records as the \"highest-earning power couple\" for collectively earning $122 million in 2009. For the years 2009 to 2011, Beyoncé earned an average of $70 million per year, and earned $40 million in 2012. In 2013, Beyoncé\\'s endorsements of Pepsi and H&M made her and Jay Z the world\\'s first billion dollar couple in the music industry. That year, Beyoncé was published as the fourth most-powerful celebrity in the Forbes rankings. MTV estimated that by the end of 2014, Beyoncé would become the highest-paid black musician in history; she succeeded to do so in April 2014. In June 2014, Beyoncé ranked at #1 on the Forbes Celebrity 100 list, earning an estimated $115 million throughout June 2013 – June 2014. This in turn was the first time she had topped the Celebrity 100 list as well as being her highest yearly earnings to date. As of May 2015, her net worth is estimated to be $250 million.'"
      ]
     },
     "execution_count": 25,
     "metadata": {},
     "output_type": "execute_result"
    }
   ],
   "source": [
    "data[678  ][\"context\"]"
   ]
  },
  {
   "cell_type": "code",
   "execution_count": 26,
   "metadata": {},
   "outputs": [
    {
     "data": {
      "text/plain": [
       "{'text': ['Forbes'], 'answer_start': [0]}"
      ]
     },
     "execution_count": 26,
     "metadata": {},
     "output_type": "execute_result"
    }
   ],
   "source": [
    "data[678  ][\"answers\"]"
   ]
  },
  {
   "cell_type": "markdown",
   "metadata": {},
   "source": [
    "### 6. Check space sequences"
   ]
  },
  {
   "cell_type": "code",
   "execution_count": 47,
   "metadata": {},
   "outputs": [
    {
     "name": "stdout",
     "output_type": "stream",
     "text": [
      "Found 2 spaces!\n",
      "Found 3 spaces!\n",
      "Found 4 spaces!\n"
     ]
    }
   ],
   "source": [
    "for space_no in range(2, 100):\n",
    "    found = False\n",
    "\n",
    "    for line in data:\n",
    "        index = line[\"context\"].find(space_no * \" \")\n",
    "        \n",
    "        \n",
    "        if index != -1:\n",
    "            found = True\n",
    "\n",
    "    if found:\n",
    "        print(f\"Found {space_no} spaces!\")            "
   ]
  },
  {
   "cell_type": "markdown",
   "metadata": {},
   "source": [
    "### 7. Check data quality pos between"
   ]
  },
  {
   "cell_type": "code",
   "execution_count": 91,
   "metadata": {},
   "outputs": [],
   "source": [
    "input_file_path = \"../../data/squad_data_train_pos_between.json\"\n",
    "data_enhanced = []\n",
    "\n",
    "with open(input_file_path) as f:\n",
    "    for line in f:\n",
    "        data_enhanced.append(json.loads(line))"
   ]
  },
  {
   "cell_type": "code",
   "execution_count": 92,
   "metadata": {},
   "outputs": [
    {
     "data": {
      "text/plain": [
       "87599"
      ]
     },
     "execution_count": 92,
     "metadata": {},
     "output_type": "execute_result"
    }
   ],
   "source": [
    "len(data_enhanced)"
   ]
  },
  {
   "cell_type": "code",
   "execution_count": 97,
   "metadata": {},
   "outputs": [
    {
     "name": "stderr",
     "output_type": "stream",
     "text": [
      "87599it [00:00, 161017.23it/s]\n"
     ]
    }
   ],
   "source": [
    "incorrect_answers_no = 0\n",
    "percentage_correct = []\n",
    "answers_no = []\n",
    "all_answers_lengths = []\n",
    "\n",
    "for i, line in tqdm(enumerate(data_enhanced)):\n",
    "    answers_start = line[\"answers\"][\"answer_start\"]\n",
    "    answers = line[\"answers\"][\"text\"]\n",
    "    answer_length = [len(answer) for answer in answers]\n",
    "\n",
    "    if not (len(answers_start) == len(answers) == len(answer_length)):\n",
    "        print(\"ERROR\")\n",
    "        break\n",
    "\n",
    "    correct_count = 0\n",
    "    none_correct = True\n",
    "\n",
    "    for answer_index in range(len(answers_start)):\n",
    "        answer_start = answers_start[answer_index]\n",
    "        answer =  answers[answer_index]\n",
    "        answer_length = len(answer)\n",
    "        all_answers_lengths.append(answer_length)\n",
    "\n",
    "        if line[\"context\"][answer_start: answer_start + answer_length] == answer:\n",
    "            none_correct = False\n",
    "            correct_count += 1\n",
    "\n",
    "    percentage_correct.append(correct_count / len(answers_start))\n",
    "    answers_no.append(len(answers_start))\n",
    "\n",
    "    if none_correct:\n",
    "        incorrect_answers_no += 1"
   ]
  },
  {
   "cell_type": "code",
   "execution_count": 94,
   "metadata": {},
   "outputs": [
    {
     "data": {
      "text/plain": [
       "(array([ 8555,  9235, 13197, 16195, 20602, 24474, 24834, 28706, 35360,\n",
       "        38796, 46166, 50215, 56427, 56933, 57744, 57821, 68953, 69416,\n",
       "        71030, 84048, 85409], dtype=int64),)"
      ]
     },
     "execution_count": 94,
     "metadata": {},
     "output_type": "execute_result"
    }
   ],
   "source": [
    "partial_incorrect_indices = np.where(np.array(percentage_correct) < 1.0)\n",
    "partial_incorrect_indices"
   ]
  },
  {
   "cell_type": "code",
   "execution_count": 95,
   "metadata": {},
   "outputs": [
    {
     "data": {
      "text/plain": [
       "21"
      ]
     },
     "execution_count": 95,
     "metadata": {},
     "output_type": "execute_result"
    }
   ],
   "source": [
    "incorrect_answers_no"
   ]
  },
  {
   "cell_type": "code",
   "execution_count": 99,
   "metadata": {},
   "outputs": [
    {
     "data": {
      "text/plain": [
       "{'whiskers': [<matplotlib.lines.Line2D at 0x18f09042e90>,\n",
       "  <matplotlib.lines.Line2D at 0x18f09043e10>],\n",
       " 'caps': [<matplotlib.lines.Line2D at 0x18f0904cc50>,\n",
       "  <matplotlib.lines.Line2D at 0x18f0904d790>],\n",
       " 'boxes': [<matplotlib.lines.Line2D at 0x18f09042350>],\n",
       " 'medians': [<matplotlib.lines.Line2D at 0x18f0904e2d0>],\n",
       " 'fliers': [<matplotlib.lines.Line2D at 0x18f0904edd0>],\n",
       " 'means': []}"
      ]
     },
     "execution_count": 99,
     "metadata": {},
     "output_type": "execute_result"
    },
    {
     "data": {
      "image/png": "[encoded data removed]",
      "text/plain": [
       "<Figure size 640x480 with 1 Axes>"
      ]
     },
     "metadata": {},
     "output_type": "display_data"
    }
   ],
   "source": [
    "plt.boxplot(all_answers_lengths)"
   ]
  }
 ],
 "metadata": {
  "kernelspec": {
   "display_name": "tiny_bert",
   "language": "python",
   "name": "python3"
  },
  "language_info": {
   "codemirror_mode": {
    "name": "ipython",
    "version": 3
   },
   "file_extension": ".py",
   "mimetype": "text/x-python",
   "name": "python",
   "nbconvert_exporter": "python",
   "pygments_lexer": "ipython3",
   "version": "3.11.5"
  }
 },
 "nbformat": 4,
 "nbformat_minor": 2
}
